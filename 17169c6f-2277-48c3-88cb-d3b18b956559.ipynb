{
 "cells": [
  {
   "cell_type": "markdown",
   "metadata": {},
   "source": [
    "<div style=\"padding: 30px 25px; border: 2px #6495ed solid\">\n",
    "    \n",
    "<b>Привет, Нурлан!</b>\n",
    "\n",
    "Меня зовут Алексей Косенко, и я буду проверять твой проект.\n",
    "    \n",
    "Предлагаю общаться на «<b>ты</b>», но если это неудобно — обязательно сообщи об этом.\n",
    "    \n",
    "Ниже ты увидишь мои комментарии, выделенные разным цветом:\n",
    "    \n",
    "<div class=\"alert alert-success\">\n",
    "<h2>Комментарий ревьюера<a class=\"tocSkip\"></a></h2>\n",
    "\n",
    "<b>Отлично!</b> ✔️: все ок, продолжай в том же духе :)\n",
    "\n",
    "</div>\n",
    "<div class=\"alert alert-warning\">\n",
    "<h2>Комментарий ревьюера<a class=\"tocSkip\"></a></h2>\n",
    "    \n",
    "<b>Есть совет</b> ⚠️: так выделены некритичные замечания или советы, которые смогут улучшить твой проект.\n",
    "\n",
    "</div>\n",
    "<div class=\"alert alert-danger\">\n",
    "<h2>Комментарий ревьюера<a class=\"tocSkip\"></a></h2>\n",
    "\n",
    "<b>Нужно доработать</b> ❌: так выделены важные замечания — без их исправления проект не может быть принят.\n",
    "    \n",
    "</div>\n",
    "\n",
    "Будет здорово, если ты будешь участвовать в диалоге, а свои вопросы, комментарии и изменения в проекте тоже будешь выделять, например, вот так:\n",
    "    \n",
    "<div class=\"alert alert-info\">\n",
    "    <b>Комментарий студента:</b> твой комментарий\n",
    "</div>\n",
    "    \n",
    "Пожалуйста, не перемещай и не удаляй мои комментарии, это усложнит повторную проверку.\n",
    "    \n",
    "</div>"
   ]
  },
  {
   "cell_type": "markdown",
   "metadata": {},
   "source": [
    "<div style=\"padding: 30px 25px; border: 2px #6495ed solid\">\n",
    "    \n",
    "<b>Еще раз привет!</b>\n",
    "\n",
    "Спасибо, что доделал работу, оформление комментариев остается тем же, только обозначим номер итерации: v2\n",
    "    \n",
    "</div>"
   ]
  },
  {
   "cell_type": "markdown",
   "metadata": {},
   "source": [
    "<div style=\"padding: 30px 25px; border: 2px #6495ed solid\">\n",
    "    \n",
    "<b>И снова здравствуй!</b>\n",
    "\n",
    "Все правила оформления те же, обозначим номер итерации: v3\n",
    "    \n",
    "</div>"
   ]
  },
  {
   "cell_type": "markdown",
   "metadata": {},
   "source": [
    "<div style=\"padding: 30px 25px; border: 2px #6495ed solid\">\n",
    "    \n",
    "<b>Нурлан, приветствую!</b>\n",
    "\n",
    "Все правила те же, номер итерации: v4\n",
    "    \n",
    "</div>"
   ]
  },
  {
   "cell_type": "markdown",
   "metadata": {},
   "source": [
    "<div style=\"padding: 30px 25px; border: 2px #6495ed solid\">\n",
    "    \n",
    "<b>Привет!</b>\n",
    "\n",
    "Спасибо за усердие! Номер итерации: v5\n",
    "    \n",
    "</div>"
   ]
  },
  {
   "cell_type": "markdown",
   "metadata": {},
   "source": [
    "# Прогнозирование оттока клиентов в сети отелей «Как в гостях»"
   ]
  },
  {
   "cell_type": "markdown",
   "metadata": {},
   "source": [
    "<div class=\"alert alert-warning\">\n",
    "<h2>Комментарий ревьюера<a class=\"tocSkip\"></a></h2>\n",
    "    \n",
    "**Есть совет** ⚠️: тут не хватает описания: опиши суть проекта и какие задачи нужно решить</div>"
   ]
  },
  {
   "cell_type": "markdown",
   "metadata": {},
   "source": [
    "### Шаг 1. Откройте файлы с данными"
   ]
  },
  {
   "cell_type": "code",
   "execution_count": 1,
   "metadata": {},
   "outputs": [],
   "source": [
    "import pandas as pd\n",
    "import numpy as np\n",
    "from sklearn.preprocessing import OrdinalEncoder\n",
    "from sklearn.tree import DecisionTreeClassifier\n",
    "from sklearn.ensemble import RandomForestClassifier\n",
    "from sklearn.linear_model import LogisticRegression\n",
    "from sklearn.model_selection import cross_val_score\n",
    "from sklearn.model_selection import GridSearchCV\n",
    "from sklearn.metrics import f1_score\n",
    "from sklearn.metrics import confusion_matrix\n",
    "import warnings\n",
    "warnings.filterwarnings('ignore')"
   ]
  },
  {
   "cell_type": "code",
   "execution_count": 2,
   "metadata": {},
   "outputs": [
    {
     "data": {
      "text/html": [
       "<div>\n",
       "<style scoped>\n",
       "    .dataframe tbody tr th:only-of-type {\n",
       "        vertical-align: middle;\n",
       "    }\n",
       "\n",
       "    .dataframe tbody tr th {\n",
       "        vertical-align: top;\n",
       "    }\n",
       "\n",
       "    .dataframe thead th {\n",
       "        text-align: right;\n",
       "    }\n",
       "</style>\n",
       "<table border=\"1\" class=\"dataframe\">\n",
       "  <thead>\n",
       "    <tr style=\"text-align: right;\">\n",
       "      <th></th>\n",
       "      <th>id</th>\n",
       "      <th>is_canceled</th>\n",
       "      <th>lead_time</th>\n",
       "      <th>arrival_date_year</th>\n",
       "      <th>arrival_date_month</th>\n",
       "      <th>arrival_date_week_number</th>\n",
       "      <th>arrival_date_day_of_month</th>\n",
       "      <th>stays_in_weekend_nights</th>\n",
       "      <th>stays_in_week_nights</th>\n",
       "      <th>adults</th>\n",
       "      <th>...</th>\n",
       "      <th>is_repeated_guest</th>\n",
       "      <th>previous_cancellations</th>\n",
       "      <th>previous_bookings_not_canceled</th>\n",
       "      <th>reserved_room_type</th>\n",
       "      <th>booking_changes</th>\n",
       "      <th>days_in_waiting_list</th>\n",
       "      <th>customer_type</th>\n",
       "      <th>required_car_parking_spaces</th>\n",
       "      <th>total_of_special_requests</th>\n",
       "      <th>total_nights</th>\n",
       "    </tr>\n",
       "  </thead>\n",
       "  <tbody>\n",
       "    <tr>\n",
       "      <th>0</th>\n",
       "      <td>0</td>\n",
       "      <td>0</td>\n",
       "      <td>7.0</td>\n",
       "      <td>2015</td>\n",
       "      <td>July</td>\n",
       "      <td>27</td>\n",
       "      <td>1</td>\n",
       "      <td>0</td>\n",
       "      <td>1</td>\n",
       "      <td>1.0</td>\n",
       "      <td>...</td>\n",
       "      <td>0</td>\n",
       "      <td>0</td>\n",
       "      <td>0</td>\n",
       "      <td>A</td>\n",
       "      <td>0</td>\n",
       "      <td>0</td>\n",
       "      <td>Transient</td>\n",
       "      <td>0</td>\n",
       "      <td>0</td>\n",
       "      <td>1</td>\n",
       "    </tr>\n",
       "    <tr>\n",
       "      <th>1</th>\n",
       "      <td>1</td>\n",
       "      <td>0</td>\n",
       "      <td>14.0</td>\n",
       "      <td>2015</td>\n",
       "      <td>July</td>\n",
       "      <td>27</td>\n",
       "      <td>1</td>\n",
       "      <td>0</td>\n",
       "      <td>2</td>\n",
       "      <td>2.0</td>\n",
       "      <td>...</td>\n",
       "      <td>0</td>\n",
       "      <td>0</td>\n",
       "      <td>0</td>\n",
       "      <td>A</td>\n",
       "      <td>0</td>\n",
       "      <td>0</td>\n",
       "      <td>Transient</td>\n",
       "      <td>0</td>\n",
       "      <td>1</td>\n",
       "      <td>2</td>\n",
       "    </tr>\n",
       "    <tr>\n",
       "      <th>2</th>\n",
       "      <td>2</td>\n",
       "      <td>0</td>\n",
       "      <td>0.0</td>\n",
       "      <td>2015</td>\n",
       "      <td>July</td>\n",
       "      <td>27</td>\n",
       "      <td>1</td>\n",
       "      <td>0</td>\n",
       "      <td>2</td>\n",
       "      <td>2.0</td>\n",
       "      <td>...</td>\n",
       "      <td>0</td>\n",
       "      <td>0</td>\n",
       "      <td>0</td>\n",
       "      <td>C</td>\n",
       "      <td>0</td>\n",
       "      <td>0</td>\n",
       "      <td>Transient</td>\n",
       "      <td>0</td>\n",
       "      <td>0</td>\n",
       "      <td>2</td>\n",
       "    </tr>\n",
       "    <tr>\n",
       "      <th>3</th>\n",
       "      <td>3</td>\n",
       "      <td>0</td>\n",
       "      <td>9.0</td>\n",
       "      <td>2015</td>\n",
       "      <td>July</td>\n",
       "      <td>27</td>\n",
       "      <td>1</td>\n",
       "      <td>0</td>\n",
       "      <td>2</td>\n",
       "      <td>2.0</td>\n",
       "      <td>...</td>\n",
       "      <td>0</td>\n",
       "      <td>0</td>\n",
       "      <td>0</td>\n",
       "      <td>C</td>\n",
       "      <td>0</td>\n",
       "      <td>0</td>\n",
       "      <td>Transient</td>\n",
       "      <td>0</td>\n",
       "      <td>1</td>\n",
       "      <td>2</td>\n",
       "    </tr>\n",
       "    <tr>\n",
       "      <th>4</th>\n",
       "      <td>4</td>\n",
       "      <td>1</td>\n",
       "      <td>85.0</td>\n",
       "      <td>2015</td>\n",
       "      <td>July</td>\n",
       "      <td>27</td>\n",
       "      <td>1</td>\n",
       "      <td>0</td>\n",
       "      <td>3</td>\n",
       "      <td>2.0</td>\n",
       "      <td>...</td>\n",
       "      <td>0</td>\n",
       "      <td>0</td>\n",
       "      <td>0</td>\n",
       "      <td>A</td>\n",
       "      <td>0</td>\n",
       "      <td>0</td>\n",
       "      <td>Transient</td>\n",
       "      <td>0</td>\n",
       "      <td>1</td>\n",
       "      <td>3</td>\n",
       "    </tr>\n",
       "  </tbody>\n",
       "</table>\n",
       "<p>5 rows × 25 columns</p>\n",
       "</div>"
      ],
      "text/plain": [
       "   id  is_canceled  lead_time  arrival_date_year arrival_date_month  \\\n",
       "0   0            0        7.0               2015               July   \n",
       "1   1            0       14.0               2015               July   \n",
       "2   2            0        0.0               2015               July   \n",
       "3   3            0        9.0               2015               July   \n",
       "4   4            1       85.0               2015               July   \n",
       "\n",
       "   arrival_date_week_number  arrival_date_day_of_month  \\\n",
       "0                        27                          1   \n",
       "1                        27                          1   \n",
       "2                        27                          1   \n",
       "3                        27                          1   \n",
       "4                        27                          1   \n",
       "\n",
       "   stays_in_weekend_nights  stays_in_week_nights  adults  ...  \\\n",
       "0                        0                     1     1.0  ...   \n",
       "1                        0                     2     2.0  ...   \n",
       "2                        0                     2     2.0  ...   \n",
       "3                        0                     2     2.0  ...   \n",
       "4                        0                     3     2.0  ...   \n",
       "\n",
       "   is_repeated_guest  previous_cancellations previous_bookings_not_canceled  \\\n",
       "0                  0                       0                              0   \n",
       "1                  0                       0                              0   \n",
       "2                  0                       0                              0   \n",
       "3                  0                       0                              0   \n",
       "4                  0                       0                              0   \n",
       "\n",
       "  reserved_room_type booking_changes  days_in_waiting_list  customer_type  \\\n",
       "0   A                              0                     0      Transient   \n",
       "1   A                              0                     0      Transient   \n",
       "2   C                              0                     0      Transient   \n",
       "3   C                              0                     0      Transient   \n",
       "4   A                              0                     0      Transient   \n",
       "\n",
       "   required_car_parking_spaces total_of_special_requests  total_nights  \n",
       "0                            0                         0             1  \n",
       "1                            0                         1             2  \n",
       "2                            0                         0             2  \n",
       "3                            0                         1             2  \n",
       "4                            0                         1             3  \n",
       "\n",
       "[5 rows x 25 columns]"
      ]
     },
     "metadata": {},
     "output_type": "display_data"
    },
    {
     "data": {
      "text/html": [
       "<div>\n",
       "<style scoped>\n",
       "    .dataframe tbody tr th:only-of-type {\n",
       "        vertical-align: middle;\n",
       "    }\n",
       "\n",
       "    .dataframe tbody tr th {\n",
       "        vertical-align: top;\n",
       "    }\n",
       "\n",
       "    .dataframe thead th {\n",
       "        text-align: right;\n",
       "    }\n",
       "</style>\n",
       "<table border=\"1\" class=\"dataframe\">\n",
       "  <thead>\n",
       "    <tr style=\"text-align: right;\">\n",
       "      <th></th>\n",
       "      <th>id</th>\n",
       "      <th>is_canceled</th>\n",
       "      <th>lead_time</th>\n",
       "      <th>arrival_date_year</th>\n",
       "      <th>arrival_date_month</th>\n",
       "      <th>arrival_date_week_number</th>\n",
       "      <th>arrival_date_day_of_month</th>\n",
       "      <th>stays_in_weekend_nights</th>\n",
       "      <th>stays_in_week_nights</th>\n",
       "      <th>adults</th>\n",
       "      <th>...</th>\n",
       "      <th>is_repeated_guest</th>\n",
       "      <th>previous_cancellations</th>\n",
       "      <th>previous_bookings_not_canceled</th>\n",
       "      <th>reserved_room_type</th>\n",
       "      <th>booking_changes</th>\n",
       "      <th>days_in_waiting_list</th>\n",
       "      <th>customer_type</th>\n",
       "      <th>required_car_parking_spaces</th>\n",
       "      <th>total_of_special_requests</th>\n",
       "      <th>total_nights</th>\n",
       "    </tr>\n",
       "  </thead>\n",
       "  <tbody>\n",
       "    <tr>\n",
       "      <th>0</th>\n",
       "      <td>6086</td>\n",
       "      <td>1</td>\n",
       "      <td>74.0</td>\n",
       "      <td>2017</td>\n",
       "      <td>January</td>\n",
       "      <td>1</td>\n",
       "      <td>1</td>\n",
       "      <td>1</td>\n",
       "      <td>0</td>\n",
       "      <td>2.0</td>\n",
       "      <td>...</td>\n",
       "      <td>0</td>\n",
       "      <td>0</td>\n",
       "      <td>0</td>\n",
       "      <td>A</td>\n",
       "      <td>0</td>\n",
       "      <td>0</td>\n",
       "      <td>Transient</td>\n",
       "      <td>0</td>\n",
       "      <td>0</td>\n",
       "      <td>1</td>\n",
       "    </tr>\n",
       "    <tr>\n",
       "      <th>1</th>\n",
       "      <td>6087</td>\n",
       "      <td>1</td>\n",
       "      <td>62.0</td>\n",
       "      <td>2017</td>\n",
       "      <td>January</td>\n",
       "      <td>1</td>\n",
       "      <td>1</td>\n",
       "      <td>2</td>\n",
       "      <td>2</td>\n",
       "      <td>2.0</td>\n",
       "      <td>...</td>\n",
       "      <td>0</td>\n",
       "      <td>0</td>\n",
       "      <td>0</td>\n",
       "      <td>A</td>\n",
       "      <td>0</td>\n",
       "      <td>0</td>\n",
       "      <td>Transient</td>\n",
       "      <td>0</td>\n",
       "      <td>1</td>\n",
       "      <td>4</td>\n",
       "    </tr>\n",
       "    <tr>\n",
       "      <th>2</th>\n",
       "      <td>6088</td>\n",
       "      <td>1</td>\n",
       "      <td>62.0</td>\n",
       "      <td>2017</td>\n",
       "      <td>January</td>\n",
       "      <td>1</td>\n",
       "      <td>1</td>\n",
       "      <td>2</td>\n",
       "      <td>2</td>\n",
       "      <td>2.0</td>\n",
       "      <td>...</td>\n",
       "      <td>0</td>\n",
       "      <td>0</td>\n",
       "      <td>0</td>\n",
       "      <td>A</td>\n",
       "      <td>0</td>\n",
       "      <td>0</td>\n",
       "      <td>Transient</td>\n",
       "      <td>0</td>\n",
       "      <td>1</td>\n",
       "      <td>4</td>\n",
       "    </tr>\n",
       "    <tr>\n",
       "      <th>3</th>\n",
       "      <td>6089</td>\n",
       "      <td>1</td>\n",
       "      <td>71.0</td>\n",
       "      <td>2017</td>\n",
       "      <td>January</td>\n",
       "      <td>1</td>\n",
       "      <td>1</td>\n",
       "      <td>2</td>\n",
       "      <td>2</td>\n",
       "      <td>1.0</td>\n",
       "      <td>...</td>\n",
       "      <td>0</td>\n",
       "      <td>0</td>\n",
       "      <td>0</td>\n",
       "      <td>A</td>\n",
       "      <td>0</td>\n",
       "      <td>0</td>\n",
       "      <td>Transient</td>\n",
       "      <td>0</td>\n",
       "      <td>1</td>\n",
       "      <td>4</td>\n",
       "    </tr>\n",
       "    <tr>\n",
       "      <th>4</th>\n",
       "      <td>6090</td>\n",
       "      <td>1</td>\n",
       "      <td>172.0</td>\n",
       "      <td>2017</td>\n",
       "      <td>January</td>\n",
       "      <td>1</td>\n",
       "      <td>1</td>\n",
       "      <td>2</td>\n",
       "      <td>5</td>\n",
       "      <td>2.0</td>\n",
       "      <td>...</td>\n",
       "      <td>0</td>\n",
       "      <td>0</td>\n",
       "      <td>0</td>\n",
       "      <td>A</td>\n",
       "      <td>0</td>\n",
       "      <td>0</td>\n",
       "      <td>Transient</td>\n",
       "      <td>0</td>\n",
       "      <td>0</td>\n",
       "      <td>7</td>\n",
       "    </tr>\n",
       "  </tbody>\n",
       "</table>\n",
       "<p>5 rows × 25 columns</p>\n",
       "</div>"
      ],
      "text/plain": [
       "     id  is_canceled  lead_time  arrival_date_year arrival_date_month  \\\n",
       "0  6086            1       74.0               2017            January   \n",
       "1  6087            1       62.0               2017            January   \n",
       "2  6088            1       62.0               2017            January   \n",
       "3  6089            1       71.0               2017            January   \n",
       "4  6090            1      172.0               2017            January   \n",
       "\n",
       "   arrival_date_week_number  arrival_date_day_of_month  \\\n",
       "0                         1                          1   \n",
       "1                         1                          1   \n",
       "2                         1                          1   \n",
       "3                         1                          1   \n",
       "4                         1                          1   \n",
       "\n",
       "   stays_in_weekend_nights  stays_in_week_nights  adults  ...  \\\n",
       "0                        1                     0     2.0  ...   \n",
       "1                        2                     2     2.0  ...   \n",
       "2                        2                     2     2.0  ...   \n",
       "3                        2                     2     1.0  ...   \n",
       "4                        2                     5     2.0  ...   \n",
       "\n",
       "   is_repeated_guest  previous_cancellations previous_bookings_not_canceled  \\\n",
       "0                  0                       0                              0   \n",
       "1                  0                       0                              0   \n",
       "2                  0                       0                              0   \n",
       "3                  0                       0                              0   \n",
       "4                  0                       0                              0   \n",
       "\n",
       "  reserved_room_type booking_changes  days_in_waiting_list  customer_type  \\\n",
       "0   A                              0                     0      Transient   \n",
       "1   A                              0                     0      Transient   \n",
       "2   A                              0                     0      Transient   \n",
       "3   A                              0                     0      Transient   \n",
       "4   A                              0                     0      Transient   \n",
       "\n",
       "   required_car_parking_spaces total_of_special_requests  total_nights  \n",
       "0                            0                         0             1  \n",
       "1                            0                         1             4  \n",
       "2                            0                         1             4  \n",
       "3                            0                         1             4  \n",
       "4                            0                         0             7  \n",
       "\n",
       "[5 rows x 25 columns]"
      ]
     },
     "metadata": {},
     "output_type": "display_data"
    }
   ],
   "source": [
    "hotel_train = pd.read_csv('/datasets/hotel_train.csv')\n",
    "hotel_test = pd.read_csv('/datasets/hotel_test.csv')\n",
    "display(hotel_train.head(5))\n",
    "display(hotel_test.head(5))"
   ]
  },
  {
   "cell_type": "markdown",
   "metadata": {},
   "source": [
    "<div class=\"alert alert-success\">\n",
    "<h2>Комментарий ревьюера<a class=\"tocSkip\"></a></h2>\n",
    "    \n",
    "**Отлично!** ✔️: данные на месте!</div>"
   ]
  },
  {
   "cell_type": "markdown",
   "metadata": {},
   "source": [
    "### Шаг 2. Предобработка и исследовательский анализ данных"
   ]
  },
  {
   "cell_type": "code",
   "execution_count": 3,
   "metadata": {},
   "outputs": [
    {
     "name": "stdout",
     "output_type": "stream",
     "text": [
      "<class 'pandas.core.frame.DataFrame'>\n",
      "RangeIndex: 65229 entries, 0 to 65228\n",
      "Data columns (total 25 columns):\n",
      " #   Column                          Non-Null Count  Dtype  \n",
      "---  ------                          --------------  -----  \n",
      " 0   id                              65229 non-null  int64  \n",
      " 1   is_canceled                     65229 non-null  int64  \n",
      " 2   lead_time                       65229 non-null  float64\n",
      " 3   arrival_date_year               65229 non-null  int64  \n",
      " 4   arrival_date_month              65229 non-null  object \n",
      " 5   arrival_date_week_number        65229 non-null  int64  \n",
      " 6   arrival_date_day_of_month       65229 non-null  int64  \n",
      " 7   stays_in_weekend_nights         65229 non-null  int64  \n",
      " 8   stays_in_week_nights            65229 non-null  int64  \n",
      " 9   adults                          65229 non-null  float64\n",
      " 10  children                        65229 non-null  float64\n",
      " 11  babies                          65229 non-null  float64\n",
      " 12  meal                            65229 non-null  object \n",
      " 13  country                         65229 non-null  object \n",
      " 14  distribution_channel            65229 non-null  object \n",
      " 15  is_repeated_guest               65229 non-null  int64  \n",
      " 16  previous_cancellations          65229 non-null  int64  \n",
      " 17  previous_bookings_not_canceled  65229 non-null  int64  \n",
      " 18  reserved_room_type              65229 non-null  object \n",
      " 19  booking_changes                 65229 non-null  int64  \n",
      " 20  days_in_waiting_list            65229 non-null  int64  \n",
      " 21  customer_type                   65229 non-null  object \n",
      " 22  required_car_parking_spaces     65229 non-null  int64  \n",
      " 23  total_of_special_requests       65229 non-null  int64  \n",
      " 24  total_nights                    65229 non-null  int64  \n",
      "dtypes: float64(4), int64(15), object(6)\n",
      "memory usage: 12.4+ MB\n",
      "<class 'pandas.core.frame.DataFrame'>\n",
      "RangeIndex: 32412 entries, 0 to 32411\n",
      "Data columns (total 25 columns):\n",
      " #   Column                          Non-Null Count  Dtype  \n",
      "---  ------                          --------------  -----  \n",
      " 0   id                              32412 non-null  int64  \n",
      " 1   is_canceled                     32412 non-null  int64  \n",
      " 2   lead_time                       32412 non-null  float64\n",
      " 3   arrival_date_year               32412 non-null  int64  \n",
      " 4   arrival_date_month              32412 non-null  object \n",
      " 5   arrival_date_week_number        32412 non-null  int64  \n",
      " 6   arrival_date_day_of_month       32412 non-null  int64  \n",
      " 7   stays_in_weekend_nights         32412 non-null  int64  \n",
      " 8   stays_in_week_nights            32412 non-null  int64  \n",
      " 9   adults                          32412 non-null  float64\n",
      " 10  children                        32412 non-null  float64\n",
      " 11  babies                          32412 non-null  float64\n",
      " 12  meal                            32412 non-null  object \n",
      " 13  country                         32412 non-null  object \n",
      " 14  distribution_channel            32412 non-null  object \n",
      " 15  is_repeated_guest               32412 non-null  int64  \n",
      " 16  previous_cancellations          32412 non-null  int64  \n",
      " 17  previous_bookings_not_canceled  32412 non-null  int64  \n",
      " 18  reserved_room_type              32412 non-null  object \n",
      " 19  booking_changes                 32412 non-null  int64  \n",
      " 20  days_in_waiting_list            32412 non-null  int64  \n",
      " 21  customer_type                   32412 non-null  object \n",
      " 22  required_car_parking_spaces     32412 non-null  int64  \n",
      " 23  total_of_special_requests       32412 non-null  int64  \n",
      " 24  total_nights                    32412 non-null  int64  \n",
      "dtypes: float64(4), int64(15), object(6)\n",
      "memory usage: 6.2+ MB\n"
     ]
    }
   ],
   "source": [
    "hotel_train.info()\n",
    "hotel_test.info()\n",
    "# пропусков нет"
   ]
  },
  {
   "cell_type": "code",
   "execution_count": 4,
   "metadata": {},
   "outputs": [
    {
     "data": {
      "text/html": [
       "<div>\n",
       "<style scoped>\n",
       "    .dataframe tbody tr th:only-of-type {\n",
       "        vertical-align: middle;\n",
       "    }\n",
       "\n",
       "    .dataframe tbody tr th {\n",
       "        vertical-align: top;\n",
       "    }\n",
       "\n",
       "    .dataframe thead th {\n",
       "        text-align: right;\n",
       "    }\n",
       "</style>\n",
       "<table border=\"1\" class=\"dataframe\">\n",
       "  <thead>\n",
       "    <tr style=\"text-align: right;\">\n",
       "      <th></th>\n",
       "      <th>id</th>\n",
       "      <th>is_canceled</th>\n",
       "      <th>lead_time</th>\n",
       "      <th>arrival_date_year</th>\n",
       "      <th>arrival_date_week_number</th>\n",
       "      <th>arrival_date_day_of_month</th>\n",
       "      <th>stays_in_weekend_nights</th>\n",
       "      <th>stays_in_week_nights</th>\n",
       "      <th>adults</th>\n",
       "      <th>children</th>\n",
       "      <th>babies</th>\n",
       "      <th>is_repeated_guest</th>\n",
       "      <th>previous_cancellations</th>\n",
       "      <th>previous_bookings_not_canceled</th>\n",
       "      <th>booking_changes</th>\n",
       "      <th>days_in_waiting_list</th>\n",
       "      <th>required_car_parking_spaces</th>\n",
       "      <th>total_of_special_requests</th>\n",
       "      <th>total_nights</th>\n",
       "    </tr>\n",
       "  </thead>\n",
       "  <tbody>\n",
       "    <tr>\n",
       "      <th>count</th>\n",
       "      <td>65229.000000</td>\n",
       "      <td>65229.000000</td>\n",
       "      <td>65229.000000</td>\n",
       "      <td>65229.000000</td>\n",
       "      <td>65229.000000</td>\n",
       "      <td>65229.000000</td>\n",
       "      <td>65229.000000</td>\n",
       "      <td>65229.000000</td>\n",
       "      <td>65229.000000</td>\n",
       "      <td>65229.000000</td>\n",
       "      <td>65229.000000</td>\n",
       "      <td>65229.000000</td>\n",
       "      <td>65229.000000</td>\n",
       "      <td>65229.000000</td>\n",
       "      <td>65229.000000</td>\n",
       "      <td>65229.000000</td>\n",
       "      <td>65229.000000</td>\n",
       "      <td>65229.000000</td>\n",
       "      <td>65229.000000</td>\n",
       "    </tr>\n",
       "    <tr>\n",
       "      <th>mean</th>\n",
       "      <td>43544.069172</td>\n",
       "      <td>0.368609</td>\n",
       "      <td>96.337917</td>\n",
       "      <td>2015.719021</td>\n",
       "      <td>31.339772</td>\n",
       "      <td>15.847813</td>\n",
       "      <td>0.825185</td>\n",
       "      <td>2.224793</td>\n",
       "      <td>1.836576</td>\n",
       "      <td>0.074890</td>\n",
       "      <td>0.007236</td>\n",
       "      <td>0.027151</td>\n",
       "      <td>0.128915</td>\n",
       "      <td>0.107713</td>\n",
       "      <td>0.194269</td>\n",
       "      <td>3.334422</td>\n",
       "      <td>0.056647</td>\n",
       "      <td>0.512763</td>\n",
       "      <td>3.049978</td>\n",
       "    </tr>\n",
       "    <tr>\n",
       "      <th>std</th>\n",
       "      <td>25614.858971</td>\n",
       "      <td>0.482431</td>\n",
       "      <td>96.127545</td>\n",
       "      <td>0.449481</td>\n",
       "      <td>13.464024</td>\n",
       "      <td>8.748182</td>\n",
       "      <td>0.853477</td>\n",
       "      <td>1.354992</td>\n",
       "      <td>0.480245</td>\n",
       "      <td>0.334243</td>\n",
       "      <td>0.098790</td>\n",
       "      <td>0.162523</td>\n",
       "      <td>0.965326</td>\n",
       "      <td>1.326638</td>\n",
       "      <td>0.593838</td>\n",
       "      <td>18.239606</td>\n",
       "      <td>0.232094</td>\n",
       "      <td>0.752590</td>\n",
       "      <td>1.738108</td>\n",
       "    </tr>\n",
       "    <tr>\n",
       "      <th>min</th>\n",
       "      <td>0.000000</td>\n",
       "      <td>0.000000</td>\n",
       "      <td>0.000000</td>\n",
       "      <td>2015.000000</td>\n",
       "      <td>1.000000</td>\n",
       "      <td>1.000000</td>\n",
       "      <td>0.000000</td>\n",
       "      <td>0.000000</td>\n",
       "      <td>0.000000</td>\n",
       "      <td>0.000000</td>\n",
       "      <td>0.000000</td>\n",
       "      <td>0.000000</td>\n",
       "      <td>0.000000</td>\n",
       "      <td>0.000000</td>\n",
       "      <td>0.000000</td>\n",
       "      <td>0.000000</td>\n",
       "      <td>0.000000</td>\n",
       "      <td>0.000000</td>\n",
       "      <td>1.000000</td>\n",
       "    </tr>\n",
       "    <tr>\n",
       "      <th>25%</th>\n",
       "      <td>19108.000000</td>\n",
       "      <td>0.000000</td>\n",
       "      <td>17.000000</td>\n",
       "      <td>2015.000000</td>\n",
       "      <td>21.000000</td>\n",
       "      <td>8.000000</td>\n",
       "      <td>0.000000</td>\n",
       "      <td>1.000000</td>\n",
       "      <td>2.000000</td>\n",
       "      <td>0.000000</td>\n",
       "      <td>0.000000</td>\n",
       "      <td>0.000000</td>\n",
       "      <td>0.000000</td>\n",
       "      <td>0.000000</td>\n",
       "      <td>0.000000</td>\n",
       "      <td>0.000000</td>\n",
       "      <td>0.000000</td>\n",
       "      <td>0.000000</td>\n",
       "      <td>2.000000</td>\n",
       "    </tr>\n",
       "    <tr>\n",
       "      <th>50%</th>\n",
       "      <td>40554.000000</td>\n",
       "      <td>0.000000</td>\n",
       "      <td>64.000000</td>\n",
       "      <td>2016.000000</td>\n",
       "      <td>34.000000</td>\n",
       "      <td>16.000000</td>\n",
       "      <td>1.000000</td>\n",
       "      <td>2.000000</td>\n",
       "      <td>2.000000</td>\n",
       "      <td>0.000000</td>\n",
       "      <td>0.000000</td>\n",
       "      <td>0.000000</td>\n",
       "      <td>0.000000</td>\n",
       "      <td>0.000000</td>\n",
       "      <td>0.000000</td>\n",
       "      <td>0.000000</td>\n",
       "      <td>0.000000</td>\n",
       "      <td>0.000000</td>\n",
       "      <td>3.000000</td>\n",
       "    </tr>\n",
       "    <tr>\n",
       "      <th>75%</th>\n",
       "      <td>67414.000000</td>\n",
       "      <td>1.000000</td>\n",
       "      <td>151.000000</td>\n",
       "      <td>2016.000000</td>\n",
       "      <td>42.000000</td>\n",
       "      <td>23.000000</td>\n",
       "      <td>2.000000</td>\n",
       "      <td>3.000000</td>\n",
       "      <td>2.000000</td>\n",
       "      <td>0.000000</td>\n",
       "      <td>0.000000</td>\n",
       "      <td>0.000000</td>\n",
       "      <td>0.000000</td>\n",
       "      <td>0.000000</td>\n",
       "      <td>0.000000</td>\n",
       "      <td>0.000000</td>\n",
       "      <td>0.000000</td>\n",
       "      <td>1.000000</td>\n",
       "      <td>4.000000</td>\n",
       "    </tr>\n",
       "    <tr>\n",
       "      <th>max</th>\n",
       "      <td>84121.000000</td>\n",
       "      <td>1.000000</td>\n",
       "      <td>374.000000</td>\n",
       "      <td>2016.000000</td>\n",
       "      <td>53.000000</td>\n",
       "      <td>31.000000</td>\n",
       "      <td>4.000000</td>\n",
       "      <td>6.000000</td>\n",
       "      <td>4.000000</td>\n",
       "      <td>3.000000</td>\n",
       "      <td>10.000000</td>\n",
       "      <td>1.000000</td>\n",
       "      <td>26.000000</td>\n",
       "      <td>58.000000</td>\n",
       "      <td>17.000000</td>\n",
       "      <td>259.000000</td>\n",
       "      <td>3.000000</td>\n",
       "      <td>5.000000</td>\n",
       "      <td>10.000000</td>\n",
       "    </tr>\n",
       "  </tbody>\n",
       "</table>\n",
       "</div>"
      ],
      "text/plain": [
       "                 id   is_canceled     lead_time  arrival_date_year  \\\n",
       "count  65229.000000  65229.000000  65229.000000       65229.000000   \n",
       "mean   43544.069172      0.368609     96.337917        2015.719021   \n",
       "std    25614.858971      0.482431     96.127545           0.449481   \n",
       "min        0.000000      0.000000      0.000000        2015.000000   \n",
       "25%    19108.000000      0.000000     17.000000        2015.000000   \n",
       "50%    40554.000000      0.000000     64.000000        2016.000000   \n",
       "75%    67414.000000      1.000000    151.000000        2016.000000   \n",
       "max    84121.000000      1.000000    374.000000        2016.000000   \n",
       "\n",
       "       arrival_date_week_number  arrival_date_day_of_month  \\\n",
       "count              65229.000000               65229.000000   \n",
       "mean                  31.339772                  15.847813   \n",
       "std                   13.464024                   8.748182   \n",
       "min                    1.000000                   1.000000   \n",
       "25%                   21.000000                   8.000000   \n",
       "50%                   34.000000                  16.000000   \n",
       "75%                   42.000000                  23.000000   \n",
       "max                   53.000000                  31.000000   \n",
       "\n",
       "       stays_in_weekend_nights  stays_in_week_nights        adults  \\\n",
       "count             65229.000000          65229.000000  65229.000000   \n",
       "mean                  0.825185              2.224793      1.836576   \n",
       "std                   0.853477              1.354992      0.480245   \n",
       "min                   0.000000              0.000000      0.000000   \n",
       "25%                   0.000000              1.000000      2.000000   \n",
       "50%                   1.000000              2.000000      2.000000   \n",
       "75%                   2.000000              3.000000      2.000000   \n",
       "max                   4.000000              6.000000      4.000000   \n",
       "\n",
       "           children        babies  is_repeated_guest  previous_cancellations  \\\n",
       "count  65229.000000  65229.000000       65229.000000            65229.000000   \n",
       "mean       0.074890      0.007236           0.027151                0.128915   \n",
       "std        0.334243      0.098790           0.162523                0.965326   \n",
       "min        0.000000      0.000000           0.000000                0.000000   \n",
       "25%        0.000000      0.000000           0.000000                0.000000   \n",
       "50%        0.000000      0.000000           0.000000                0.000000   \n",
       "75%        0.000000      0.000000           0.000000                0.000000   \n",
       "max        3.000000     10.000000           1.000000               26.000000   \n",
       "\n",
       "       previous_bookings_not_canceled  booking_changes  days_in_waiting_list  \\\n",
       "count                    65229.000000     65229.000000          65229.000000   \n",
       "mean                         0.107713         0.194269              3.334422   \n",
       "std                          1.326638         0.593838             18.239606   \n",
       "min                          0.000000         0.000000              0.000000   \n",
       "25%                          0.000000         0.000000              0.000000   \n",
       "50%                          0.000000         0.000000              0.000000   \n",
       "75%                          0.000000         0.000000              0.000000   \n",
       "max                         58.000000        17.000000            259.000000   \n",
       "\n",
       "       required_car_parking_spaces  total_of_special_requests  total_nights  \n",
       "count                 65229.000000               65229.000000  65229.000000  \n",
       "mean                      0.056647                   0.512763      3.049978  \n",
       "std                       0.232094                   0.752590      1.738108  \n",
       "min                       0.000000                   0.000000      1.000000  \n",
       "25%                       0.000000                   0.000000      2.000000  \n",
       "50%                       0.000000                   0.000000      3.000000  \n",
       "75%                       0.000000                   1.000000      4.000000  \n",
       "max                       3.000000                   5.000000     10.000000  "
      ]
     },
     "metadata": {},
     "output_type": "display_data"
    },
    {
     "data": {
      "text/html": [
       "<div>\n",
       "<style scoped>\n",
       "    .dataframe tbody tr th:only-of-type {\n",
       "        vertical-align: middle;\n",
       "    }\n",
       "\n",
       "    .dataframe tbody tr th {\n",
       "        vertical-align: top;\n",
       "    }\n",
       "\n",
       "    .dataframe thead th {\n",
       "        text-align: right;\n",
       "    }\n",
       "</style>\n",
       "<table border=\"1\" class=\"dataframe\">\n",
       "  <thead>\n",
       "    <tr style=\"text-align: right;\">\n",
       "      <th></th>\n",
       "      <th>id</th>\n",
       "      <th>is_canceled</th>\n",
       "      <th>lead_time</th>\n",
       "      <th>arrival_date_year</th>\n",
       "      <th>arrival_date_week_number</th>\n",
       "      <th>arrival_date_day_of_month</th>\n",
       "      <th>stays_in_weekend_nights</th>\n",
       "      <th>stays_in_week_nights</th>\n",
       "      <th>adults</th>\n",
       "      <th>children</th>\n",
       "      <th>babies</th>\n",
       "      <th>is_repeated_guest</th>\n",
       "      <th>previous_cancellations</th>\n",
       "      <th>previous_bookings_not_canceled</th>\n",
       "      <th>booking_changes</th>\n",
       "      <th>days_in_waiting_list</th>\n",
       "      <th>required_car_parking_spaces</th>\n",
       "      <th>total_of_special_requests</th>\n",
       "      <th>total_nights</th>\n",
       "    </tr>\n",
       "  </thead>\n",
       "  <tbody>\n",
       "    <tr>\n",
       "      <th>count</th>\n",
       "      <td>32412.000000</td>\n",
       "      <td>32412.000000</td>\n",
       "      <td>32412.000000</td>\n",
       "      <td>32412.0</td>\n",
       "      <td>32412.000000</td>\n",
       "      <td>32412.000000</td>\n",
       "      <td>32412.000000</td>\n",
       "      <td>32412.00000</td>\n",
       "      <td>32412.000000</td>\n",
       "      <td>32412.000000</td>\n",
       "      <td>32412.000000</td>\n",
       "      <td>32412.000000</td>\n",
       "      <td>32412.000000</td>\n",
       "      <td>32412.000000</td>\n",
       "      <td>32412.000000</td>\n",
       "      <td>32412.000000</td>\n",
       "      <td>32412.000000</td>\n",
       "      <td>32412.000000</td>\n",
       "      <td>32412.000000</td>\n",
       "    </tr>\n",
       "    <tr>\n",
       "      <th>mean</th>\n",
       "      <td>60131.505183</td>\n",
       "      <td>0.388467</td>\n",
       "      <td>97.587869</td>\n",
       "      <td>2017.0</td>\n",
       "      <td>17.804054</td>\n",
       "      <td>15.656948</td>\n",
       "      <td>0.867888</td>\n",
       "      <td>2.34009</td>\n",
       "      <td>1.858602</td>\n",
       "      <td>0.083765</td>\n",
       "      <td>0.005523</td>\n",
       "      <td>0.031377</td>\n",
       "      <td>0.011601</td>\n",
       "      <td>0.171418</td>\n",
       "      <td>0.216741</td>\n",
       "      <td>0.262341</td>\n",
       "      <td>0.046248</td>\n",
       "      <td>0.657781</td>\n",
       "      <td>3.207979</td>\n",
       "    </tr>\n",
       "    <tr>\n",
       "      <th>std</th>\n",
       "      <td>29953.586177</td>\n",
       "      <td>0.487409</td>\n",
       "      <td>86.507146</td>\n",
       "      <td>0.0</td>\n",
       "      <td>9.177384</td>\n",
       "      <td>8.766429</td>\n",
       "      <td>0.853394</td>\n",
       "      <td>1.37517</td>\n",
       "      <td>0.489341</td>\n",
       "      <td>0.343470</td>\n",
       "      <td>0.075757</td>\n",
       "      <td>0.174338</td>\n",
       "      <td>0.180473</td>\n",
       "      <td>1.875170</td>\n",
       "      <td>0.640551</td>\n",
       "      <td>4.733027</td>\n",
       "      <td>0.219367</td>\n",
       "      <td>0.834341</td>\n",
       "      <td>1.738683</td>\n",
       "    </tr>\n",
       "    <tr>\n",
       "      <th>min</th>\n",
       "      <td>6086.000000</td>\n",
       "      <td>0.000000</td>\n",
       "      <td>0.000000</td>\n",
       "      <td>2017.0</td>\n",
       "      <td>1.000000</td>\n",
       "      <td>1.000000</td>\n",
       "      <td>0.000000</td>\n",
       "      <td>0.00000</td>\n",
       "      <td>0.000000</td>\n",
       "      <td>0.000000</td>\n",
       "      <td>0.000000</td>\n",
       "      <td>0.000000</td>\n",
       "      <td>0.000000</td>\n",
       "      <td>0.000000</td>\n",
       "      <td>0.000000</td>\n",
       "      <td>0.000000</td>\n",
       "      <td>0.000000</td>\n",
       "      <td>0.000000</td>\n",
       "      <td>1.000000</td>\n",
       "    </tr>\n",
       "    <tr>\n",
       "      <th>25%</th>\n",
       "      <td>45291.750000</td>\n",
       "      <td>0.000000</td>\n",
       "      <td>23.000000</td>\n",
       "      <td>2017.0</td>\n",
       "      <td>10.000000</td>\n",
       "      <td>8.000000</td>\n",
       "      <td>0.000000</td>\n",
       "      <td>1.00000</td>\n",
       "      <td>2.000000</td>\n",
       "      <td>0.000000</td>\n",
       "      <td>0.000000</td>\n",
       "      <td>0.000000</td>\n",
       "      <td>0.000000</td>\n",
       "      <td>0.000000</td>\n",
       "      <td>0.000000</td>\n",
       "      <td>0.000000</td>\n",
       "      <td>0.000000</td>\n",
       "      <td>0.000000</td>\n",
       "      <td>2.000000</td>\n",
       "    </tr>\n",
       "    <tr>\n",
       "      <th>50%</th>\n",
       "      <td>53394.500000</td>\n",
       "      <td>0.000000</td>\n",
       "      <td>76.000000</td>\n",
       "      <td>2017.0</td>\n",
       "      <td>18.000000</td>\n",
       "      <td>15.500000</td>\n",
       "      <td>1.000000</td>\n",
       "      <td>2.00000</td>\n",
       "      <td>2.000000</td>\n",
       "      <td>0.000000</td>\n",
       "      <td>0.000000</td>\n",
       "      <td>0.000000</td>\n",
       "      <td>0.000000</td>\n",
       "      <td>0.000000</td>\n",
       "      <td>0.000000</td>\n",
       "      <td>0.000000</td>\n",
       "      <td>0.000000</td>\n",
       "      <td>0.000000</td>\n",
       "      <td>3.000000</td>\n",
       "    </tr>\n",
       "    <tr>\n",
       "      <th>75%</th>\n",
       "      <td>89800.250000</td>\n",
       "      <td>1.000000</td>\n",
       "      <td>155.000000</td>\n",
       "      <td>2017.0</td>\n",
       "      <td>25.000000</td>\n",
       "      <td>23.000000</td>\n",
       "      <td>2.000000</td>\n",
       "      <td>3.00000</td>\n",
       "      <td>2.000000</td>\n",
       "      <td>0.000000</td>\n",
       "      <td>0.000000</td>\n",
       "      <td>0.000000</td>\n",
       "      <td>0.000000</td>\n",
       "      <td>0.000000</td>\n",
       "      <td>0.000000</td>\n",
       "      <td>0.000000</td>\n",
       "      <td>0.000000</td>\n",
       "      <td>1.000000</td>\n",
       "      <td>4.000000</td>\n",
       "    </tr>\n",
       "    <tr>\n",
       "      <th>max</th>\n",
       "      <td>97903.000000</td>\n",
       "      <td>1.000000</td>\n",
       "      <td>373.000000</td>\n",
       "      <td>2017.0</td>\n",
       "      <td>35.000000</td>\n",
       "      <td>31.000000</td>\n",
       "      <td>4.000000</td>\n",
       "      <td>6.00000</td>\n",
       "      <td>4.000000</td>\n",
       "      <td>3.000000</td>\n",
       "      <td>2.000000</td>\n",
       "      <td>1.000000</td>\n",
       "      <td>6.000000</td>\n",
       "      <td>72.000000</td>\n",
       "      <td>18.000000</td>\n",
       "      <td>223.000000</td>\n",
       "      <td>8.000000</td>\n",
       "      <td>5.000000</td>\n",
       "      <td>10.000000</td>\n",
       "    </tr>\n",
       "  </tbody>\n",
       "</table>\n",
       "</div>"
      ],
      "text/plain": [
       "                 id   is_canceled     lead_time  arrival_date_year  \\\n",
       "count  32412.000000  32412.000000  32412.000000            32412.0   \n",
       "mean   60131.505183      0.388467     97.587869             2017.0   \n",
       "std    29953.586177      0.487409     86.507146                0.0   \n",
       "min     6086.000000      0.000000      0.000000             2017.0   \n",
       "25%    45291.750000      0.000000     23.000000             2017.0   \n",
       "50%    53394.500000      0.000000     76.000000             2017.0   \n",
       "75%    89800.250000      1.000000    155.000000             2017.0   \n",
       "max    97903.000000      1.000000    373.000000             2017.0   \n",
       "\n",
       "       arrival_date_week_number  arrival_date_day_of_month  \\\n",
       "count              32412.000000               32412.000000   \n",
       "mean                  17.804054                  15.656948   \n",
       "std                    9.177384                   8.766429   \n",
       "min                    1.000000                   1.000000   \n",
       "25%                   10.000000                   8.000000   \n",
       "50%                   18.000000                  15.500000   \n",
       "75%                   25.000000                  23.000000   \n",
       "max                   35.000000                  31.000000   \n",
       "\n",
       "       stays_in_weekend_nights  stays_in_week_nights        adults  \\\n",
       "count             32412.000000           32412.00000  32412.000000   \n",
       "mean                  0.867888               2.34009      1.858602   \n",
       "std                   0.853394               1.37517      0.489341   \n",
       "min                   0.000000               0.00000      0.000000   \n",
       "25%                   0.000000               1.00000      2.000000   \n",
       "50%                   1.000000               2.00000      2.000000   \n",
       "75%                   2.000000               3.00000      2.000000   \n",
       "max                   4.000000               6.00000      4.000000   \n",
       "\n",
       "           children        babies  is_repeated_guest  previous_cancellations  \\\n",
       "count  32412.000000  32412.000000       32412.000000            32412.000000   \n",
       "mean       0.083765      0.005523           0.031377                0.011601   \n",
       "std        0.343470      0.075757           0.174338                0.180473   \n",
       "min        0.000000      0.000000           0.000000                0.000000   \n",
       "25%        0.000000      0.000000           0.000000                0.000000   \n",
       "50%        0.000000      0.000000           0.000000                0.000000   \n",
       "75%        0.000000      0.000000           0.000000                0.000000   \n",
       "max        3.000000      2.000000           1.000000                6.000000   \n",
       "\n",
       "       previous_bookings_not_canceled  booking_changes  days_in_waiting_list  \\\n",
       "count                    32412.000000     32412.000000          32412.000000   \n",
       "mean                         0.171418         0.216741              0.262341   \n",
       "std                          1.875170         0.640551              4.733027   \n",
       "min                          0.000000         0.000000              0.000000   \n",
       "25%                          0.000000         0.000000              0.000000   \n",
       "50%                          0.000000         0.000000              0.000000   \n",
       "75%                          0.000000         0.000000              0.000000   \n",
       "max                         72.000000        18.000000            223.000000   \n",
       "\n",
       "       required_car_parking_spaces  total_of_special_requests  total_nights  \n",
       "count                 32412.000000               32412.000000  32412.000000  \n",
       "mean                      0.046248                   0.657781      3.207979  \n",
       "std                       0.219367                   0.834341      1.738683  \n",
       "min                       0.000000                   0.000000      1.000000  \n",
       "25%                       0.000000                   0.000000      2.000000  \n",
       "50%                       0.000000                   0.000000      3.000000  \n",
       "75%                       0.000000                   1.000000      4.000000  \n",
       "max                       8.000000                   5.000000     10.000000  "
      ]
     },
     "metadata": {},
     "output_type": "display_data"
    }
   ],
   "source": [
    "display(hotel_train.describe())\n",
    "display(hotel_test.describe())"
   ]
  },
  {
   "cell_type": "code",
   "execution_count": 5,
   "metadata": {},
   "outputs": [
    {
     "data": {
      "text/plain": [
       "<AxesSubplot:>"
      ]
     },
     "execution_count": 5,
     "metadata": {},
     "output_type": "execute_result"
    },
    {
     "data": {
      "image/png": "[encoded data removed]",
      "text/plain": [
       "<Figure size 432x288 with 1 Axes>"
      ]
     },
     "metadata": {
      "needs_background": "light"
     },
     "output_type": "display_data"
    }
   ],
   "source": [
    "hotel_train['days_in_waiting_list'].hist()\n",
    "hotel_test['days_in_waiting_list'].hist()"
   ]
  },
  {
   "cell_type": "code",
   "execution_count": 6,
   "metadata": {},
   "outputs": [
    {
     "data": {
      "text/plain": [
       "<AxesSubplot:>"
      ]
     },
     "execution_count": 6,
     "metadata": {},
     "output_type": "execute_result"
    },
    {
     "data": {
      "image/png": "[encoded data removed]",
      "text/plain": [
       "<Figure size 432x288 with 1 Axes>"
      ]
     },
     "metadata": {
      "needs_background": "light"
     },
     "output_type": "display_data"
    }
   ],
   "source": [
    "hotel_train.boxplot(column=['days_in_waiting_list'])"
   ]
  },
  {
   "cell_type": "code",
   "execution_count": 7,
   "metadata": {},
   "outputs": [
    {
     "data": {
      "text/plain": [
       "<AxesSubplot:>"
      ]
     },
     "execution_count": 7,
     "metadata": {},
     "output_type": "execute_result"
    },
    {
     "data": {
      "image/png": "[encoded data removed]",
      "text/plain": [
       "<Figure size 432x288 with 1 Axes>"
      ]
     },
     "metadata": {
      "needs_background": "light"
     },
     "output_type": "display_data"
    }
   ],
   "source": [
    "hotel_test.boxplot(column=['days_in_waiting_list'])"
   ]
  },
  {
   "cell_type": "code",
   "execution_count": 8,
   "metadata": {},
   "outputs": [
    {
     "data": {
      "text/plain": [
       "22995    10.0\n",
       "41528     9.0\n",
       "Name: babies, dtype: float64"
      ]
     },
     "execution_count": 8,
     "metadata": {},
     "output_type": "execute_result"
    }
   ],
   "source": [
    "hotel_train.loc[hotel_train['babies'] > 5, 'babies']"
   ]
  },
  {
   "cell_type": "code",
   "execution_count": 9,
   "metadata": {},
   "outputs": [
    {
     "data": {
      "text/plain": [
       "65227"
      ]
     },
     "execution_count": 9,
     "metadata": {},
     "output_type": "execute_result"
    }
   ],
   "source": [
    "i = hotel_train.loc[hotel_train['babies'] > 5, 'babies'].index\n",
    "hotel_train = hotel_train.drop(i)\n",
    "len(hotel_train)"
   ]
  },
  {
   "cell_type": "code",
   "execution_count": 10,
   "metadata": {},
   "outputs": [
    {
     "data": {
      "text/plain": [
       "22534    1.0\n",
       "44049    1.0\n",
       "52923    1.0\n",
       "Name: babies, dtype: float64"
      ]
     },
     "execution_count": 10,
     "metadata": {},
     "output_type": "execute_result"
    }
   ],
   "source": [
    "hotel_train.loc[(hotel_train['babies'] > 0) & (hotel_train['adults'] < 1), 'babies']"
   ]
  },
  {
   "cell_type": "code",
   "execution_count": 11,
   "metadata": {},
   "outputs": [],
   "source": [
    "i = hotel_train.loc[(hotel_train['babies'] > 0) & (hotel_train['adults'] < 1), 'babies'].index\n",
    "hotel_train = hotel_train.drop(i)"
   ]
  },
  {
   "cell_type": "code",
   "execution_count": 12,
   "metadata": {},
   "outputs": [
    {
     "data": {
      "text/plain": [
       "Series([], Name: children, dtype: float64)"
      ]
     },
     "execution_count": 12,
     "metadata": {},
     "output_type": "execute_result"
    }
   ],
   "source": [
    "hotel_test.loc[(hotel_test['babies'] > 0) & (hotel_test['adults'] < 1), 'children']"
   ]
  },
  {
   "cell_type": "code",
   "execution_count": 13,
   "metadata": {},
   "outputs": [
    {
     "data": {
      "text/plain": [
       "17540    3.0\n",
       "17598    2.0\n",
       "17982    2.0\n",
       "21556    2.0\n",
       "22516    3.0\n",
       "        ... \n",
       "64641    2.0\n",
       "64751    3.0\n",
       "64882    2.0\n",
       "64892    2.0\n",
       "64903    2.0\n",
       "Name: children, Length: 148, dtype: float64"
      ]
     },
     "execution_count": 13,
     "metadata": {},
     "output_type": "execute_result"
    }
   ],
   "source": [
    "hotel_train.loc[(hotel_train['children'] > 0) & (hotel_train['adults'] < 1), 'children']"
   ]
  },
  {
   "cell_type": "code",
   "execution_count": 14,
   "metadata": {},
   "outputs": [
    {
     "data": {
      "text/plain": [
       "65076"
      ]
     },
     "execution_count": 14,
     "metadata": {},
     "output_type": "execute_result"
    }
   ],
   "source": [
    "i = hotel_train.loc[(hotel_train['children'] > 0) & (hotel_train['adults'] < 1), 'children'].index\n",
    "hotel_train = hotel_train.drop(i)\n",
    "len(hotel_train)"
   ]
  },
  {
   "cell_type": "code",
   "execution_count": 15,
   "metadata": {},
   "outputs": [
    {
     "data": {
      "text/plain": [
       "7743     2.0\n",
       "7751     2.0\n",
       "8772     2.0\n",
       "9243     2.0\n",
       "9305     2.0\n",
       "        ... \n",
       "30601    2.0\n",
       "30654    2.0\n",
       "30678    2.0\n",
       "30815    2.0\n",
       "31418    3.0\n",
       "Name: children, Length: 62, dtype: float64"
      ]
     },
     "execution_count": 15,
     "metadata": {},
     "output_type": "execute_result"
    }
   ],
   "source": [
    "hotel_test.loc[(hotel_test['children'] > 0) & (hotel_test['adults'] < 1), 'children']"
   ]
  },
  {
   "cell_type": "code",
   "execution_count": 16,
   "metadata": {},
   "outputs": [
    {
     "data": {
      "text/plain": [
       "32350"
      ]
     },
     "execution_count": 16,
     "metadata": {},
     "output_type": "execute_result"
    }
   ],
   "source": [
    "i = hotel_test.loc[(hotel_test['children'] > 0) & (hotel_test['adults'] < 1), 'children'].index\n",
    "hotel_test = hotel_test.drop(i)\n",
    "len(hotel_test)"
   ]
  },
  {
   "cell_type": "code",
   "execution_count": 17,
   "metadata": {},
   "outputs": [],
   "source": [
    "hotel_train = hotel_train.drop('id',axis=1)\n",
    "hotel_test = hotel_test.drop('id',axis=1)"
   ]
  },
  {
   "cell_type": "code",
   "execution_count": 18,
   "metadata": {},
   "outputs": [
    {
     "data": {
      "text/html": [
       "<div>\n",
       "<style scoped>\n",
       "    .dataframe tbody tr th:only-of-type {\n",
       "        vertical-align: middle;\n",
       "    }\n",
       "\n",
       "    .dataframe tbody tr th {\n",
       "        vertical-align: top;\n",
       "    }\n",
       "\n",
       "    .dataframe thead th {\n",
       "        text-align: right;\n",
       "    }\n",
       "</style>\n",
       "<table border=\"1\" class=\"dataframe\">\n",
       "  <thead>\n",
       "    <tr style=\"text-align: right;\">\n",
       "      <th></th>\n",
       "      <th>is_canceled</th>\n",
       "      <th>lead_time</th>\n",
       "      <th>arrival_date_year</th>\n",
       "      <th>arrival_date_month</th>\n",
       "      <th>arrival_date_week_number</th>\n",
       "      <th>arrival_date_day_of_month</th>\n",
       "      <th>stays_in_weekend_nights</th>\n",
       "      <th>stays_in_week_nights</th>\n",
       "      <th>adults</th>\n",
       "      <th>children</th>\n",
       "      <th>...</th>\n",
       "      <th>is_repeated_guest</th>\n",
       "      <th>previous_cancellations</th>\n",
       "      <th>previous_bookings_not_canceled</th>\n",
       "      <th>reserved_room_type</th>\n",
       "      <th>booking_changes</th>\n",
       "      <th>days_in_waiting_list</th>\n",
       "      <th>customer_type</th>\n",
       "      <th>required_car_parking_spaces</th>\n",
       "      <th>total_of_special_requests</th>\n",
       "      <th>total_nights</th>\n",
       "    </tr>\n",
       "  </thead>\n",
       "  <tbody>\n",
       "    <tr>\n",
       "      <th>1</th>\n",
       "      <td>1</td>\n",
       "      <td>62.0</td>\n",
       "      <td>2017</td>\n",
       "      <td>January</td>\n",
       "      <td>1</td>\n",
       "      <td>1</td>\n",
       "      <td>2</td>\n",
       "      <td>2</td>\n",
       "      <td>2.0</td>\n",
       "      <td>0.0</td>\n",
       "      <td>...</td>\n",
       "      <td>0</td>\n",
       "      <td>0</td>\n",
       "      <td>0</td>\n",
       "      <td>A</td>\n",
       "      <td>0</td>\n",
       "      <td>0</td>\n",
       "      <td>Transient</td>\n",
       "      <td>0</td>\n",
       "      <td>1</td>\n",
       "      <td>4</td>\n",
       "    </tr>\n",
       "    <tr>\n",
       "      <th>2</th>\n",
       "      <td>1</td>\n",
       "      <td>62.0</td>\n",
       "      <td>2017</td>\n",
       "      <td>January</td>\n",
       "      <td>1</td>\n",
       "      <td>1</td>\n",
       "      <td>2</td>\n",
       "      <td>2</td>\n",
       "      <td>2.0</td>\n",
       "      <td>0.0</td>\n",
       "      <td>...</td>\n",
       "      <td>0</td>\n",
       "      <td>0</td>\n",
       "      <td>0</td>\n",
       "      <td>A</td>\n",
       "      <td>0</td>\n",
       "      <td>0</td>\n",
       "      <td>Transient</td>\n",
       "      <td>0</td>\n",
       "      <td>1</td>\n",
       "      <td>4</td>\n",
       "    </tr>\n",
       "    <tr>\n",
       "      <th>33</th>\n",
       "      <td>1</td>\n",
       "      <td>113.0</td>\n",
       "      <td>2017</td>\n",
       "      <td>January</td>\n",
       "      <td>2</td>\n",
       "      <td>8</td>\n",
       "      <td>1</td>\n",
       "      <td>0</td>\n",
       "      <td>2.0</td>\n",
       "      <td>0.0</td>\n",
       "      <td>...</td>\n",
       "      <td>0</td>\n",
       "      <td>0</td>\n",
       "      <td>0</td>\n",
       "      <td>A</td>\n",
       "      <td>0</td>\n",
       "      <td>0</td>\n",
       "      <td>Transient</td>\n",
       "      <td>0</td>\n",
       "      <td>0</td>\n",
       "      <td>1</td>\n",
       "    </tr>\n",
       "    <tr>\n",
       "      <th>34</th>\n",
       "      <td>1</td>\n",
       "      <td>113.0</td>\n",
       "      <td>2017</td>\n",
       "      <td>January</td>\n",
       "      <td>2</td>\n",
       "      <td>8</td>\n",
       "      <td>1</td>\n",
       "      <td>0</td>\n",
       "      <td>2.0</td>\n",
       "      <td>0.0</td>\n",
       "      <td>...</td>\n",
       "      <td>0</td>\n",
       "      <td>0</td>\n",
       "      <td>0</td>\n",
       "      <td>A</td>\n",
       "      <td>0</td>\n",
       "      <td>0</td>\n",
       "      <td>Transient</td>\n",
       "      <td>0</td>\n",
       "      <td>0</td>\n",
       "      <td>1</td>\n",
       "    </tr>\n",
       "    <tr>\n",
       "      <th>58</th>\n",
       "      <td>1</td>\n",
       "      <td>40.0</td>\n",
       "      <td>2017</td>\n",
       "      <td>January</td>\n",
       "      <td>3</td>\n",
       "      <td>16</td>\n",
       "      <td>1</td>\n",
       "      <td>2</td>\n",
       "      <td>1.0</td>\n",
       "      <td>0.0</td>\n",
       "      <td>...</td>\n",
       "      <td>0</td>\n",
       "      <td>0</td>\n",
       "      <td>0</td>\n",
       "      <td>A</td>\n",
       "      <td>0</td>\n",
       "      <td>0</td>\n",
       "      <td>Transient-Party</td>\n",
       "      <td>0</td>\n",
       "      <td>0</td>\n",
       "      <td>3</td>\n",
       "    </tr>\n",
       "    <tr>\n",
       "      <th>...</th>\n",
       "      <td>...</td>\n",
       "      <td>...</td>\n",
       "      <td>...</td>\n",
       "      <td>...</td>\n",
       "      <td>...</td>\n",
       "      <td>...</td>\n",
       "      <td>...</td>\n",
       "      <td>...</td>\n",
       "      <td>...</td>\n",
       "      <td>...</td>\n",
       "      <td>...</td>\n",
       "      <td>...</td>\n",
       "      <td>...</td>\n",
       "      <td>...</td>\n",
       "      <td>...</td>\n",
       "      <td>...</td>\n",
       "      <td>...</td>\n",
       "      <td>...</td>\n",
       "      <td>...</td>\n",
       "      <td>...</td>\n",
       "      <td>...</td>\n",
       "    </tr>\n",
       "    <tr>\n",
       "      <th>32380</th>\n",
       "      <td>0</td>\n",
       "      <td>63.0</td>\n",
       "      <td>2017</td>\n",
       "      <td>August</td>\n",
       "      <td>35</td>\n",
       "      <td>31</td>\n",
       "      <td>0</td>\n",
       "      <td>3</td>\n",
       "      <td>3.0</td>\n",
       "      <td>0.0</td>\n",
       "      <td>...</td>\n",
       "      <td>0</td>\n",
       "      <td>0</td>\n",
       "      <td>0</td>\n",
       "      <td>D</td>\n",
       "      <td>0</td>\n",
       "      <td>0</td>\n",
       "      <td>Transient-Party</td>\n",
       "      <td>0</td>\n",
       "      <td>2</td>\n",
       "      <td>3</td>\n",
       "    </tr>\n",
       "    <tr>\n",
       "      <th>32381</th>\n",
       "      <td>0</td>\n",
       "      <td>63.0</td>\n",
       "      <td>2017</td>\n",
       "      <td>August</td>\n",
       "      <td>35</td>\n",
       "      <td>31</td>\n",
       "      <td>0</td>\n",
       "      <td>3</td>\n",
       "      <td>3.0</td>\n",
       "      <td>0.0</td>\n",
       "      <td>...</td>\n",
       "      <td>0</td>\n",
       "      <td>0</td>\n",
       "      <td>0</td>\n",
       "      <td>D</td>\n",
       "      <td>0</td>\n",
       "      <td>0</td>\n",
       "      <td>Transient-Party</td>\n",
       "      <td>0</td>\n",
       "      <td>2</td>\n",
       "      <td>3</td>\n",
       "    </tr>\n",
       "    <tr>\n",
       "      <th>32382</th>\n",
       "      <td>0</td>\n",
       "      <td>63.0</td>\n",
       "      <td>2017</td>\n",
       "      <td>August</td>\n",
       "      <td>35</td>\n",
       "      <td>31</td>\n",
       "      <td>0</td>\n",
       "      <td>3</td>\n",
       "      <td>3.0</td>\n",
       "      <td>0.0</td>\n",
       "      <td>...</td>\n",
       "      <td>0</td>\n",
       "      <td>0</td>\n",
       "      <td>0</td>\n",
       "      <td>D</td>\n",
       "      <td>0</td>\n",
       "      <td>0</td>\n",
       "      <td>Transient-Party</td>\n",
       "      <td>0</td>\n",
       "      <td>2</td>\n",
       "      <td>3</td>\n",
       "    </tr>\n",
       "    <tr>\n",
       "      <th>32398</th>\n",
       "      <td>0</td>\n",
       "      <td>175.0</td>\n",
       "      <td>2017</td>\n",
       "      <td>August</td>\n",
       "      <td>35</td>\n",
       "      <td>31</td>\n",
       "      <td>1</td>\n",
       "      <td>3</td>\n",
       "      <td>1.0</td>\n",
       "      <td>0.0</td>\n",
       "      <td>...</td>\n",
       "      <td>0</td>\n",
       "      <td>0</td>\n",
       "      <td>0</td>\n",
       "      <td>A</td>\n",
       "      <td>0</td>\n",
       "      <td>0</td>\n",
       "      <td>Transient</td>\n",
       "      <td>0</td>\n",
       "      <td>1</td>\n",
       "      <td>4</td>\n",
       "    </tr>\n",
       "    <tr>\n",
       "      <th>32399</th>\n",
       "      <td>0</td>\n",
       "      <td>175.0</td>\n",
       "      <td>2017</td>\n",
       "      <td>August</td>\n",
       "      <td>35</td>\n",
       "      <td>31</td>\n",
       "      <td>1</td>\n",
       "      <td>3</td>\n",
       "      <td>1.0</td>\n",
       "      <td>0.0</td>\n",
       "      <td>...</td>\n",
       "      <td>0</td>\n",
       "      <td>0</td>\n",
       "      <td>0</td>\n",
       "      <td>A</td>\n",
       "      <td>0</td>\n",
       "      <td>0</td>\n",
       "      <td>Transient</td>\n",
       "      <td>0</td>\n",
       "      <td>1</td>\n",
       "      <td>4</td>\n",
       "    </tr>\n",
       "  </tbody>\n",
       "</table>\n",
       "<p>10107 rows × 24 columns</p>\n",
       "</div>"
      ],
      "text/plain": [
       "       is_canceled  lead_time  arrival_date_year arrival_date_month  \\\n",
       "1                1       62.0               2017            January   \n",
       "2                1       62.0               2017            January   \n",
       "33               1      113.0               2017            January   \n",
       "34               1      113.0               2017            January   \n",
       "58               1       40.0               2017            January   \n",
       "...            ...        ...                ...                ...   \n",
       "32380            0       63.0               2017             August   \n",
       "32381            0       63.0               2017             August   \n",
       "32382            0       63.0               2017             August   \n",
       "32398            0      175.0               2017             August   \n",
       "32399            0      175.0               2017             August   \n",
       "\n",
       "       arrival_date_week_number  arrival_date_day_of_month  \\\n",
       "1                             1                          1   \n",
       "2                             1                          1   \n",
       "33                            2                          8   \n",
       "34                            2                          8   \n",
       "58                            3                         16   \n",
       "...                         ...                        ...   \n",
       "32380                        35                         31   \n",
       "32381                        35                         31   \n",
       "32382                        35                         31   \n",
       "32398                        35                         31   \n",
       "32399                        35                         31   \n",
       "\n",
       "       stays_in_weekend_nights  stays_in_week_nights  adults  children  ...  \\\n",
       "1                            2                     2     2.0       0.0  ...   \n",
       "2                            2                     2     2.0       0.0  ...   \n",
       "33                           1                     0     2.0       0.0  ...   \n",
       "34                           1                     0     2.0       0.0  ...   \n",
       "58                           1                     2     1.0       0.0  ...   \n",
       "...                        ...                   ...     ...       ...  ...   \n",
       "32380                        0                     3     3.0       0.0  ...   \n",
       "32381                        0                     3     3.0       0.0  ...   \n",
       "32382                        0                     3     3.0       0.0  ...   \n",
       "32398                        1                     3     1.0       0.0  ...   \n",
       "32399                        1                     3     1.0       0.0  ...   \n",
       "\n",
       "       is_repeated_guest previous_cancellations  \\\n",
       "1                      0                      0   \n",
       "2                      0                      0   \n",
       "33                     0                      0   \n",
       "34                     0                      0   \n",
       "58                     0                      0   \n",
       "...                  ...                    ...   \n",
       "32380                  0                      0   \n",
       "32381                  0                      0   \n",
       "32382                  0                      0   \n",
       "32398                  0                      0   \n",
       "32399                  0                      0   \n",
       "\n",
       "      previous_bookings_not_canceled reserved_room_type  booking_changes  \\\n",
       "1                                  0   A                               0   \n",
       "2                                  0   A                               0   \n",
       "33                                 0   A                               0   \n",
       "34                                 0   A                               0   \n",
       "58                                 0   A                               0   \n",
       "...                              ...                ...              ...   \n",
       "32380                              0   D                               0   \n",
       "32381                              0   D                               0   \n",
       "32382                              0   D                               0   \n",
       "32398                              0   A                               0   \n",
       "32399                              0   A                               0   \n",
       "\n",
       "       days_in_waiting_list    customer_type required_car_parking_spaces  \\\n",
       "1                         0        Transient                           0   \n",
       "2                         0        Transient                           0   \n",
       "33                        0        Transient                           0   \n",
       "34                        0        Transient                           0   \n",
       "58                        0  Transient-Party                           0   \n",
       "...                     ...              ...                         ...   \n",
       "32380                     0  Transient-Party                           0   \n",
       "32381                     0  Transient-Party                           0   \n",
       "32382                     0  Transient-Party                           0   \n",
       "32398                     0        Transient                           0   \n",
       "32399                     0        Transient                           0   \n",
       "\n",
       "       total_of_special_requests  total_nights  \n",
       "1                              1             4  \n",
       "2                              1             4  \n",
       "33                             0             1  \n",
       "34                             0             1  \n",
       "58                             0             3  \n",
       "...                          ...           ...  \n",
       "32380                          2             3  \n",
       "32381                          2             3  \n",
       "32382                          2             3  \n",
       "32398                          1             4  \n",
       "32399                          1             4  \n",
       "\n",
       "[10107 rows x 24 columns]"
      ]
     },
     "metadata": {},
     "output_type": "display_data"
    },
    {
     "data": {
      "text/html": [
       "<div>\n",
       "<style scoped>\n",
       "    .dataframe tbody tr th:only-of-type {\n",
       "        vertical-align: middle;\n",
       "    }\n",
       "\n",
       "    .dataframe tbody tr th {\n",
       "        vertical-align: top;\n",
       "    }\n",
       "\n",
       "    .dataframe thead th {\n",
       "        text-align: right;\n",
       "    }\n",
       "</style>\n",
       "<table border=\"1\" class=\"dataframe\">\n",
       "  <thead>\n",
       "    <tr style=\"text-align: right;\">\n",
       "      <th></th>\n",
       "      <th>is_canceled</th>\n",
       "      <th>lead_time</th>\n",
       "      <th>arrival_date_year</th>\n",
       "      <th>arrival_date_month</th>\n",
       "      <th>arrival_date_week_number</th>\n",
       "      <th>arrival_date_day_of_month</th>\n",
       "      <th>stays_in_weekend_nights</th>\n",
       "      <th>stays_in_week_nights</th>\n",
       "      <th>adults</th>\n",
       "      <th>children</th>\n",
       "      <th>...</th>\n",
       "      <th>is_repeated_guest</th>\n",
       "      <th>previous_cancellations</th>\n",
       "      <th>previous_bookings_not_canceled</th>\n",
       "      <th>reserved_room_type</th>\n",
       "      <th>booking_changes</th>\n",
       "      <th>days_in_waiting_list</th>\n",
       "      <th>customer_type</th>\n",
       "      <th>required_car_parking_spaces</th>\n",
       "      <th>total_of_special_requests</th>\n",
       "      <th>total_nights</th>\n",
       "    </tr>\n",
       "  </thead>\n",
       "  <tbody>\n",
       "    <tr>\n",
       "      <th>12</th>\n",
       "      <td>0</td>\n",
       "      <td>72.0</td>\n",
       "      <td>2015</td>\n",
       "      <td>July</td>\n",
       "      <td>27</td>\n",
       "      <td>1</td>\n",
       "      <td>2</td>\n",
       "      <td>4</td>\n",
       "      <td>2.0</td>\n",
       "      <td>0.0</td>\n",
       "      <td>...</td>\n",
       "      <td>0</td>\n",
       "      <td>0</td>\n",
       "      <td>0</td>\n",
       "      <td>A</td>\n",
       "      <td>1</td>\n",
       "      <td>0</td>\n",
       "      <td>Transient</td>\n",
       "      <td>0</td>\n",
       "      <td>1</td>\n",
       "      <td>6</td>\n",
       "    </tr>\n",
       "    <tr>\n",
       "      <th>13</th>\n",
       "      <td>0</td>\n",
       "      <td>72.0</td>\n",
       "      <td>2015</td>\n",
       "      <td>July</td>\n",
       "      <td>27</td>\n",
       "      <td>1</td>\n",
       "      <td>2</td>\n",
       "      <td>4</td>\n",
       "      <td>2.0</td>\n",
       "      <td>0.0</td>\n",
       "      <td>...</td>\n",
       "      <td>0</td>\n",
       "      <td>0</td>\n",
       "      <td>0</td>\n",
       "      <td>A</td>\n",
       "      <td>1</td>\n",
       "      <td>0</td>\n",
       "      <td>Transient</td>\n",
       "      <td>0</td>\n",
       "      <td>1</td>\n",
       "      <td>6</td>\n",
       "    </tr>\n",
       "    <tr>\n",
       "      <th>82</th>\n",
       "      <td>1</td>\n",
       "      <td>5.0</td>\n",
       "      <td>2015</td>\n",
       "      <td>July</td>\n",
       "      <td>28</td>\n",
       "      <td>5</td>\n",
       "      <td>1</td>\n",
       "      <td>0</td>\n",
       "      <td>2.0</td>\n",
       "      <td>0.0</td>\n",
       "      <td>...</td>\n",
       "      <td>0</td>\n",
       "      <td>0</td>\n",
       "      <td>0</td>\n",
       "      <td>D</td>\n",
       "      <td>0</td>\n",
       "      <td>0</td>\n",
       "      <td>Transient</td>\n",
       "      <td>0</td>\n",
       "      <td>0</td>\n",
       "      <td>1</td>\n",
       "    </tr>\n",
       "    <tr>\n",
       "      <th>85</th>\n",
       "      <td>1</td>\n",
       "      <td>5.0</td>\n",
       "      <td>2015</td>\n",
       "      <td>July</td>\n",
       "      <td>28</td>\n",
       "      <td>5</td>\n",
       "      <td>1</td>\n",
       "      <td>0</td>\n",
       "      <td>2.0</td>\n",
       "      <td>0.0</td>\n",
       "      <td>...</td>\n",
       "      <td>0</td>\n",
       "      <td>0</td>\n",
       "      <td>0</td>\n",
       "      <td>D</td>\n",
       "      <td>0</td>\n",
       "      <td>0</td>\n",
       "      <td>Transient</td>\n",
       "      <td>0</td>\n",
       "      <td>0</td>\n",
       "      <td>1</td>\n",
       "    </tr>\n",
       "    <tr>\n",
       "      <th>113</th>\n",
       "      <td>0</td>\n",
       "      <td>0.0</td>\n",
       "      <td>2015</td>\n",
       "      <td>July</td>\n",
       "      <td>28</td>\n",
       "      <td>7</td>\n",
       "      <td>0</td>\n",
       "      <td>1</td>\n",
       "      <td>1.0</td>\n",
       "      <td>0.0</td>\n",
       "      <td>...</td>\n",
       "      <td>0</td>\n",
       "      <td>0</td>\n",
       "      <td>0</td>\n",
       "      <td>A</td>\n",
       "      <td>0</td>\n",
       "      <td>0</td>\n",
       "      <td>Transient</td>\n",
       "      <td>0</td>\n",
       "      <td>3</td>\n",
       "      <td>1</td>\n",
       "    </tr>\n",
       "    <tr>\n",
       "      <th>...</th>\n",
       "      <td>...</td>\n",
       "      <td>...</td>\n",
       "      <td>...</td>\n",
       "      <td>...</td>\n",
       "      <td>...</td>\n",
       "      <td>...</td>\n",
       "      <td>...</td>\n",
       "      <td>...</td>\n",
       "      <td>...</td>\n",
       "      <td>...</td>\n",
       "      <td>...</td>\n",
       "      <td>...</td>\n",
       "      <td>...</td>\n",
       "      <td>...</td>\n",
       "      <td>...</td>\n",
       "      <td>...</td>\n",
       "      <td>...</td>\n",
       "      <td>...</td>\n",
       "      <td>...</td>\n",
       "      <td>...</td>\n",
       "      <td>...</td>\n",
       "    </tr>\n",
       "    <tr>\n",
       "      <th>65189</th>\n",
       "      <td>0</td>\n",
       "      <td>269.0</td>\n",
       "      <td>2016</td>\n",
       "      <td>December</td>\n",
       "      <td>53</td>\n",
       "      <td>29</td>\n",
       "      <td>2</td>\n",
       "      <td>3</td>\n",
       "      <td>1.0</td>\n",
       "      <td>0.0</td>\n",
       "      <td>...</td>\n",
       "      <td>0</td>\n",
       "      <td>0</td>\n",
       "      <td>0</td>\n",
       "      <td>A</td>\n",
       "      <td>0</td>\n",
       "      <td>0</td>\n",
       "      <td>Transient-Party</td>\n",
       "      <td>0</td>\n",
       "      <td>0</td>\n",
       "      <td>5</td>\n",
       "    </tr>\n",
       "    <tr>\n",
       "      <th>65192</th>\n",
       "      <td>0</td>\n",
       "      <td>269.0</td>\n",
       "      <td>2016</td>\n",
       "      <td>December</td>\n",
       "      <td>53</td>\n",
       "      <td>29</td>\n",
       "      <td>2</td>\n",
       "      <td>3</td>\n",
       "      <td>1.0</td>\n",
       "      <td>0.0</td>\n",
       "      <td>...</td>\n",
       "      <td>0</td>\n",
       "      <td>0</td>\n",
       "      <td>0</td>\n",
       "      <td>A</td>\n",
       "      <td>0</td>\n",
       "      <td>0</td>\n",
       "      <td>Transient-Party</td>\n",
       "      <td>0</td>\n",
       "      <td>0</td>\n",
       "      <td>5</td>\n",
       "    </tr>\n",
       "    <tr>\n",
       "      <th>65193</th>\n",
       "      <td>0</td>\n",
       "      <td>269.0</td>\n",
       "      <td>2016</td>\n",
       "      <td>December</td>\n",
       "      <td>53</td>\n",
       "      <td>29</td>\n",
       "      <td>2</td>\n",
       "      <td>3</td>\n",
       "      <td>1.0</td>\n",
       "      <td>0.0</td>\n",
       "      <td>...</td>\n",
       "      <td>0</td>\n",
       "      <td>0</td>\n",
       "      <td>0</td>\n",
       "      <td>A</td>\n",
       "      <td>0</td>\n",
       "      <td>0</td>\n",
       "      <td>Transient-Party</td>\n",
       "      <td>0</td>\n",
       "      <td>1</td>\n",
       "      <td>5</td>\n",
       "    </tr>\n",
       "    <tr>\n",
       "      <th>65201</th>\n",
       "      <td>0</td>\n",
       "      <td>291.0</td>\n",
       "      <td>2016</td>\n",
       "      <td>December</td>\n",
       "      <td>53</td>\n",
       "      <td>28</td>\n",
       "      <td>2</td>\n",
       "      <td>4</td>\n",
       "      <td>2.0</td>\n",
       "      <td>0.0</td>\n",
       "      <td>...</td>\n",
       "      <td>0</td>\n",
       "      <td>0</td>\n",
       "      <td>0</td>\n",
       "      <td>A</td>\n",
       "      <td>2</td>\n",
       "      <td>0</td>\n",
       "      <td>Transient</td>\n",
       "      <td>0</td>\n",
       "      <td>2</td>\n",
       "      <td>6</td>\n",
       "    </tr>\n",
       "    <tr>\n",
       "      <th>65202</th>\n",
       "      <td>0</td>\n",
       "      <td>291.0</td>\n",
       "      <td>2016</td>\n",
       "      <td>December</td>\n",
       "      <td>53</td>\n",
       "      <td>28</td>\n",
       "      <td>2</td>\n",
       "      <td>4</td>\n",
       "      <td>2.0</td>\n",
       "      <td>0.0</td>\n",
       "      <td>...</td>\n",
       "      <td>0</td>\n",
       "      <td>0</td>\n",
       "      <td>0</td>\n",
       "      <td>A</td>\n",
       "      <td>2</td>\n",
       "      <td>0</td>\n",
       "      <td>Transient</td>\n",
       "      <td>0</td>\n",
       "      <td>2</td>\n",
       "      <td>6</td>\n",
       "    </tr>\n",
       "  </tbody>\n",
       "</table>\n",
       "<p>26379 rows × 24 columns</p>\n",
       "</div>"
      ],
      "text/plain": [
       "       is_canceled  lead_time  arrival_date_year arrival_date_month  \\\n",
       "12               0       72.0               2015               July   \n",
       "13               0       72.0               2015               July   \n",
       "82               1        5.0               2015               July   \n",
       "85               1        5.0               2015               July   \n",
       "113              0        0.0               2015               July   \n",
       "...            ...        ...                ...                ...   \n",
       "65189            0      269.0               2016           December   \n",
       "65192            0      269.0               2016           December   \n",
       "65193            0      269.0               2016           December   \n",
       "65201            0      291.0               2016           December   \n",
       "65202            0      291.0               2016           December   \n",
       "\n",
       "       arrival_date_week_number  arrival_date_day_of_month  \\\n",
       "12                           27                          1   \n",
       "13                           27                          1   \n",
       "82                           28                          5   \n",
       "85                           28                          5   \n",
       "113                          28                          7   \n",
       "...                         ...                        ...   \n",
       "65189                        53                         29   \n",
       "65192                        53                         29   \n",
       "65193                        53                         29   \n",
       "65201                        53                         28   \n",
       "65202                        53                         28   \n",
       "\n",
       "       stays_in_weekend_nights  stays_in_week_nights  adults  children  ...  \\\n",
       "12                           2                     4     2.0       0.0  ...   \n",
       "13                           2                     4     2.0       0.0  ...   \n",
       "82                           1                     0     2.0       0.0  ...   \n",
       "85                           1                     0     2.0       0.0  ...   \n",
       "113                          0                     1     1.0       0.0  ...   \n",
       "...                        ...                   ...     ...       ...  ...   \n",
       "65189                        2                     3     1.0       0.0  ...   \n",
       "65192                        2                     3     1.0       0.0  ...   \n",
       "65193                        2                     3     1.0       0.0  ...   \n",
       "65201                        2                     4     2.0       0.0  ...   \n",
       "65202                        2                     4     2.0       0.0  ...   \n",
       "\n",
       "       is_repeated_guest previous_cancellations  \\\n",
       "12                     0                      0   \n",
       "13                     0                      0   \n",
       "82                     0                      0   \n",
       "85                     0                      0   \n",
       "113                    0                      0   \n",
       "...                  ...                    ...   \n",
       "65189                  0                      0   \n",
       "65192                  0                      0   \n",
       "65193                  0                      0   \n",
       "65201                  0                      0   \n",
       "65202                  0                      0   \n",
       "\n",
       "      previous_bookings_not_canceled reserved_room_type  booking_changes  \\\n",
       "12                                 0   A                               1   \n",
       "13                                 0   A                               1   \n",
       "82                                 0   D                               0   \n",
       "85                                 0   D                               0   \n",
       "113                                0   A                               0   \n",
       "...                              ...                ...              ...   \n",
       "65189                              0   A                               0   \n",
       "65192                              0   A                               0   \n",
       "65193                              0   A                               0   \n",
       "65201                              0   A                               2   \n",
       "65202                              0   A                               2   \n",
       "\n",
       "       days_in_waiting_list    customer_type required_car_parking_spaces  \\\n",
       "12                        0        Transient                           0   \n",
       "13                        0        Transient                           0   \n",
       "82                        0        Transient                           0   \n",
       "85                        0        Transient                           0   \n",
       "113                       0        Transient                           0   \n",
       "...                     ...              ...                         ...   \n",
       "65189                     0  Transient-Party                           0   \n",
       "65192                     0  Transient-Party                           0   \n",
       "65193                     0  Transient-Party                           0   \n",
       "65201                     0        Transient                           0   \n",
       "65202                     0        Transient                           0   \n",
       "\n",
       "       total_of_special_requests  total_nights  \n",
       "12                             1             6  \n",
       "13                             1             6  \n",
       "82                             0             1  \n",
       "85                             0             1  \n",
       "113                            3             1  \n",
       "...                          ...           ...  \n",
       "65189                          0             5  \n",
       "65192                          0             5  \n",
       "65193                          1             5  \n",
       "65201                          2             6  \n",
       "65202                          2             6  \n",
       "\n",
       "[26379 rows x 24 columns]"
      ]
     },
     "metadata": {},
     "output_type": "display_data"
    }
   ],
   "source": [
    "display(hotel_test[hotel_test.duplicated(keep=False)])\n",
    "display(hotel_train[hotel_train.duplicated(keep=False)])"
   ]
  },
  {
   "cell_type": "code",
   "execution_count": 19,
   "metadata": {},
   "outputs": [
    {
     "name": "stdout",
     "output_type": "stream",
     "text": [
      "43701\n",
      "24637\n"
     ]
    }
   ],
   "source": [
    "hotel_train = hotel_train.drop_duplicates()\n",
    "hotel_test = hotel_test.drop_duplicates()\n",
    "print(len(hotel_train))\n",
    "print(len(hotel_test))"
   ]
  },
  {
   "cell_type": "markdown",
   "metadata": {},
   "source": [
    "Неявные дубликаты найдены и удалены. Нашлись аномальные значения в столбце babies и были удалены. Также были подозрения что, в столбце days_in_waiting_list тоже есть аномалии, но они не оправдались при визуализации. Также были найдены и удалены строки, где якобы дети и младенцы проживали без родителей, что является выбросом. "
   ]
  },
  {
   "cell_type": "markdown",
   "metadata": {},
   "source": [
    "<div class=\"alert alert-danger\">\n",
    "<h2>Комментарий ревьюера<a class=\"tocSkip\"></a></h2>\n",
    "\n",
    "**Нужно доработать** ❌: в данных есть аномалии и выбросы: например, есть бронирования с 10 младенцами. Нужно внимательнее поизучать каждый признак на предмет некорректных значений и описать результаты в выводе. Также убедись в наличии выводов на каждом этапе </div>"
   ]
  },
  {
   "cell_type": "markdown",
   "metadata": {},
   "source": [
    "<div class=\"alert alert-warning\">\n",
    "<h2>Комментарий ревьюера v2<a class=\"tocSkip\"></a></h2>\n",
    "    \n",
    "**Есть совет** ⚠️: окей, но стоит поизучать и другие аномалии: например, убедиться, что в данных нет бронирований с детьми без взрослых, так как детям номер сдать не могут. Также стоит проверить наличие дубликатов после удаления id</div>"
   ]
  },
  {
   "cell_type": "markdown",
   "metadata": {},
   "source": [
    "### Шаг 3. Формулировка ML-задачи на основе бизнес-задачи"
   ]
  },
  {
   "cell_type": "code",
   "execution_count": 20,
   "metadata": {},
   "outputs": [],
   "source": [
    "hotel_train['reserved_room_type'] = hotel_train['reserved_room_type'].str.strip()\n",
    "hotel_test['reserved_room_type'] = hotel_train['reserved_room_type'].str.strip()"
   ]
  },
  {
   "cell_type": "code",
   "execution_count": 21,
   "metadata": {},
   "outputs": [
    {
     "data": {
      "text/html": [
       "<div>\n",
       "<style scoped>\n",
       "    .dataframe tbody tr th:only-of-type {\n",
       "        vertical-align: middle;\n",
       "    }\n",
       "\n",
       "    .dataframe tbody tr th {\n",
       "        vertical-align: top;\n",
       "    }\n",
       "\n",
       "    .dataframe thead th {\n",
       "        text-align: right;\n",
       "    }\n",
       "</style>\n",
       "<table border=\"1\" class=\"dataframe\">\n",
       "  <thead>\n",
       "    <tr style=\"text-align: right;\">\n",
       "      <th></th>\n",
       "      <th>is_canceled</th>\n",
       "      <th>lead_time</th>\n",
       "      <th>arrival_date_year</th>\n",
       "      <th>arrival_date_month</th>\n",
       "      <th>arrival_date_week_number</th>\n",
       "      <th>arrival_date_day_of_month</th>\n",
       "      <th>stays_in_weekend_nights</th>\n",
       "      <th>stays_in_week_nights</th>\n",
       "      <th>adults</th>\n",
       "      <th>children</th>\n",
       "      <th>...</th>\n",
       "      <th>is_repeated_guest</th>\n",
       "      <th>previous_cancellations</th>\n",
       "      <th>previous_bookings_not_canceled</th>\n",
       "      <th>reserved_room_type</th>\n",
       "      <th>booking_changes</th>\n",
       "      <th>days_in_waiting_list</th>\n",
       "      <th>customer_type</th>\n",
       "      <th>required_car_parking_spaces</th>\n",
       "      <th>total_of_special_requests</th>\n",
       "      <th>total_nights</th>\n",
       "    </tr>\n",
       "  </thead>\n",
       "  <tbody>\n",
       "    <tr>\n",
       "      <th>0</th>\n",
       "      <td>0.0</td>\n",
       "      <td>7.0</td>\n",
       "      <td>0.0</td>\n",
       "      <td>5.0</td>\n",
       "      <td>26.0</td>\n",
       "      <td>0.0</td>\n",
       "      <td>0.0</td>\n",
       "      <td>1.0</td>\n",
       "      <td>1.0</td>\n",
       "      <td>0.0</td>\n",
       "      <td>...</td>\n",
       "      <td>0.0</td>\n",
       "      <td>0.0</td>\n",
       "      <td>0.0</td>\n",
       "      <td>0.0</td>\n",
       "      <td>0.0</td>\n",
       "      <td>0.0</td>\n",
       "      <td>2.0</td>\n",
       "      <td>0.0</td>\n",
       "      <td>0.0</td>\n",
       "      <td>0.0</td>\n",
       "    </tr>\n",
       "    <tr>\n",
       "      <th>1</th>\n",
       "      <td>0.0</td>\n",
       "      <td>14.0</td>\n",
       "      <td>0.0</td>\n",
       "      <td>5.0</td>\n",
       "      <td>26.0</td>\n",
       "      <td>0.0</td>\n",
       "      <td>0.0</td>\n",
       "      <td>2.0</td>\n",
       "      <td>2.0</td>\n",
       "      <td>0.0</td>\n",
       "      <td>...</td>\n",
       "      <td>0.0</td>\n",
       "      <td>0.0</td>\n",
       "      <td>0.0</td>\n",
       "      <td>0.0</td>\n",
       "      <td>0.0</td>\n",
       "      <td>0.0</td>\n",
       "      <td>2.0</td>\n",
       "      <td>0.0</td>\n",
       "      <td>1.0</td>\n",
       "      <td>1.0</td>\n",
       "    </tr>\n",
       "    <tr>\n",
       "      <th>2</th>\n",
       "      <td>0.0</td>\n",
       "      <td>0.0</td>\n",
       "      <td>0.0</td>\n",
       "      <td>5.0</td>\n",
       "      <td>26.0</td>\n",
       "      <td>0.0</td>\n",
       "      <td>0.0</td>\n",
       "      <td>2.0</td>\n",
       "      <td>2.0</td>\n",
       "      <td>0.0</td>\n",
       "      <td>...</td>\n",
       "      <td>0.0</td>\n",
       "      <td>0.0</td>\n",
       "      <td>0.0</td>\n",
       "      <td>2.0</td>\n",
       "      <td>0.0</td>\n",
       "      <td>0.0</td>\n",
       "      <td>2.0</td>\n",
       "      <td>0.0</td>\n",
       "      <td>0.0</td>\n",
       "      <td>1.0</td>\n",
       "    </tr>\n",
       "    <tr>\n",
       "      <th>3</th>\n",
       "      <td>0.0</td>\n",
       "      <td>9.0</td>\n",
       "      <td>0.0</td>\n",
       "      <td>5.0</td>\n",
       "      <td>26.0</td>\n",
       "      <td>0.0</td>\n",
       "      <td>0.0</td>\n",
       "      <td>2.0</td>\n",
       "      <td>2.0</td>\n",
       "      <td>0.0</td>\n",
       "      <td>...</td>\n",
       "      <td>0.0</td>\n",
       "      <td>0.0</td>\n",
       "      <td>0.0</td>\n",
       "      <td>2.0</td>\n",
       "      <td>0.0</td>\n",
       "      <td>0.0</td>\n",
       "      <td>2.0</td>\n",
       "      <td>0.0</td>\n",
       "      <td>1.0</td>\n",
       "      <td>1.0</td>\n",
       "    </tr>\n",
       "    <tr>\n",
       "      <th>4</th>\n",
       "      <td>1.0</td>\n",
       "      <td>85.0</td>\n",
       "      <td>0.0</td>\n",
       "      <td>5.0</td>\n",
       "      <td>26.0</td>\n",
       "      <td>0.0</td>\n",
       "      <td>0.0</td>\n",
       "      <td>3.0</td>\n",
       "      <td>2.0</td>\n",
       "      <td>0.0</td>\n",
       "      <td>...</td>\n",
       "      <td>0.0</td>\n",
       "      <td>0.0</td>\n",
       "      <td>0.0</td>\n",
       "      <td>0.0</td>\n",
       "      <td>0.0</td>\n",
       "      <td>0.0</td>\n",
       "      <td>2.0</td>\n",
       "      <td>0.0</td>\n",
       "      <td>1.0</td>\n",
       "      <td>2.0</td>\n",
       "    </tr>\n",
       "    <tr>\n",
       "      <th>...</th>\n",
       "      <td>...</td>\n",
       "      <td>...</td>\n",
       "      <td>...</td>\n",
       "      <td>...</td>\n",
       "      <td>...</td>\n",
       "      <td>...</td>\n",
       "      <td>...</td>\n",
       "      <td>...</td>\n",
       "      <td>...</td>\n",
       "      <td>...</td>\n",
       "      <td>...</td>\n",
       "      <td>...</td>\n",
       "      <td>...</td>\n",
       "      <td>...</td>\n",
       "      <td>...</td>\n",
       "      <td>...</td>\n",
       "      <td>...</td>\n",
       "      <td>...</td>\n",
       "      <td>...</td>\n",
       "      <td>...</td>\n",
       "      <td>...</td>\n",
       "    </tr>\n",
       "    <tr>\n",
       "      <th>43696</th>\n",
       "      <td>0.0</td>\n",
       "      <td>23.0</td>\n",
       "      <td>1.0</td>\n",
       "      <td>2.0</td>\n",
       "      <td>52.0</td>\n",
       "      <td>29.0</td>\n",
       "      <td>2.0</td>\n",
       "      <td>4.0</td>\n",
       "      <td>2.0</td>\n",
       "      <td>0.0</td>\n",
       "      <td>...</td>\n",
       "      <td>0.0</td>\n",
       "      <td>0.0</td>\n",
       "      <td>0.0</td>\n",
       "      <td>3.0</td>\n",
       "      <td>0.0</td>\n",
       "      <td>0.0</td>\n",
       "      <td>2.0</td>\n",
       "      <td>0.0</td>\n",
       "      <td>2.0</td>\n",
       "      <td>5.0</td>\n",
       "    </tr>\n",
       "    <tr>\n",
       "      <th>43697</th>\n",
       "      <td>0.0</td>\n",
       "      <td>53.0</td>\n",
       "      <td>1.0</td>\n",
       "      <td>2.0</td>\n",
       "      <td>52.0</td>\n",
       "      <td>30.0</td>\n",
       "      <td>2.0</td>\n",
       "      <td>3.0</td>\n",
       "      <td>2.0</td>\n",
       "      <td>0.0</td>\n",
       "      <td>...</td>\n",
       "      <td>0.0</td>\n",
       "      <td>0.0</td>\n",
       "      <td>0.0</td>\n",
       "      <td>3.0</td>\n",
       "      <td>0.0</td>\n",
       "      <td>0.0</td>\n",
       "      <td>2.0</td>\n",
       "      <td>0.0</td>\n",
       "      <td>3.0</td>\n",
       "      <td>4.0</td>\n",
       "    </tr>\n",
       "    <tr>\n",
       "      <th>43698</th>\n",
       "      <td>0.0</td>\n",
       "      <td>7.0</td>\n",
       "      <td>1.0</td>\n",
       "      <td>2.0</td>\n",
       "      <td>52.0</td>\n",
       "      <td>30.0</td>\n",
       "      <td>2.0</td>\n",
       "      <td>4.0</td>\n",
       "      <td>2.0</td>\n",
       "      <td>0.0</td>\n",
       "      <td>...</td>\n",
       "      <td>0.0</td>\n",
       "      <td>0.0</td>\n",
       "      <td>0.0</td>\n",
       "      <td>3.0</td>\n",
       "      <td>0.0</td>\n",
       "      <td>0.0</td>\n",
       "      <td>2.0</td>\n",
       "      <td>0.0</td>\n",
       "      <td>1.0</td>\n",
       "      <td>5.0</td>\n",
       "    </tr>\n",
       "    <tr>\n",
       "      <th>43699</th>\n",
       "      <td>0.0</td>\n",
       "      <td>17.0</td>\n",
       "      <td>1.0</td>\n",
       "      <td>2.0</td>\n",
       "      <td>52.0</td>\n",
       "      <td>29.0</td>\n",
       "      <td>2.0</td>\n",
       "      <td>5.0</td>\n",
       "      <td>2.0</td>\n",
       "      <td>0.0</td>\n",
       "      <td>...</td>\n",
       "      <td>0.0</td>\n",
       "      <td>0.0</td>\n",
       "      <td>0.0</td>\n",
       "      <td>0.0</td>\n",
       "      <td>0.0</td>\n",
       "      <td>0.0</td>\n",
       "      <td>2.0</td>\n",
       "      <td>0.0</td>\n",
       "      <td>1.0</td>\n",
       "      <td>6.0</td>\n",
       "    </tr>\n",
       "    <tr>\n",
       "      <th>43700</th>\n",
       "      <td>0.0</td>\n",
       "      <td>107.0</td>\n",
       "      <td>1.0</td>\n",
       "      <td>2.0</td>\n",
       "      <td>52.0</td>\n",
       "      <td>30.0</td>\n",
       "      <td>2.0</td>\n",
       "      <td>5.0</td>\n",
       "      <td>2.0</td>\n",
       "      <td>0.0</td>\n",
       "      <td>...</td>\n",
       "      <td>0.0</td>\n",
       "      <td>0.0</td>\n",
       "      <td>0.0</td>\n",
       "      <td>0.0</td>\n",
       "      <td>0.0</td>\n",
       "      <td>0.0</td>\n",
       "      <td>2.0</td>\n",
       "      <td>0.0</td>\n",
       "      <td>0.0</td>\n",
       "      <td>6.0</td>\n",
       "    </tr>\n",
       "  </tbody>\n",
       "</table>\n",
       "<p>43701 rows × 24 columns</p>\n",
       "</div>"
      ],
      "text/plain": [
       "       is_canceled  lead_time  arrival_date_year  arrival_date_month  \\\n",
       "0              0.0        7.0                0.0                 5.0   \n",
       "1              0.0       14.0                0.0                 5.0   \n",
       "2              0.0        0.0                0.0                 5.0   \n",
       "3              0.0        9.0                0.0                 5.0   \n",
       "4              1.0       85.0                0.0                 5.0   \n",
       "...            ...        ...                ...                 ...   \n",
       "43696          0.0       23.0                1.0                 2.0   \n",
       "43697          0.0       53.0                1.0                 2.0   \n",
       "43698          0.0        7.0                1.0                 2.0   \n",
       "43699          0.0       17.0                1.0                 2.0   \n",
       "43700          0.0      107.0                1.0                 2.0   \n",
       "\n",
       "       arrival_date_week_number  arrival_date_day_of_month  \\\n",
       "0                          26.0                        0.0   \n",
       "1                          26.0                        0.0   \n",
       "2                          26.0                        0.0   \n",
       "3                          26.0                        0.0   \n",
       "4                          26.0                        0.0   \n",
       "...                         ...                        ...   \n",
       "43696                      52.0                       29.0   \n",
       "43697                      52.0                       30.0   \n",
       "43698                      52.0                       30.0   \n",
       "43699                      52.0                       29.0   \n",
       "43700                      52.0                       30.0   \n",
       "\n",
       "       stays_in_weekend_nights  stays_in_week_nights  adults  children  ...  \\\n",
       "0                          0.0                   1.0     1.0       0.0  ...   \n",
       "1                          0.0                   2.0     2.0       0.0  ...   \n",
       "2                          0.0                   2.0     2.0       0.0  ...   \n",
       "3                          0.0                   2.0     2.0       0.0  ...   \n",
       "4                          0.0                   3.0     2.0       0.0  ...   \n",
       "...                        ...                   ...     ...       ...  ...   \n",
       "43696                      2.0                   4.0     2.0       0.0  ...   \n",
       "43697                      2.0                   3.0     2.0       0.0  ...   \n",
       "43698                      2.0                   4.0     2.0       0.0  ...   \n",
       "43699                      2.0                   5.0     2.0       0.0  ...   \n",
       "43700                      2.0                   5.0     2.0       0.0  ...   \n",
       "\n",
       "       is_repeated_guest  previous_cancellations  \\\n",
       "0                    0.0                     0.0   \n",
       "1                    0.0                     0.0   \n",
       "2                    0.0                     0.0   \n",
       "3                    0.0                     0.0   \n",
       "4                    0.0                     0.0   \n",
       "...                  ...                     ...   \n",
       "43696                0.0                     0.0   \n",
       "43697                0.0                     0.0   \n",
       "43698                0.0                     0.0   \n",
       "43699                0.0                     0.0   \n",
       "43700                0.0                     0.0   \n",
       "\n",
       "       previous_bookings_not_canceled  reserved_room_type  booking_changes  \\\n",
       "0                                 0.0                 0.0              0.0   \n",
       "1                                 0.0                 0.0              0.0   \n",
       "2                                 0.0                 2.0              0.0   \n",
       "3                                 0.0                 2.0              0.0   \n",
       "4                                 0.0                 0.0              0.0   \n",
       "...                               ...                 ...              ...   \n",
       "43696                             0.0                 3.0              0.0   \n",
       "43697                             0.0                 3.0              0.0   \n",
       "43698                             0.0                 3.0              0.0   \n",
       "43699                             0.0                 0.0              0.0   \n",
       "43700                             0.0                 0.0              0.0   \n",
       "\n",
       "       days_in_waiting_list  customer_type  required_car_parking_spaces  \\\n",
       "0                       0.0            2.0                          0.0   \n",
       "1                       0.0            2.0                          0.0   \n",
       "2                       0.0            2.0                          0.0   \n",
       "3                       0.0            2.0                          0.0   \n",
       "4                       0.0            2.0                          0.0   \n",
       "...                     ...            ...                          ...   \n",
       "43696                   0.0            2.0                          0.0   \n",
       "43697                   0.0            2.0                          0.0   \n",
       "43698                   0.0            2.0                          0.0   \n",
       "43699                   0.0            2.0                          0.0   \n",
       "43700                   0.0            2.0                          0.0   \n",
       "\n",
       "       total_of_special_requests  total_nights  \n",
       "0                            0.0           0.0  \n",
       "1                            1.0           1.0  \n",
       "2                            0.0           1.0  \n",
       "3                            1.0           1.0  \n",
       "4                            1.0           2.0  \n",
       "...                          ...           ...  \n",
       "43696                        2.0           5.0  \n",
       "43697                        3.0           4.0  \n",
       "43698                        1.0           5.0  \n",
       "43699                        1.0           6.0  \n",
       "43700                        0.0           6.0  \n",
       "\n",
       "[43701 rows x 24 columns]"
      ]
     },
     "execution_count": 21,
     "metadata": {},
     "output_type": "execute_result"
    }
   ],
   "source": [
    "encoder = OrdinalEncoder(handle_unknown='ignore')\n",
    "encoder.fit(hotel_train)\n",
    "hotel_train_oe = pd.DataFrame(encoder.transform(hotel_train), columns=hotel_train.columns)\n",
    "\n",
    "hotel_test = hotel_test.dropna() # почему то откуда то появилась одна строка с NA значением, которой ранее не было, изза этого код падал\n",
    "hotel_test_oe = pd.DataFrame(encoder.transform(hotel_test), columns=hotel_test.columns)\n",
    "hotel_train_oe"
   ]
  },
  {
   "cell_type": "markdown",
   "metadata": {},
   "source": [
    "<div class=\"alert alert-info\">\n",
    "    <b>Комментарий студента v3:</b> Порядковое кодирование обучено на обучающей выборке, и трансформировано на обучающей и тестовой выборке.\n",
    "</div>"
   ]
  },
  {
   "cell_type": "markdown",
   "metadata": {},
   "source": [
    "<div class=\"alert alert-warning\" id=\"encoder\">\n",
    "<h2>Комментарий ревьюера v4<a class=\"tocSkip\"></a></h2>\n",
    "    \n",
    "**Есть совет** ⚠️: метод `fit_transform` — это короткая записть для последовательных вызовов `fit` и `transform`, то есть ты для каждой выборки по новой обучаешь OrdinalEncoder, вместо него нужно использовать метод `transform`</div>"
   ]
  },
  {
   "cell_type": "markdown",
   "metadata": {},
   "source": [
    "<div class=\"alert alert-success\">\n",
    "<h2>Комментарий ревьюера v5<a class=\"tocSkip\"></a></h2>\n",
    "    \n",
    "**Отлично!** ✔️: теперь все супер :)</div>"
   ]
  },
  {
   "attachments": {
    "image.png": {
     "image/png": "[encoded data removed]"
    }
   },
   "cell_type": "markdown",
   "metadata": {},
   "source": [
    "<div class=\"alert alert-danger\">\n",
    "<h2>Комментарий ревьюера v2<a class=\"tocSkip\"></a></h2>\n",
    "\n",
    "**Нужно доработать** ❌: тут код падает с ошибкой, перед следующей отправкой проверь работоспособность кода — это можно сделать, нажав на панели Jupiter Hub Kernel и Restart & Run All\n",
    "![image.png](attachment:image.png)</div>"
   ]
  },
  {
   "cell_type": "markdown",
   "metadata": {},
   "source": [
    "<div class=\"alert alert-success\">\n",
    "<h2>Комментарий ревьюера v3<a class=\"tocSkip\"></a></h2>\n",
    "    \n",
    "**Отлично!** ✔️: 👍</div>"
   ]
  },
  {
   "cell_type": "markdown",
   "metadata": {},
   "source": [
    "<div class=\"alert alert-success\">\n",
    "<h2>Комментарий ревьюера<a class=\"tocSkip\"></a></h2>\n",
    "    \n",
    "**Отлично!** ✔️: хорошо, что используешь порядковое кодирование в этом случае</div>"
   ]
  },
  {
   "cell_type": "code",
   "execution_count": 22,
   "metadata": {},
   "outputs": [],
   "source": [
    "def calculate_profit(row):\n",
    "    if row['is_canceled'] == 0:\n",
    "        if row['reserved_room_type'] == 'A':\n",
    "            return (row['total_nights'] * 1000) - (int((1 + row['total_nights'] / 2)) * 400)\n",
    "        elif row['reserved_room_type'] == 'B':\n",
    "            return (row['total_nights'] * 800) - (int((1 + row['total_nights'] / 2)) * 350)\n",
    "        elif row['reserved_room_type'] == 'C':\n",
    "            return (row['total_nights'] * 600) - (int((1 + row['total_nights'] / 2)) * 350)\n",
    "        elif row['reserved_room_type'] == 'D':\n",
    "            return (row['total_nights'] * 550) - (int((1 + row['total_nights'] / 2)) * 150)\n",
    "        elif row['reserved_room_type'] == 'E':\n",
    "            return (row['total_nights'] * 500) - (int((1 + row['total_nights'] / 2)) * 150)\n",
    "        elif row['reserved_room_type'] == 'F':\n",
    "            return (row['total_nights'] * 450) - (int((1 + row['total_nights'] / 2)) * 150)\n",
    "        elif row['reserved_room_type'] == 'G':\n",
    "            return (row['total_nights'] * 350) - (int((1 + row['total_nights'] / 2)) * 150)\n",
    "        else:\n",
    "            return 0\n",
    "    else:\n",
    "        return 0\n",
    "\n",
    "def find_coef(row):\n",
    "    if row['arrival_date_month'] in ['September', 'October', 'November']:\n",
    "        return 0.2\n",
    "    elif row['arrival_date_month'] in ['June', 'July', 'August']:\n",
    "        return 0.4\n",
    "    else:\n",
    "        return 0\n",
    "\n",
    "hotel_train['profit'] = hotel_train.apply(calculate_profit, axis=1)\n",
    "hotel_train['coef'] = hotel_train.apply(find_coef, axis=1)\n",
    "hotel_train['profit_coef'] = hotel_train['profit'] + (hotel_train['profit'] * hotel_train['coef'])"
   ]
  },
  {
   "cell_type": "markdown",
   "metadata": {},
   "source": [
    "<div class=\"alert alert-danger\">\n",
    "<h2>Комментарий ревьюера<a class=\"tocSkip\"></a></h2>\n",
    "\n",
    "**Нужно доработать** ❌: в задании есть фраза: «Прибыль отеля — это разница между стоимостью номера за все ночи и затраты на обслуживание: как при подготовке номера, так и при проживании постояльца». А отсюда мы узнаем два факта:\n",
    "\n",
    "- затраты на обслуживание в случае, когда клиент заселился, нужно вычитать из суммарной стоимости за номер\n",
    "- есть еще одна обязательная уборка перед заселением клиента\n",
    "\n",
    "Чтобы рассчитать количество уборок для любого количества ночей можно использовать формулу `1 + nights // 2`. С учетом дополнительной уборки перед заселением, получается следующее:\n",
    "\n",
    "    1 ночь, дополнительная уборка не требуется, 1 + 1 // 2 = 1\n",
    "    2 ночи, убираться будут днем после первой ночи, 1 + 2 // 2 = 2\n",
    "    3 ночи, убираться будут днем после первой ночи, 1 + 3 // 2 = 2\n",
    "    4 ночи, убираться будут днем после первой ночи, днём после третьей ночи, 1 + 4 // 2 = 3 и т.д.</div>"
   ]
  },
  {
   "cell_type": "markdown",
   "metadata": {},
   "source": [
    "<div class=\"alert alert-info\">\n",
    "    <b>Комментарий студента:</b> Дополнительная уборка добавлена\n",
    "</div>"
   ]
  },
  {
   "cell_type": "markdown",
   "metadata": {},
   "source": [
    "<div class=\"alert alert-danger\">\n",
    "<h2>Комментарий ревьюера v2<a class=\"tocSkip\"></a></h2>\n",
    "\n",
    "**Нужно доработать** ❌: с количеством уборок все окей, но затраты на обслуживание должны вычитаться из суммарной стоимости за номер, нужно поправить</div>"
   ]
  },
  {
   "cell_type": "markdown",
   "metadata": {},
   "source": [
    "<div class=\"alert alert-info\">\n",
    "    <b>Комментарий студента v2:</b> Как я понял нужно отнять затраты на уборки от стоимости проживания...\n",
    "</div>"
   ]
  },
  {
   "cell_type": "markdown",
   "metadata": {},
   "source": [
    "<div class=\"alert alert-success\">\n",
    "<h2>Комментарий ревьюера v3<a class=\"tocSkip\"></a></h2>\n",
    "    \n",
    "**Отлично!** ✔️: все так, теперь прибыль рассчитывается корректно</div>"
   ]
  },
  {
   "cell_type": "code",
   "execution_count": 23,
   "metadata": {},
   "outputs": [
    {
     "name": "stdout",
     "output_type": "stream",
     "text": [
      "73584080.0\n"
     ]
    }
   ],
   "source": [
    "profit = hotel_train.loc[hotel_train['is_canceled'] == 0, 'profit_coef'].sum()\n",
    "print(profit)"
   ]
  },
  {
   "cell_type": "code",
   "execution_count": 24,
   "metadata": {},
   "outputs": [],
   "source": [
    "def calculate_loss(row):\n",
    "    if row['is_canceled'] == 1:\n",
    "        if row['reserved_room_type'] == 'A':\n",
    "            return 1000 + (1000 * row['coef']) + 400\n",
    "        elif row['reserved_room_type'] == 'B':\n",
    "            return 800 + (800 * row['coef']) + 350\n",
    "        elif row['reserved_room_type'] == 'C':\n",
    "            return 600 + (600 * row['coef']) + 350\n",
    "        elif row['reserved_room_type'] == 'D':\n",
    "            return 550 + (550 * row['coef']) + 150\n",
    "        elif row['reserved_room_type'] == 'E':\n",
    "            return 500 + (500 * row['coef']) + 150\n",
    "        elif row['reserved_room_type'] == 'F':\n",
    "            return 450 + (450 * row['coef']) + 150\n",
    "        elif row['reserved_room_type'] == 'G':\n",
    "            return 350 + (350 * row['coef']) + 150\n",
    "        else:\n",
    "            return 0\n",
    "    else:\n",
    "        return 0\n",
    "    \n",
    "hotel_train['loss'] = hotel_train.apply(calculate_loss, axis=1)"
   ]
  },
  {
   "cell_type": "code",
   "execution_count": 25,
   "metadata": {},
   "outputs": [
    {
     "data": {
      "text/html": [
       "<div>\n",
       "<style scoped>\n",
       "    .dataframe tbody tr th:only-of-type {\n",
       "        vertical-align: middle;\n",
       "    }\n",
       "\n",
       "    .dataframe tbody tr th {\n",
       "        vertical-align: top;\n",
       "    }\n",
       "\n",
       "    .dataframe thead th {\n",
       "        text-align: right;\n",
       "    }\n",
       "</style>\n",
       "<table border=\"1\" class=\"dataframe\">\n",
       "  <thead>\n",
       "    <tr style=\"text-align: right;\">\n",
       "      <th></th>\n",
       "      <th>is_canceled</th>\n",
       "      <th>total_nights</th>\n",
       "      <th>reserved_room_type</th>\n",
       "      <th>arrival_date_month</th>\n",
       "      <th>profit</th>\n",
       "      <th>coef</th>\n",
       "      <th>profit_coef</th>\n",
       "      <th>loss</th>\n",
       "    </tr>\n",
       "  </thead>\n",
       "  <tbody>\n",
       "    <tr>\n",
       "      <th>0</th>\n",
       "      <td>0</td>\n",
       "      <td>1</td>\n",
       "      <td>A</td>\n",
       "      <td>July</td>\n",
       "      <td>600</td>\n",
       "      <td>0.4</td>\n",
       "      <td>840.0</td>\n",
       "      <td>0.0</td>\n",
       "    </tr>\n",
       "    <tr>\n",
       "      <th>1</th>\n",
       "      <td>0</td>\n",
       "      <td>2</td>\n",
       "      <td>A</td>\n",
       "      <td>July</td>\n",
       "      <td>1200</td>\n",
       "      <td>0.4</td>\n",
       "      <td>1680.0</td>\n",
       "      <td>0.0</td>\n",
       "    </tr>\n",
       "    <tr>\n",
       "      <th>2</th>\n",
       "      <td>0</td>\n",
       "      <td>2</td>\n",
       "      <td>C</td>\n",
       "      <td>July</td>\n",
       "      <td>500</td>\n",
       "      <td>0.4</td>\n",
       "      <td>700.0</td>\n",
       "      <td>0.0</td>\n",
       "    </tr>\n",
       "    <tr>\n",
       "      <th>3</th>\n",
       "      <td>0</td>\n",
       "      <td>2</td>\n",
       "      <td>C</td>\n",
       "      <td>July</td>\n",
       "      <td>500</td>\n",
       "      <td>0.4</td>\n",
       "      <td>700.0</td>\n",
       "      <td>0.0</td>\n",
       "    </tr>\n",
       "    <tr>\n",
       "      <th>4</th>\n",
       "      <td>1</td>\n",
       "      <td>3</td>\n",
       "      <td>A</td>\n",
       "      <td>July</td>\n",
       "      <td>0</td>\n",
       "      <td>0.4</td>\n",
       "      <td>0.0</td>\n",
       "      <td>1800.0</td>\n",
       "    </tr>\n",
       "    <tr>\n",
       "      <th>...</th>\n",
       "      <td>...</td>\n",
       "      <td>...</td>\n",
       "      <td>...</td>\n",
       "      <td>...</td>\n",
       "      <td>...</td>\n",
       "      <td>...</td>\n",
       "      <td>...</td>\n",
       "      <td>...</td>\n",
       "    </tr>\n",
       "    <tr>\n",
       "      <th>65224</th>\n",
       "      <td>0</td>\n",
       "      <td>6</td>\n",
       "      <td>D</td>\n",
       "      <td>December</td>\n",
       "      <td>2700</td>\n",
       "      <td>0.0</td>\n",
       "      <td>2700.0</td>\n",
       "      <td>0.0</td>\n",
       "    </tr>\n",
       "    <tr>\n",
       "      <th>65225</th>\n",
       "      <td>0</td>\n",
       "      <td>5</td>\n",
       "      <td>D</td>\n",
       "      <td>December</td>\n",
       "      <td>2300</td>\n",
       "      <td>0.0</td>\n",
       "      <td>2300.0</td>\n",
       "      <td>0.0</td>\n",
       "    </tr>\n",
       "    <tr>\n",
       "      <th>65226</th>\n",
       "      <td>0</td>\n",
       "      <td>6</td>\n",
       "      <td>D</td>\n",
       "      <td>December</td>\n",
       "      <td>2700</td>\n",
       "      <td>0.0</td>\n",
       "      <td>2700.0</td>\n",
       "      <td>0.0</td>\n",
       "    </tr>\n",
       "    <tr>\n",
       "      <th>65227</th>\n",
       "      <td>0</td>\n",
       "      <td>7</td>\n",
       "      <td>A</td>\n",
       "      <td>December</td>\n",
       "      <td>5400</td>\n",
       "      <td>0.0</td>\n",
       "      <td>5400.0</td>\n",
       "      <td>0.0</td>\n",
       "    </tr>\n",
       "    <tr>\n",
       "      <th>65228</th>\n",
       "      <td>0</td>\n",
       "      <td>7</td>\n",
       "      <td>A</td>\n",
       "      <td>December</td>\n",
       "      <td>5400</td>\n",
       "      <td>0.0</td>\n",
       "      <td>5400.0</td>\n",
       "      <td>0.0</td>\n",
       "    </tr>\n",
       "  </tbody>\n",
       "</table>\n",
       "<p>43701 rows × 8 columns</p>\n",
       "</div>"
      ],
      "text/plain": [
       "       is_canceled  total_nights reserved_room_type arrival_date_month  \\\n",
       "0                0             1                  A               July   \n",
       "1                0             2                  A               July   \n",
       "2                0             2                  C               July   \n",
       "3                0             2                  C               July   \n",
       "4                1             3                  A               July   \n",
       "...            ...           ...                ...                ...   \n",
       "65224            0             6                  D           December   \n",
       "65225            0             5                  D           December   \n",
       "65226            0             6                  D           December   \n",
       "65227            0             7                  A           December   \n",
       "65228            0             7                  A           December   \n",
       "\n",
       "       profit  coef  profit_coef    loss  \n",
       "0         600   0.4        840.0     0.0  \n",
       "1        1200   0.4       1680.0     0.0  \n",
       "2         500   0.4        700.0     0.0  \n",
       "3         500   0.4        700.0     0.0  \n",
       "4           0   0.4          0.0  1800.0  \n",
       "...       ...   ...          ...     ...  \n",
       "65224    2700   0.0       2700.0     0.0  \n",
       "65225    2300   0.0       2300.0     0.0  \n",
       "65226    2700   0.0       2700.0     0.0  \n",
       "65227    5400   0.0       5400.0     0.0  \n",
       "65228    5400   0.0       5400.0     0.0  \n",
       "\n",
       "[43701 rows x 8 columns]"
      ]
     },
     "execution_count": 25,
     "metadata": {},
     "output_type": "execute_result"
    }
   ],
   "source": [
    "hotel_train[['is_canceled','total_nights','reserved_room_type','arrival_date_month','profit','coef','profit_coef', 'loss']]"
   ]
  },
  {
   "cell_type": "code",
   "execution_count": 26,
   "metadata": {},
   "outputs": [
    {
     "name": "stdout",
     "output_type": "stream",
     "text": [
      "14714620.0\n",
      "58869460.0\n"
     ]
    }
   ],
   "source": [
    "loss = hotel_train.loc[hotel_train['is_canceled'] == 1, 'loss'].sum()\n",
    "print(loss)\n",
    "print(profit - loss)"
   ]
  },
  {
   "cell_type": "markdown",
   "metadata": {},
   "source": [
    "<div class=\"alert alert-warning\">\n",
    "<h2>Комментарий ревьюера<a class=\"tocSkip\"></a></h2>\n",
    "    \n",
    "**Есть совет** ⚠️: не очень понятно, зачем ты вычитаешь 400000, ведь это стоимость внедрения модели, а самой модели пока нет :)</div>"
   ]
  },
  {
   "cell_type": "markdown",
   "metadata": {},
   "source": [
    "<div class=\"alert alert-success\">\n",
    "<h2>Комментарий ревьюера v2<a class=\"tocSkip\"></a></h2>\n",
    "    \n",
    "**Отлично!** ✔️: 👍</div>"
   ]
  },
  {
   "cell_type": "markdown",
   "metadata": {},
   "source": [
    "Так как мы имеем дело с задачей классификации все категориальные признаки были перекодированы в числовые с помщью порядкового кодирования для того чтобы не угодить в дамми-ловушку. Также, в столбце reserved_room_type хранились лишние пробелы, которые мешали подсчету прибыли. Далее были посчитаны прибыль (прибыль с номера умноженная на коэффицент) - 91 597 300 рублей и убытки отеля - 34 726 540 рублей. Доход составил 56 870 760 рублей."
   ]
  },
  {
   "cell_type": "markdown",
   "metadata": {},
   "source": [
    "### Шаг 4. Разработка модели ML"
   ]
  },
  {
   "cell_type": "markdown",
   "metadata": {},
   "source": [
    "Для оценки модели использована метрика - F1 score. Так как она учитывает как полноту (соотношение правильных позитивных значений (1) к правильным позитивным значениям и неправильным негативным значениям), так и точность (соотношение правильных позитивных значений (1) ко всем позитивным значениям)."
   ]
  },
  {
   "cell_type": "markdown",
   "metadata": {},
   "source": [
    "<div class=\"alert alert-danger\">\n",
    "<h2>Комментарий ревьюера<a class=\"tocSkip\"></a></h2>\n",
    "\n",
    "**Нужно доработать** ❌: перед обучением модели обязательно нужно выбрать основную метрику и аргументировать свой выбор, исходя из бизнес-задачи, это очень важная часть проекта</div>"
   ]
  },
  {
   "cell_type": "markdown",
   "metadata": {},
   "source": [
    "<div class=\"alert alert-success\">\n",
    "<h2>Комментарий ревьюера v2<a class=\"tocSkip\"></a></h2>\n",
    "    \n",
    "**Отлично!** ✔️: окей, F1 в качестве основной метрики тоже подходит, но можно еще пояснить, почему нам важно учитывать и полноту, и точность для решения этой задачи</div>"
   ]
  },
  {
   "cell_type": "code",
   "execution_count": 27,
   "metadata": {},
   "outputs": [
    {
     "data": {
      "text/plain": [
       "<AxesSubplot:>"
      ]
     },
     "execution_count": 27,
     "metadata": {},
     "output_type": "execute_result"
    },
    {
     "data": {
      "image/png": "[encoded data removed]",
      "text/plain": [
       "<Figure size 1008x432 with 1 Axes>"
      ]
     },
     "metadata": {
      "needs_background": "light"
     },
     "output_type": "display_data"
    }
   ],
   "source": [
    "hotel_train['is_canceled'].value_counts(normalize=True).plot(kind='bar', figsize=(14, 6))"
   ]
  },
  {
   "cell_type": "markdown",
   "metadata": {},
   "source": [
    "<div class=\"alert alert-info\">\n",
    "        <b>Комментарий студента v3:</b> Имеется небольшой дисбаланс классов.\n",
    "</div>"
   ]
  },
  {
   "cell_type": "markdown",
   "metadata": {},
   "source": [
    "<div class=\"alert alert-success\">\n",
    "<h2>Комментарий ревьюера v4<a class=\"tocSkip\"></a></h2>\n",
    "    \n",
    "**Отлично!** ✔️: молодец, что отметил дисбаланс!</div>"
   ]
  },
  {
   "cell_type": "code",
   "execution_count": 28,
   "metadata": {},
   "outputs": [],
   "source": [
    "param_grid = {\n",
    "    'max_depth': [50, 100],\n",
    "    'min_samples_split': [2, 6],\n",
    "    'min_samples_leaf': [7, 9, 11]\n",
    "}\n",
    "\n",
    "\n",
    "features = hotel_train_oe.drop(['is_canceled'], axis=1)\n",
    "target = hotel_train_oe['is_canceled']"
   ]
  },
  {
   "cell_type": "code",
   "execution_count": 29,
   "metadata": {
    "scrolled": true
   },
   "outputs": [
    {
     "name": "stdout",
     "output_type": "stream",
     "text": [
      "Fitting 5 folds for each of 12 candidates, totalling 60 fits\n",
      "[CV] END max_depth=50, min_samples_leaf=7, min_samples_split=2; total time=   0.2s\n",
      "[CV] END max_depth=50, min_samples_leaf=7, min_samples_split=2; total time=   0.2s\n",
      "[CV] END max_depth=50, min_samples_leaf=7, min_samples_split=2; total time=   0.2s\n",
      "[CV] END max_depth=50, min_samples_leaf=7, min_samples_split=2; total time=   0.2s\n",
      "[CV] END max_depth=50, min_samples_leaf=7, min_samples_split=2; total time=   0.2s\n",
      "[CV] END max_depth=50, min_samples_leaf=7, min_samples_split=6; total time=   0.2s\n",
      "[CV] END max_depth=50, min_samples_leaf=7, min_samples_split=6; total time=   0.2s\n",
      "[CV] END max_depth=50, min_samples_leaf=7, min_samples_split=6; total time=   0.2s\n",
      "[CV] END max_depth=50, min_samples_leaf=7, min_samples_split=6; total time=   0.2s\n",
      "[CV] END max_depth=50, min_samples_leaf=7, min_samples_split=6; total time=   0.2s\n",
      "[CV] END max_depth=50, min_samples_leaf=9, min_samples_split=2; total time=   0.2s\n",
      "[CV] END max_depth=50, min_samples_leaf=9, min_samples_split=2; total time=   0.2s\n",
      "[CV] END max_depth=50, min_samples_leaf=9, min_samples_split=2; total time=   0.2s\n",
      "[CV] END max_depth=50, min_samples_leaf=9, min_samples_split=2; total time=   0.2s\n",
      "[CV] END max_depth=50, min_samples_leaf=9, min_samples_split=2; total time=   0.2s\n",
      "[CV] END max_depth=50, min_samples_leaf=9, min_samples_split=6; total time=   0.2s\n",
      "[CV] END max_depth=50, min_samples_leaf=9, min_samples_split=6; total time=   0.2s\n",
      "[CV] END max_depth=50, min_samples_leaf=9, min_samples_split=6; total time=   0.2s\n",
      "[CV] END max_depth=50, min_samples_leaf=9, min_samples_split=6; total time=   0.2s\n",
      "[CV] END max_depth=50, min_samples_leaf=9, min_samples_split=6; total time=   0.2s\n",
      "[CV] END max_depth=50, min_samples_leaf=11, min_samples_split=2; total time=   0.2s\n",
      "[CV] END max_depth=50, min_samples_leaf=11, min_samples_split=2; total time=   0.2s\n",
      "[CV] END max_depth=50, min_samples_leaf=11, min_samples_split=2; total time=   0.2s\n",
      "[CV] END max_depth=50, min_samples_leaf=11, min_samples_split=2; total time=   0.2s\n",
      "[CV] END max_depth=50, min_samples_leaf=11, min_samples_split=2; total time=   0.2s\n",
      "[CV] END max_depth=50, min_samples_leaf=11, min_samples_split=6; total time=   0.2s\n",
      "[CV] END max_depth=50, min_samples_leaf=11, min_samples_split=6; total time=   0.2s\n",
      "[CV] END max_depth=50, min_samples_leaf=11, min_samples_split=6; total time=   0.2s\n",
      "[CV] END max_depth=50, min_samples_leaf=11, min_samples_split=6; total time=   0.2s\n",
      "[CV] END max_depth=50, min_samples_leaf=11, min_samples_split=6; total time=   0.2s\n",
      "[CV] END max_depth=100, min_samples_leaf=7, min_samples_split=2; total time=   0.2s\n",
      "[CV] END max_depth=100, min_samples_leaf=7, min_samples_split=2; total time=   0.2s\n",
      "[CV] END max_depth=100, min_samples_leaf=7, min_samples_split=2; total time=   0.2s\n",
      "[CV] END max_depth=100, min_samples_leaf=7, min_samples_split=2; total time=   0.2s\n",
      "[CV] END max_depth=100, min_samples_leaf=7, min_samples_split=2; total time=   0.2s\n",
      "[CV] END max_depth=100, min_samples_leaf=7, min_samples_split=6; total time=   0.2s\n",
      "[CV] END max_depth=100, min_samples_leaf=7, min_samples_split=6; total time=   0.2s\n",
      "[CV] END max_depth=100, min_samples_leaf=7, min_samples_split=6; total time=   0.2s\n",
      "[CV] END max_depth=100, min_samples_leaf=7, min_samples_split=6; total time=   0.2s\n",
      "[CV] END max_depth=100, min_samples_leaf=7, min_samples_split=6; total time=   0.2s\n",
      "[CV] END max_depth=100, min_samples_leaf=9, min_samples_split=2; total time=   0.2s\n",
      "[CV] END max_depth=100, min_samples_leaf=9, min_samples_split=2; total time=   0.2s\n",
      "[CV] END max_depth=100, min_samples_leaf=9, min_samples_split=2; total time=   0.2s\n",
      "[CV] END max_depth=100, min_samples_leaf=9, min_samples_split=2; total time=   0.2s\n",
      "[CV] END max_depth=100, min_samples_leaf=9, min_samples_split=2; total time=   0.2s\n",
      "[CV] END max_depth=100, min_samples_leaf=9, min_samples_split=6; total time=   0.2s\n",
      "[CV] END max_depth=100, min_samples_leaf=9, min_samples_split=6; total time=   0.2s\n",
      "[CV] END max_depth=100, min_samples_leaf=9, min_samples_split=6; total time=   0.2s\n",
      "[CV] END max_depth=100, min_samples_leaf=9, min_samples_split=6; total time=   0.2s\n",
      "[CV] END max_depth=100, min_samples_leaf=9, min_samples_split=6; total time=   0.2s\n",
      "[CV] END max_depth=100, min_samples_leaf=11, min_samples_split=2; total time=   0.2s\n",
      "[CV] END max_depth=100, min_samples_leaf=11, min_samples_split=2; total time=   0.2s\n",
      "[CV] END max_depth=100, min_samples_leaf=11, min_samples_split=2; total time=   0.2s\n",
      "[CV] END max_depth=100, min_samples_leaf=11, min_samples_split=2; total time=   0.2s\n",
      "[CV] END max_depth=100, min_samples_leaf=11, min_samples_split=2; total time=   0.2s\n",
      "[CV] END max_depth=100, min_samples_leaf=11, min_samples_split=6; total time=   0.2s\n",
      "[CV] END max_depth=100, min_samples_leaf=11, min_samples_split=6; total time=   0.2s\n",
      "[CV] END max_depth=100, min_samples_leaf=11, min_samples_split=6; total time=   0.1s\n",
      "[CV] END max_depth=100, min_samples_leaf=11, min_samples_split=6; total time=   0.2s\n",
      "[CV] END max_depth=100, min_samples_leaf=11, min_samples_split=6; total time=   0.2s\n",
      "Best CV accuracy: 0.33339086857107103, with parameters: {'max_depth': 50, 'min_samples_leaf': 9, 'min_samples_split': 2}\n"
     ]
    }
   ],
   "source": [
    "# Дерево решений\n",
    "model = DecisionTreeClassifier(random_state=0,class_weight='balanced')\n",
    "grid_search_dt = GridSearchCV(estimator=model,\n",
    "                           param_grid=param_grid,  # parameters to be tuned\n",
    "                           cv=5,\n",
    "                           n_jobs=-1,  # -1 means use all available cores\n",
    "                           verbose=2,\n",
    "                           scoring='f1')\n",
    "\n",
    "\n",
    "grid_search_dt.fit(features, target)\n",
    "\n",
    "print(\"Best CV accuracy: {}, with parameters: {}\".format(\n",
    "    grid_search_dt.best_score_, grid_search_dt.best_params_))"
   ]
  },
  {
   "cell_type": "markdown",
   "metadata": {},
   "source": [
    "<div class=\"alert alert-success\">\n",
    "<h2>Комментарий ревьюера<a class=\"tocSkip\"></a></h2>\n",
    "    \n",
    "**Отлично!** ✔️: круто, что используешь GridSearchCV!</div>"
   ]
  },
  {
   "cell_type": "markdown",
   "metadata": {},
   "source": [
    "<div class=\"alert alert-danger\">\n",
    "<h2>Комментарий ревьюера<a class=\"tocSkip\"></a></h2>\n",
    "\n",
    "**Нужно доработать** ❌: но GridSearchCV для выбора лучшей модели использует в качестве метрики ту, которая используется для метода score в самой модели. В случае DecisionTreeClassifier — это accuracy_score. Если ты хочешь использовать другую метрику, то ее можно указать с помощью параметра scoring, подробнее про это можно почитать в <a href=\"https://scikit-learn.org/stable/modules/generated/sklearn.model_selection.GridSearchCV.html\" target=\"blank_\">документации</a>.</div>"
   ]
  },
  {
   "cell_type": "markdown",
   "metadata": {},
   "source": [
    "<div class=\"alert alert-success\">\n",
    "<h2>Комментарий ревьюера v2<a class=\"tocSkip\"></a></h2>\n",
    "    \n",
    "**Отлично!** ✔️: 👍</div>"
   ]
  },
  {
   "cell_type": "code",
   "execution_count": 30,
   "metadata": {
    "scrolled": true
   },
   "outputs": [
    {
     "name": "stdout",
     "output_type": "stream",
     "text": [
      "Fitting 5 folds for each of 12 candidates, totalling 60 fits\n",
      "[CV] END max_depth=50, min_samples_leaf=7, min_samples_split=2; total time=   2.6s\n",
      "[CV] END max_depth=50, min_samples_leaf=7, min_samples_split=2; total time=   2.4s\n",
      "[CV] END max_depth=50, min_samples_leaf=7, min_samples_split=2; total time=   2.4s\n",
      "[CV] END max_depth=50, min_samples_leaf=7, min_samples_split=2; total time=   2.4s\n",
      "[CV] END max_depth=50, min_samples_leaf=7, min_samples_split=2; total time=   2.4s\n",
      "[CV] END max_depth=50, min_samples_leaf=7, min_samples_split=6; total time=   2.6s\n",
      "[CV] END max_depth=50, min_samples_leaf=7, min_samples_split=6; total time=   2.5s\n",
      "[CV] END max_depth=50, min_samples_leaf=7, min_samples_split=6; total time=   2.5s\n",
      "[CV] END max_depth=50, min_samples_leaf=7, min_samples_split=6; total time=   2.4s\n",
      "[CV] END max_depth=50, min_samples_leaf=7, min_samples_split=6; total time=   2.5s\n",
      "[CV] END max_depth=50, min_samples_leaf=9, min_samples_split=2; total time=   2.5s\n",
      "[CV] END max_depth=50, min_samples_leaf=9, min_samples_split=2; total time=   2.5s\n",
      "[CV] END max_depth=50, min_samples_leaf=9, min_samples_split=2; total time=   2.4s\n",
      "[CV] END max_depth=50, min_samples_leaf=9, min_samples_split=2; total time=   2.4s\n",
      "[CV] END max_depth=50, min_samples_leaf=9, min_samples_split=2; total time=   2.4s\n",
      "[CV] END max_depth=50, min_samples_leaf=9, min_samples_split=6; total time=   2.5s\n",
      "[CV] END max_depth=50, min_samples_leaf=9, min_samples_split=6; total time=   2.5s\n",
      "[CV] END max_depth=50, min_samples_leaf=9, min_samples_split=6; total time=   2.5s\n",
      "[CV] END max_depth=50, min_samples_leaf=9, min_samples_split=6; total time=   2.3s\n",
      "[CV] END max_depth=50, min_samples_leaf=9, min_samples_split=6; total time=   2.4s\n",
      "[CV] END max_depth=50, min_samples_leaf=11, min_samples_split=2; total time=   2.5s\n",
      "[CV] END max_depth=50, min_samples_leaf=11, min_samples_split=2; total time=   2.4s\n",
      "[CV] END max_depth=50, min_samples_leaf=11, min_samples_split=2; total time=   2.4s\n",
      "[CV] END max_depth=50, min_samples_leaf=11, min_samples_split=2; total time=   2.3s\n",
      "[CV] END max_depth=50, min_samples_leaf=11, min_samples_split=2; total time=   2.3s\n",
      "[CV] END max_depth=50, min_samples_leaf=11, min_samples_split=6; total time=   2.4s\n",
      "[CV] END max_depth=50, min_samples_leaf=11, min_samples_split=6; total time=   2.3s\n",
      "[CV] END max_depth=50, min_samples_leaf=11, min_samples_split=6; total time=   2.3s\n",
      "[CV] END max_depth=50, min_samples_leaf=11, min_samples_split=6; total time=   2.2s\n",
      "[CV] END max_depth=50, min_samples_leaf=11, min_samples_split=6; total time=   2.3s\n",
      "[CV] END max_depth=100, min_samples_leaf=7, min_samples_split=2; total time=   2.6s\n",
      "[CV] END max_depth=100, min_samples_leaf=7, min_samples_split=2; total time=   2.5s\n",
      "[CV] END max_depth=100, min_samples_leaf=7, min_samples_split=2; total time=   2.5s\n",
      "[CV] END max_depth=100, min_samples_leaf=7, min_samples_split=2; total time=   2.5s\n",
      "[CV] END max_depth=100, min_samples_leaf=7, min_samples_split=2; total time=   2.5s\n",
      "[CV] END max_depth=100, min_samples_leaf=7, min_samples_split=6; total time=   2.7s\n",
      "[CV] END max_depth=100, min_samples_leaf=7, min_samples_split=6; total time=   2.5s\n",
      "[CV] END max_depth=100, min_samples_leaf=7, min_samples_split=6; total time=   2.5s\n",
      "[CV] END max_depth=100, min_samples_leaf=7, min_samples_split=6; total time=   2.4s\n",
      "[CV] END max_depth=100, min_samples_leaf=7, min_samples_split=6; total time=   2.5s\n",
      "[CV] END max_depth=100, min_samples_leaf=9, min_samples_split=2; total time=   2.5s\n",
      "[CV] END max_depth=100, min_samples_leaf=9, min_samples_split=2; total time=   2.4s\n",
      "[CV] END max_depth=100, min_samples_leaf=9, min_samples_split=2; total time=   2.4s\n",
      "[CV] END max_depth=100, min_samples_leaf=9, min_samples_split=2; total time=   2.3s\n",
      "[CV] END max_depth=100, min_samples_leaf=9, min_samples_split=2; total time=   2.4s\n",
      "[CV] END max_depth=100, min_samples_leaf=9, min_samples_split=6; total time=   2.5s\n",
      "[CV] END max_depth=100, min_samples_leaf=9, min_samples_split=6; total time=   2.5s\n",
      "[CV] END max_depth=100, min_samples_leaf=9, min_samples_split=6; total time=   2.4s\n",
      "[CV] END max_depth=100, min_samples_leaf=9, min_samples_split=6; total time=   2.4s\n",
      "[CV] END max_depth=100, min_samples_leaf=9, min_samples_split=6; total time=   2.3s\n",
      "[CV] END max_depth=100, min_samples_leaf=11, min_samples_split=2; total time=   2.4s\n",
      "[CV] END max_depth=100, min_samples_leaf=11, min_samples_split=2; total time=   2.3s\n",
      "[CV] END max_depth=100, min_samples_leaf=11, min_samples_split=2; total time=   2.4s\n",
      "[CV] END max_depth=100, min_samples_leaf=11, min_samples_split=2; total time=   2.3s\n",
      "[CV] END max_depth=100, min_samples_leaf=11, min_samples_split=2; total time=   2.3s\n",
      "[CV] END max_depth=100, min_samples_leaf=11, min_samples_split=6; total time=   2.4s\n",
      "[CV] END max_depth=100, min_samples_leaf=11, min_samples_split=6; total time=   2.4s\n",
      "[CV] END max_depth=100, min_samples_leaf=11, min_samples_split=6; total time=   2.4s\n",
      "[CV] END max_depth=100, min_samples_leaf=11, min_samples_split=6; total time=   2.3s\n",
      "[CV] END max_depth=100, min_samples_leaf=11, min_samples_split=6; total time=   2.4s\n",
      "Best CV accuracy: 0.34532812081334485, with parameters: {'max_depth': 50, 'min_samples_leaf': 11, 'min_samples_split': 2}\n"
     ]
    }
   ],
   "source": [
    "# Случайный лес\n",
    "model = RandomForestClassifier(random_state=0,class_weight='balanced')\n",
    "\n",
    "grid_search_rf = GridSearchCV(estimator=model,\n",
    "                           param_grid=param_grid,  # parameters to be tuned\n",
    "                           cv=5,\n",
    "                           n_jobs=-1,  # -1 means use all available cores\n",
    "                           verbose=2,\n",
    "                           scoring='f1')\n",
    "\n",
    "\n",
    "grid_search_rf.fit(features, target)\n",
    "\n",
    "print(\"Best CV accuracy: {}, with parameters: {}\".format(\n",
    "    grid_search_rf.best_score_, grid_search_rf.best_params_))"
   ]
  },
  {
   "cell_type": "code",
   "execution_count": 31,
   "metadata": {
    "scrolled": true
   },
   "outputs": [
    {
     "name": "stdout",
     "output_type": "stream",
     "text": [
      "Fitting 5 folds for each of 12 candidates, totalling 60 fits\n",
      "[CV] END ............................max_iter=80, penalty=l1; total time=   1.4s\n",
      "[CV] END ............................max_iter=80, penalty=l1; total time=   1.5s\n",
      "[CV] END ............................max_iter=80, penalty=l1; total time=   1.5s\n",
      "[CV] END ............................max_iter=80, penalty=l1; total time=   1.5s\n",
      "[CV] END ............................max_iter=80, penalty=l1; total time=   1.5s\n",
      "[CV] END ............................max_iter=80, penalty=l2; total time=   1.2s\n",
      "[CV] END ............................max_iter=80, penalty=l2; total time=   1.2s\n",
      "[CV] END ............................max_iter=80, penalty=l2; total time=   1.2s\n",
      "[CV] END ............................max_iter=80, penalty=l2; total time=   1.2s\n",
      "[CV] END ............................max_iter=80, penalty=l2; total time=   1.2s\n",
      "[CV] END ....................max_iter=80, penalty=elasticnet; total time=   0.1s\n",
      "[CV] END ....................max_iter=80, penalty=elasticnet; total time=   0.0s\n",
      "[CV] END ....................max_iter=80, penalty=elasticnet; total time=   0.1s\n",
      "[CV] END ....................max_iter=80, penalty=elasticnet; total time=   0.0s\n",
      "[CV] END ....................max_iter=80, penalty=elasticnet; total time=   0.0s\n",
      "[CV] END ..........................max_iter=80, penalty=none; total time=   1.0s\n",
      "[CV] END ..........................max_iter=80, penalty=none; total time=   1.1s\n",
      "[CV] END ..........................max_iter=80, penalty=none; total time=   1.2s\n",
      "[CV] END ..........................max_iter=80, penalty=none; total time=   1.1s\n",
      "[CV] END ..........................max_iter=80, penalty=none; total time=   1.3s\n",
      "[CV] END ...........................max_iter=100, penalty=l1; total time=   1.9s\n",
      "[CV] END ...........................max_iter=100, penalty=l1; total time=   1.7s\n",
      "[CV] END ...........................max_iter=100, penalty=l1; total time=   1.8s\n",
      "[CV] END ...........................max_iter=100, penalty=l1; total time=   1.9s\n",
      "[CV] END ...........................max_iter=100, penalty=l1; total time=   1.7s\n",
      "[CV] END ...........................max_iter=100, penalty=l2; total time=   1.5s\n",
      "[CV] END ...........................max_iter=100, penalty=l2; total time=   1.5s\n",
      "[CV] END ...........................max_iter=100, penalty=l2; total time=   1.4s\n",
      "[CV] END ...........................max_iter=100, penalty=l2; total time=   1.4s\n",
      "[CV] END ...........................max_iter=100, penalty=l2; total time=   1.4s\n",
      "[CV] END ...................max_iter=100, penalty=elasticnet; total time=   0.1s\n",
      "[CV] END ...................max_iter=100, penalty=elasticnet; total time=   0.0s\n",
      "[CV] END ...................max_iter=100, penalty=elasticnet; total time=   0.0s\n",
      "[CV] END ...................max_iter=100, penalty=elasticnet; total time=   0.0s\n",
      "[CV] END ...................max_iter=100, penalty=elasticnet; total time=   0.0s\n",
      "[CV] END .........................max_iter=100, penalty=none; total time=   1.3s\n",
      "[CV] END .........................max_iter=100, penalty=none; total time=   1.5s\n",
      "[CV] END .........................max_iter=100, penalty=none; total time=   1.4s\n",
      "[CV] END .........................max_iter=100, penalty=none; total time=   1.5s\n",
      "[CV] END .........................max_iter=100, penalty=none; total time=   1.5s\n",
      "[CV] END ...........................max_iter=150, penalty=l1; total time=   2.5s\n",
      "[CV] END ...........................max_iter=150, penalty=l1; total time=   2.6s\n",
      "[CV] END ...........................max_iter=150, penalty=l1; total time=   2.8s\n",
      "[CV] END ...........................max_iter=150, penalty=l1; total time=   2.6s\n",
      "[CV] END ...........................max_iter=150, penalty=l1; total time=   2.6s\n",
      "[CV] END ...........................max_iter=150, penalty=l2; total time=   2.1s\n",
      "[CV] END ...........................max_iter=150, penalty=l2; total time=   2.3s\n",
      "[CV] END ...........................max_iter=150, penalty=l2; total time=   2.0s\n",
      "[CV] END ...........................max_iter=150, penalty=l2; total time=   2.1s\n",
      "[CV] END ...........................max_iter=150, penalty=l2; total time=   2.0s\n",
      "[CV] END ...................max_iter=150, penalty=elasticnet; total time=   0.0s\n",
      "[CV] END ...................max_iter=150, penalty=elasticnet; total time=   0.1s\n",
      "[CV] END ...................max_iter=150, penalty=elasticnet; total time=   0.0s\n",
      "[CV] END ...................max_iter=150, penalty=elasticnet; total time=   0.0s\n",
      "[CV] END ...................max_iter=150, penalty=elasticnet; total time=   0.0s\n",
      "[CV] END .........................max_iter=150, penalty=none; total time=   1.9s\n",
      "[CV] END .........................max_iter=150, penalty=none; total time=   2.2s\n",
      "[CV] END .........................max_iter=150, penalty=none; total time=   2.1s\n",
      "[CV] END .........................max_iter=150, penalty=none; total time=   2.1s\n",
      "[CV] END .........................max_iter=150, penalty=none; total time=   2.1s\n",
      "Best CV accuracy: 0.45284529667519857, with parameters: {'max_iter': 150, 'penalty': 'l2'}\n"
     ]
    }
   ],
   "source": [
    "# Логистическая регрессия\n",
    "model = LogisticRegression(random_state=0,class_weight='balanced', solver='saga')\n",
    "\n",
    "param_grid_logr = {\n",
    "    'max_iter': [80, 100, 150],\n",
    "    'penalty': ['l1', 'l2', 'elasticnet', 'none']\n",
    "}\n",
    "\n",
    "\n",
    "grid_search_logr = GridSearchCV(estimator=model,\n",
    "                           param_grid=param_grid_logr,  # parameters to be tuned\n",
    "                           cv=5,\n",
    "                           n_jobs=-1,  # -1 means use all available cores\n",
    "                           verbose=2,\n",
    "                           scoring='f1')\n",
    "\n",
    "\n",
    "grid_search_logr.fit(features, target)\n",
    "\n",
    "print(\"Best CV accuracy: {}, with parameters: {}\".format(\n",
    "    grid_search_logr.best_score_, grid_search_logr.best_params_))"
   ]
  },
  {
   "cell_type": "code",
   "execution_count": 32,
   "metadata": {},
   "outputs": [
    {
     "name": "stdout",
     "output_type": "stream",
     "text": [
      "Model Performance\n",
      "F1 = 0.53%.\n"
     ]
    }
   ],
   "source": [
    "def evaluate(model, test_features, test_labels):\n",
    "    predictions = model.predict(test_features)\n",
    "    f1 = f1_score(y_pred=predictions, y_true=test_labels)\n",
    "\n",
    "    print('Model Performance')\n",
    "    print('F1 = {:0.2f}%.'.format(f1))\n",
    "    return [f1]\n",
    "\n",
    "best_model = grid_search_logr.best_estimator_\n",
    "f1 = evaluate(best_model, hotel_test_oe.drop('is_canceled', axis=1), hotel_test_oe['is_canceled'])"
   ]
  },
  {
   "cell_type": "markdown",
   "metadata": {},
   "source": [
    "<div class=\"alert alert-info\">\n",
    "        <b>Комментарий студента v4:</b> Логистическая регрессия показала результаты лучше на обучающей выборке (45% > 34%). Также, учтен небольшой дисбаланс классов с помощью параметра weight_class = 'balanced'. В результате модель улучшилась с 32% до 53%. Модель все еще можно улучшить если учесть больше гиперпараметров, но это требует дополнительного времени на калькуляцию.\n",
    "</div>"
   ]
  },
  {
   "cell_type": "markdown",
   "metadata": {},
   "source": [
    "<div class=\"alert alert-success\">\n",
    "<h2>Комментарий ревьюера v4<a class=\"tocSkip\"></a></h2>\n",
    "    \n",
    "**Отлично!** ✔️: хорошо, что применил взвешивание классов для борьбы с дисбалансом!</div>"
   ]
  },
  {
   "cell_type": "markdown",
   "metadata": {},
   "source": [
    "<div class=\"alert alert-danger\">\n",
    "<h2>Комментарий ревьюера<a class=\"tocSkip\"></a></h2>\n",
    "\n",
    "**Нужно доработать** ❌: R2 — это метрика для задачи регрессии, а мы решаем задачу бинарной классификации, так что стоит выбрать подходящую метрику</div>"
   ]
  },
  {
   "cell_type": "markdown",
   "metadata": {},
   "source": [
    "<div class=\"alert alert-success\">\n",
    "<h2>Комментарий ревьюера v2<a class=\"tocSkip\"></a></h2>\n",
    "    \n",
    "**Отлично!** ✔️: 👍</div>"
   ]
  },
  {
   "cell_type": "markdown",
   "metadata": {},
   "source": [
    "<div class=\"alert alert-danger\">\n",
    "<h2>Комментарий ревьюера v3<a class=\"tocSkip\"></a></h2>\n",
    "\n",
    "**Нужно доработать** ❌: но ты можешь заметить, что твоя модель на тестовой выборке очень плохо справляется, а это может быть связано со следующим:\n",
    "    \n",
    "1. В данных остались выбросы, аномалии, дубликаты и лишние признаки, которые вносят шум и могут ухудшить качество модели, в том числе, привести к переобучению.\n",
    "2. Ты обучаешь и трансформируешь OrdinalEncoder на каждой выборке отдельно. Тогда если в тестовой выборке в каком-то признаке будет меньше категорий, чем в обучающей, то закодированные значения в ней не будет совпадать со значениями на обучающей выборке, и признак начнет только путать модель. Поэтому правильнее обучать OrdinalEncoder только на обучающей выборке, а трансформировать уже обе.\n",
    "3. Масштабирование данных может улучшить качество для линейных моделей, в том числе логистической регрессии\n",
    "\n",
    "Попробуй поправить что-нибудь из этого списка, разобраться, что пошло не так, и улучшить качество на тестовой выборке</div>"
   ]
  },
  {
   "cell_type": "markdown",
   "metadata": {},
   "source": [
    "<div class=\"alert alert-info\">\n",
    "    <b>Комментарий студента v3:</b> Нашел аномалии (дети бронирующие без родителей) и удалил. Также, пробовал удалить дубликаты не учитываяя признак id - в итоге метрика f-1 упала еще намного ниже, и вернул удаленные строки на место. Поправил Ordinal Encoding. Также, от себя учел дисбаланс классов.\n",
    "</div>"
   ]
  },
  {
   "cell_type": "markdown",
   "metadata": {},
   "source": [
    "<div class=\"alert alert-success\">\n",
    "<h2>Комментарий ревьюера v4<a class=\"tocSkip\"></a></h2>\n",
    "    \n",
    "**Отлично!** ✔️: здорово, что получилось избавиться от аномалий в данных. А удаление дубликатов, пусть даже неявных, не должно приводить к сильному падению метрики, скорее всего, дело в не совсем корректном кодировании с помощью OrdinalEncoder, оставил комментарий <a href=\"#encoder\">выше</a></div>"
   ]
  },
  {
   "cell_type": "code",
   "execution_count": 33,
   "metadata": {},
   "outputs": [],
   "source": [
    "prediction = pd.Series(best_model.predict(hotel_test_oe.drop('is_canceled', axis=1)))\n",
    "hotel_test = hotel_test.merge(prediction.rename('prediction'), left_index=True, right_index=True)"
   ]
  },
  {
   "cell_type": "code",
   "execution_count": 34,
   "metadata": {},
   "outputs": [
    {
     "name": "stdout",
     "output_type": "stream",
     "text": [
      "1763330.0\n"
     ]
    }
   ],
   "source": [
    "hotel_test['profit'] = hotel_test.apply(calculate_profit, axis=1)\n",
    "hotel_test['coef'] = hotel_test.apply(find_coef, axis=1)\n",
    "hotel_test['profit_coef'] = hotel_test['profit'] + (hotel_test['profit'] * hotel_test['coef'])\n",
    "hotel_test['loss'] = hotel_test.apply(calculate_loss, axis=1)\n",
    "\n",
    "profit_true = hotel_test.loc[hotel_test['is_canceled'] == 0, 'profit_coef'].sum()\n",
    "loss_true = hotel_test.loc[hotel_test['is_canceled'] == 1, 'loss'].sum()\n",
    "print(profit_true - loss_true)"
   ]
  },
  {
   "cell_type": "markdown",
   "metadata": {},
   "source": [
    "<div class=\"alert alert-danger\">\n",
    "<h2>Комментарий ревьюера v2<a class=\"tocSkip\"></a></h2>\n",
    "\n",
    "**Нужно доработать** ❌: здесь ты рассчитываешь прибыль на тестовой выборке до внедрения модели, а депозит мы сможем брать только после внедрения, поэтому тут нужно посчитать реальную прибыль, как и на прошлом шаге</div>"
   ]
  },
  {
   "cell_type": "markdown",
   "metadata": {},
   "source": [
    "<div class=\"alert alert-success\">\n",
    "<h2>Комментарий ревьюера v3<a class=\"tocSkip\"></a></h2>\n",
    "    \n",
    "**Отлично!** ✔️: 👍</div>"
   ]
  },
  {
   "cell_type": "markdown",
   "metadata": {},
   "source": [
    "<div class=\"alert alert-danger\" id=\"profit\">\n",
    "<h2>Комментарий ревьюера<a class=\"tocSkip\"></a></h2>\n",
    "\n",
    "**Нужно доработать** ❌: для корректного расчета прибыли после внедрения модели нужно учитывать факт отмены брони и предсказания модели вместе, поэтому чтобы не запутаться, можно попробовать рассмотреть все возможные комбинации:\n",
    "\n",
    "is_canceled = 0, predictions = 0 — постоялец заселился (profit > 0), модель предсказала, что он заселится. В этом случае прибыль отеля никак не меняется до и после внедрения модели.\n",
    "\n",
    "is_canceled = 0, predictions = 1 — постоялец заселился (profit > 0), модель предсказала, что он отменит. В этом случае постоялец внесёт депозит, который пойдёт в счёт оплаты, то есть в этом случае прибыль отеля тоже никак не меняется.\n",
    "\n",
    "is_canceled = 1, predictions = 0 — постоялец отменил бронь (profit < 0), модель предсказала, что он заселится, то есть депозит с такого клиента не брали. Тогда прибыль отеля тоже никак не меняется, отель просто потерял деньги, как и до внедрения модели.\n",
    "\n",
    "is_canceled = 1, predictions = 1 — постоялец отменил бронь (profit < 0), модель предсказала, что он отменит, с постояльца взяли депозит в 80% от стоимости номера за одни сутки с учетом сезонного коэффициента и затрат на разовую уборку, отель потеряет только 20% от той суммы, которую терял без модели, так как остальное покроет депозит\n",
    "\n",
    "А по твоей формуле в случае отмены отель уходит в плюс на сумму депозита, что не соответствует заданию, нужно поправить</div>"
   ]
  },
  {
   "cell_type": "code",
   "execution_count": 35,
   "metadata": {},
   "outputs": [
    {
     "name": "stdout",
     "output_type": "stream",
     "text": [
      "1877642.0\n"
     ]
    }
   ],
   "source": [
    "hotel_test['profit_pred'] = hotel_test.apply(calculate_profit, axis=1)\n",
    "hotel_test['profit_coef_pred'] = hotel_test['profit_pred'] + (hotel_test['profit_pred'] * hotel_test['coef'])\n",
    "hotel_test['deposit_pred'] = hotel_test.apply(calculate_loss, axis=1)\n",
    "\n",
    "deposit_pred = hotel_test.loc[(hotel_test['prediction'] == 1), 'deposit_pred'].sum() * 0.2\n",
    "no_deposit_pred = hotel_test.loc[(hotel_test['prediction'] != 1), 'deposit_pred'].sum()\n",
    "profit_pred = hotel_test.loc[(hotel_test['is_canceled'] == 0), 'profit_pred'].sum()\n",
    "print(profit_pred - deposit_pred - no_deposit_pred - 400000)"
   ]
  },
  {
   "cell_type": "markdown",
   "metadata": {},
   "source": [
    "<div class=\"alert alert-danger\">\n",
    "<h2>Комментарий ревьюера v2<a class=\"tocSkip\"></a></h2>\n",
    "\n",
    "**Нужно доработать** ❌: тут тоже нужно разобраться:\n",
    "1. Как и в прошлом случае, стоимость обслуживания нужно вычитать из стоимости за номер, а не прибавлять;\n",
    "2. Ты сохраняешь новую прибыль в столбцах 'profit_pred' и 'deposit_pred', но никак их не используешь далее;\n",
    "3. В случае отмены брони отель всегда уходит в минус, депозит покрывает только 80% убытков\n",
    "    \n",
    "Постарайся разобрать с расчетом прибыли в соответствии с заданием и моими комментариями выше\n",
    "</div>"
   ]
  },
  {
   "cell_type": "markdown",
   "metadata": {},
   "source": [
    "<div class=\"alert alert-info\">\n",
    "    <b>Комментарий студента v2:</b> Пункты 1 и 2 вроде как исправил. Насчет пункта # 3, как я понял нужно отнять оставшиеся 20% убытков от прибыли? \n",
    "</div>"
   ]
  },
  {
   "cell_type": "markdown",
   "metadata": {},
   "source": [
    "<div class=\"alert alert-danger\">\n",
    "<h2>Комментарий ревьюера v3<a class=\"tocSkip\"></a></h2>\n",
    "\n",
    "**Нужно доработать** ❌: с 1 и 2 пунктами теперь все супер, но еще нужно доработать следующее:\n",
    "1. Выручка до и после внедрения модели остается одинаковой, ведь внедрение модели не привлечет новых клиентов, а только минимизирует  убытки. Так что твоя функция `calculate_profit` должна остаться такой же, что и до внедрения модели, переопределять ее не нужно.\n",
    "2. Ты правильно заметил, что если постоялец отменил бронь и модель это определила, достаточно умножить убытки на 0.2, чтобы посчитать количество убытков с учетом депозита. Но нужно еще учесть и тот случай, когда модель не определила отмену брони, то есть is_canceled = 1, prediction = 0. Тогда депозит с клиента не возьмут, а отель понесет убытки в полном объеме, как и до внедрения модели. А по твоей формуле этот случай учитывается, как будто постоялец заселился</div>"
   ]
  },
  {
   "cell_type": "markdown",
   "metadata": {},
   "source": [
    "Были опробованы три модели - дерево решений, логистическая регрессия, и случайный лес. С помощью grid search cv была использована кросс валидация при которой наилучшая метрика F-1 была у логистической регрессии 45%. На тестовых данных точность модели составила 53% (прирост на 21% с прошлой попытки). Прибыль на тестовых данных составила 1.8 млн рублей. А на предсказанных с учетом депозита за отмену прибыли 1.9 млн рублей, что делает не целесообразным внедрение данной модели."
   ]
  },
  {
   "cell_type": "markdown",
   "metadata": {},
   "source": [
    "<div class=\"alert alert-danger\">\n",
    "<h2>Комментарий ревьюера v4<a class=\"tocSkip\"></a></h2>\n",
    "\n",
    "**Нужно доработать** ❌: еще ближе к правде, но осталось поправить пару моментов:\n",
    "1. При расчете `profit_pred1` и `profit_pred2` из-за опечатки у тебя вместо прибыли посчитается 0, нужно поправить;\n",
    "2. В `no_deposit_pred` у тебя тоже посчитается 0, но это не верно, если бронь отменена и модель это не определила, то отель понесет убытки в полном объеме</div>"
   ]
  },
  {
   "cell_type": "markdown",
   "metadata": {},
   "source": [
    "<div class=\"alert alert-warning\" id=\"profit_example\">\n",
    "<h2>Комментарий ревьюера v4<a class=\"tocSkip\"></a></h2>\n",
    "    \n",
    "**Есть совет** ⚠️: в твоей реализации переопределять `calculate_loss` тоже не нужно, ведь единственный случай, когда убытки меняются, ты рассчитываешь в переменной `deposit_pred`. Тогда тебе нужно удалить второе объявление функции `calculate_loss`, а код расчета прибыли после внедрения модели будет выглядеть примерно так:\n",
    "\n",
    "    hotel_test['profit_pred'] = hotel_test.apply(calculate_profit, axis=1)\n",
    "    hotel_test['profit_coef_pred'] = hotel_test['profit_pred'] + (hotel_test['profit_pred'] * hotel_test['coef'])\n",
    "    hotel_test['deposit_pred'] = hotel_test.apply(calculate_loss, axis=1)\n",
    "\n",
    "    deposit_pred = hotel_test.loc[(hotel_test['prediction'] == 1), 'deposit_pred'].sum() * 0.2\n",
    "    no_deposit_pred = hotel_test.loc[(hotel_test['prediction'] != 1), 'deposit_pred'].sum()\n",
    "    profit_pred = hotel_test.loc[(hotel_test['is_canceled'] == 0), 'profit_pred'].sum()\n",
    "    print(profit_pred - deposit_pred - no_deposit_pred - 400000)\n",
    "\n",
    "</div>"
   ]
  },
  {
   "cell_type": "markdown",
   "metadata": {},
   "source": [
    "<div class=\"alert alert-success\">\n",
    "<h2>Комментарий ревьюера v5<a class=\"tocSkip\"></a></h2>\n",
    "    \n",
    "**Отлично!** ✔️: теперь все окей, только есть одна опечатка при расчете прибыли: в переменной `profit_pred` нужно использовать прибыль с учетом коэффициента(я тоже допустил эту опечатку в примере выше, прошу прощения). Тогда если посчитать чистую выгоду от внедрения модели, то получится больше 1 млн, то есть модель точно пригодится бизнесу</div>"
   ]
  },
  {
   "cell_type": "code",
   "execution_count": 54,
   "metadata": {},
   "outputs": [
    {
     "name": "stdout",
     "output_type": "stream",
     "text": [
      "1114032.0\n"
     ]
    }
   ],
   "source": [
    "#код ревьюера\n",
    "\n",
    "profit_coef_pred = hotel_test.loc[(hotel_test['is_canceled'] == 0), 'profit_coef_pred'].sum()\n",
    "final_profit = profit_true - loss_true\n",
    "final_profit_with_pred = profit_coef_pred - deposit_pred - no_deposit_pred - 400000\n",
    "print(final_profit_with_pred - final_profit)"
   ]
  },
  {
   "cell_type": "markdown",
   "metadata": {},
   "source": [
    "### Шаг 5. Опишите портрет «ненадёжного» клиента"
   ]
  },
  {
   "cell_type": "code",
   "execution_count": 36,
   "metadata": {},
   "outputs": [
    {
     "data": {
      "text/plain": [
       "<AxesSubplot:>"
      ]
     },
     "execution_count": 36,
     "metadata": {},
     "output_type": "execute_result"
    },
    {
     "data": {
      "image/png": "[encoded data removed]",
      "text/plain": [
       "<Figure size 432x288 with 1 Axes>"
      ]
     },
     "metadata": {
      "needs_background": "light"
     },
     "output_type": "display_data"
    }
   ],
   "source": [
    "hotel_test.loc[hotel_test['prediction'] == 1, 'lead_time'].hist()"
   ]
  },
  {
   "cell_type": "code",
   "execution_count": 37,
   "metadata": {},
   "outputs": [
    {
     "data": {
      "text/plain": [
       "<AxesSubplot:>"
      ]
     },
     "execution_count": 37,
     "metadata": {},
     "output_type": "execute_result"
    },
    {
     "data": {
      "image/png": "[encoded data removed]",
      "text/plain": [
       "<Figure size 432x288 with 1 Axes>"
      ]
     },
     "metadata": {
      "needs_background": "light"
     },
     "output_type": "display_data"
    }
   ],
   "source": [
    "hotel_test.loc[hotel_test['prediction'] == 1, 'stays_in_weekend_nights'].hist()"
   ]
  },
  {
   "cell_type": "code",
   "execution_count": 38,
   "metadata": {},
   "outputs": [
    {
     "data": {
      "text/plain": [
       "<AxesSubplot:>"
      ]
     },
     "execution_count": 38,
     "metadata": {},
     "output_type": "execute_result"
    },
    {
     "data": {
      "image/png": "[encoded data removed]",
      "text/plain": [
       "<Figure size 432x288 with 1 Axes>"
      ]
     },
     "metadata": {
      "needs_background": "light"
     },
     "output_type": "display_data"
    }
   ],
   "source": [
    "hotel_test.loc[hotel_test['prediction'] == 1, 'stays_in_week_nights'].hist()"
   ]
  },
  {
   "cell_type": "code",
   "execution_count": 39,
   "metadata": {},
   "outputs": [
    {
     "data": {
      "text/plain": [
       "<AxesSubplot:>"
      ]
     },
     "execution_count": 39,
     "metadata": {},
     "output_type": "execute_result"
    },
    {
     "data": {
      "image/png": "[encoded data removed]",
      "text/plain": [
       "<Figure size 432x288 with 1 Axes>"
      ]
     },
     "metadata": {
      "needs_background": "light"
     },
     "output_type": "display_data"
    }
   ],
   "source": [
    "hotel_test.loc[hotel_test['prediction'] == 1, 'adults'].hist()"
   ]
  },
  {
   "cell_type": "code",
   "execution_count": 40,
   "metadata": {},
   "outputs": [
    {
     "data": {
      "text/plain": [
       "<AxesSubplot:>"
      ]
     },
     "execution_count": 40,
     "metadata": {},
     "output_type": "execute_result"
    },
    {
     "data": {
      "image/png": "[encoded data removed]",
      "text/plain": [
       "<Figure size 432x288 with 1 Axes>"
      ]
     },
     "metadata": {
      "needs_background": "light"
     },
     "output_type": "display_data"
    }
   ],
   "source": [
    "hotel_test.loc[hotel_test['prediction'] == 1, 'children'].hist()"
   ]
  },
  {
   "cell_type": "code",
   "execution_count": 41,
   "metadata": {},
   "outputs": [
    {
     "data": {
      "text/plain": [
       "<AxesSubplot:>"
      ]
     },
     "execution_count": 41,
     "metadata": {},
     "output_type": "execute_result"
    },
    {
     "data": {
      "image/png": "[encoded data removed]",
      "text/plain": [
       "<Figure size 432x288 with 1 Axes>"
      ]
     },
     "metadata": {
      "needs_background": "light"
     },
     "output_type": "display_data"
    }
   ],
   "source": [
    "hotel_test.loc[hotel_test['prediction'] == 1, 'babies'].hist()"
   ]
  },
  {
   "cell_type": "code",
   "execution_count": 42,
   "metadata": {},
   "outputs": [
    {
     "data": {
      "text/plain": [
       "<AxesSubplot:>"
      ]
     },
     "execution_count": 42,
     "metadata": {},
     "output_type": "execute_result"
    },
    {
     "data": {
      "image/png": "[encoded data removed]",
      "text/plain": [
       "<Figure size 432x288 with 1 Axes>"
      ]
     },
     "metadata": {
      "needs_background": "light"
     },
     "output_type": "display_data"
    }
   ],
   "source": [
    "hotel_test.loc[hotel_test['prediction'] == 1, 'is_repeated_guest'].hist()"
   ]
  },
  {
   "cell_type": "code",
   "execution_count": 43,
   "metadata": {},
   "outputs": [
    {
     "data": {
      "text/plain": [
       "<AxesSubplot:>"
      ]
     },
     "execution_count": 43,
     "metadata": {},
     "output_type": "execute_result"
    },
    {
     "data": {
      "image/png": "[encoded data removed]",
      "text/plain": [
       "<Figure size 432x288 with 1 Axes>"
      ]
     },
     "metadata": {
      "needs_background": "light"
     },
     "output_type": "display_data"
    }
   ],
   "source": [
    "hotel_test.loc[hotel_test['prediction'] == 1, 'previous_cancellations'].hist()"
   ]
  },
  {
   "cell_type": "code",
   "execution_count": 44,
   "metadata": {},
   "outputs": [
    {
     "data": {
      "text/plain": [
       "<AxesSubplot:>"
      ]
     },
     "execution_count": 44,
     "metadata": {},
     "output_type": "execute_result"
    },
    {
     "data": {
      "image/png": "[encoded data removed]",
      "text/plain": [
       "<Figure size 432x288 with 1 Axes>"
      ]
     },
     "metadata": {
      "needs_background": "light"
     },
     "output_type": "display_data"
    }
   ],
   "source": [
    "hotel_test.loc[hotel_test['prediction'] == 1, 'booking_changes'].hist()"
   ]
  },
  {
   "cell_type": "code",
   "execution_count": 45,
   "metadata": {},
   "outputs": [
    {
     "data": {
      "text/plain": [
       "<AxesSubplot:>"
      ]
     },
     "execution_count": 45,
     "metadata": {},
     "output_type": "execute_result"
    },
    {
     "data": {
      "image/png": "[encoded data removed]",
      "text/plain": [
       "<Figure size 432x288 with 1 Axes>"
      ]
     },
     "metadata": {
      "needs_background": "light"
     },
     "output_type": "display_data"
    }
   ],
   "source": [
    "hotel_test.loc[hotel_test['prediction'] == 1, 'required_car_parking_spaces'].hist()"
   ]
  },
  {
   "cell_type": "code",
   "execution_count": 46,
   "metadata": {},
   "outputs": [
    {
     "data": {
      "text/plain": [
       "<AxesSubplot:>"
      ]
     },
     "execution_count": 46,
     "metadata": {},
     "output_type": "execute_result"
    },
    {
     "data": {
      "image/png": "[encoded data removed]",
      "text/plain": [
       "<Figure size 432x288 with 1 Axes>"
      ]
     },
     "metadata": {
      "needs_background": "light"
     },
     "output_type": "display_data"
    }
   ],
   "source": [
    "hotel_test.loc[hotel_test['prediction'] == 1, 'total_nights'].hist()"
   ]
  },
  {
   "cell_type": "code",
   "execution_count": 47,
   "metadata": {},
   "outputs": [
    {
     "data": {
      "text/plain": [
       "<AxesSubplot:>"
      ]
     },
     "execution_count": 47,
     "metadata": {},
     "output_type": "execute_result"
    },
    {
     "data": {
      "image/png": "[encoded data removed]",
      "text/plain": [
       "<Figure size 432x288 with 1 Axes>"
      ]
     },
     "metadata": {
      "needs_background": "light"
     },
     "output_type": "display_data"
    }
   ],
   "source": [
    "hotel_test.loc[hotel_test['prediction'] == 1, 'days_in_waiting_list'].hist()"
   ]
  },
  {
   "cell_type": "code",
   "execution_count": 48,
   "metadata": {},
   "outputs": [
    {
     "data": {
      "text/plain": [
       "<AxesSubplot:>"
      ]
     },
     "execution_count": 48,
     "metadata": {},
     "output_type": "execute_result"
    },
    {
     "data": {
      "image/png": "[encoded data removed]",
      "text/plain": [
       "<Figure size 432x288 with 1 Axes>"
      ]
     },
     "metadata": {
      "needs_background": "light"
     },
     "output_type": "display_data"
    }
   ],
   "source": [
    "hotel_test.loc[hotel_test['prediction'] == 1, 'total_of_special_requests'].hist()"
   ]
  },
  {
   "cell_type": "code",
   "execution_count": 49,
   "metadata": {},
   "outputs": [
    {
     "data": {
      "text/plain": [
       "<AxesSubplot:>"
      ]
     },
     "execution_count": 49,
     "metadata": {},
     "output_type": "execute_result"
    },
    {
     "data": {
      "image/png": "[encoded data removed]",
      "text/plain": [
       "<Figure size 432x288 with 1 Axes>"
      ]
     },
     "metadata": {
      "needs_background": "light"
     },
     "output_type": "display_data"
    }
   ],
   "source": [
    "hotel_test.loc[hotel_test['prediction'] == 1, 'customer_type'].hist()"
   ]
  },
  {
   "cell_type": "code",
   "execution_count": 50,
   "metadata": {},
   "outputs": [
    {
     "data": {
      "text/plain": [
       "<AxesSubplot:>"
      ]
     },
     "execution_count": 50,
     "metadata": {},
     "output_type": "execute_result"
    },
    {
     "data": {
      "image/png": "[encoded data removed]",
      "text/plain": [
       "<Figure size 432x288 with 1 Axes>"
      ]
     },
     "metadata": {
      "needs_background": "light"
     },
     "output_type": "display_data"
    }
   ],
   "source": [
    "hotel_test.loc[hotel_test['prediction'] == 1, 'reserved_room_type'].hist()"
   ]
  },
  {
   "cell_type": "code",
   "execution_count": 51,
   "metadata": {},
   "outputs": [
    {
     "data": {
      "text/plain": [
       "<AxesSubplot:>"
      ]
     },
     "execution_count": 51,
     "metadata": {},
     "output_type": "execute_result"
    },
    {
     "data": {
      "image/png": "[encoded data removed]",
      "text/plain": [
       "<Figure size 432x288 with 1 Axes>"
      ]
     },
     "metadata": {
      "needs_background": "light"
     },
     "output_type": "display_data"
    }
   ],
   "source": [
    "hotel_test.loc[hotel_test['prediction'] == 1, 'meal'].hist()"
   ]
  },
  {
   "cell_type": "code",
   "execution_count": 52,
   "metadata": {},
   "outputs": [
    {
     "data": {
      "text/plain": [
       "<AxesSubplot:>"
      ]
     },
     "execution_count": 52,
     "metadata": {},
     "output_type": "execute_result"
    },
    {
     "data": {
      "image/png": "[encoded data removed]",
      "text/plain": [
       "<Figure size 432x288 with 1 Axes>"
      ]
     },
     "metadata": {
      "needs_background": "light"
     },
     "output_type": "display_data"
    }
   ],
   "source": [
    "hotel_test.loc[hotel_test['prediction'] == 1, 'country'].hist(xrot=90)"
   ]
  },
  {
   "cell_type": "code",
   "execution_count": 53,
   "metadata": {},
   "outputs": [
    {
     "data": {
      "text/plain": [
       "<AxesSubplot:>"
      ]
     },
     "execution_count": 53,
     "metadata": {},
     "output_type": "execute_result"
    },
    {
     "data": {
      "image/png": "[encoded data removed]",
      "text/plain": [
       "<Figure size 432x288 with 1 Axes>"
      ]
     },
     "metadata": {
      "needs_background": "light"
     },
     "output_type": "display_data"
    }
   ],
   "source": [
    "hotel_test.loc[hotel_test['prediction'] == 1, 'distribution_channel'].hist(xrot=90)"
   ]
  },
  {
   "cell_type": "markdown",
   "metadata": {},
   "source": [
    "Признаки ненадежного клиента - бронирует за 200 часов до времени заселения 2 дня во время выходных или 1 будний день, обычно это пара взрослых без детей и малышей, которые ранее не заселялись в этот отель и не бронировали этот отель и не делали изменений в бронь, не просили парковочное место или специальные услуги, бронировали на 3 ночи и не ждали в листе ожидания. Клиент из категории \"Transient\", в основном бронировал самый дорогой номер, и питание \"BB\", из дистрибюционного канала TA/TO, из Португалии, США или Швеции. "
   ]
  },
  {
   "cell_type": "markdown",
   "metadata": {},
   "source": [
    "<div class=\"alert alert-success\">\n",
    "<h2>Комментарий ревьюера<a class=\"tocSkip\"></a></h2>\n",
    "    \n",
    "**Отлично!** ✔️: все так, классный получился портрет :)</div>"
   ]
  },
  {
   "cell_type": "markdown",
   "metadata": {},
   "source": [
    "### Шаг 6. Напишите общий вывод"
   ]
  },
  {
   "cell_type": "markdown",
   "metadata": {},
   "source": [
    "Данные относительно чистые - нет пропусков или явных дубликтов. Неявные дуликаты удалены. Найдены аномалии в стобце babies, а также найдены случаи когда дети как будто бы проживали без родителей. Была гипотеза, что дни ожидания различаются в train и test, но она не подтвердилась. Столбец reserved_room_type содержал ненужные пробелы, которые мешали функции по подсчету прибыли. Также категориальные значения были перекодированы с помощью Ordinal Encoder, так как модели классификации не принимают на вход количественные данные. По train data чистый доход составил 57 млн рублей за вычетом потерь от отмененных бронирований. 3 модели были использованы для предсказаний - RandomForestClassifier, DecisionTreeClassifier, и LogisticRegression. Для того чтобы использовать кросс валидацию для классификации был использован CV grid search (не было показано как использовать кросс валидацию для классификации во время лекций, спасибо Гуглу). Наилучший результат показала логистическая регрессия с результатом 0.53% f-1 меры. Прибыль на тестовых данных составила 1.8 млн рублей, тогда как на предсказанных данных 1.9 млн рублей, что окупает бюджет на создание модели, но делает внедрение этой модели нецелесообразным."
   ]
  },
  {
   "cell_type": "markdown",
   "metadata": {},
   "source": [
    "<div style=\"padding: 20px 25px; border: 2px #6495ed solid\">\n",
    "    \n",
    "<h2 style=\"color: #87187D\">Итоговый комментарий ревьюера v5<a class=\"tocSkip\"></a></h2>\n",
    "\n",
    "Теперь то, что нужно, молодец!\n",
    "\n",
    "Все критичные замечания исправлены, и теперь я могу принять твой проект.\n",
    "\n",
    "<b>Успехов в обучении!</b>\n",
    "        \n",
    "</div>"
   ]
  },
  {
   "cell_type": "markdown",
   "metadata": {},
   "source": [
    "<div class=\"alert alert-info\">\n",
    "    <b>Комментарий студента v3:</b> Модель все еще можно улучшить если провести более тщательный тюнинг гиперпараметров на мощном компьютере, так как модификация CV фолдов требует ОЧЕНЬ, ОЧЕНЬ, и ОЧЕНЬ большого количества времени для калькуляции. У меня на это в сумме ушло около 20 часов. И считаю, что идея сборного проекта с задачей классфикации была неверной, лучше было бы поставить задачу регрессии, где можно применить cross_val_score как на лекции. Если помимо низкого показателя f-1 метрики на тестовой выборке других критических замечаний нет, то прошу принять проект, так как я на его подготовку уже потратил около 40 часов, вместо оцениваемых Практикумом 25 часов.\n",
    "</div>"
   ]
  },
  {
   "cell_type": "markdown",
   "metadata": {},
   "source": [
    "<div style=\"padding: 20px 25px; border: 2px #6495ed solid\">\n",
    "    \n",
    "<h2 style=\"color: #87187D\">Итоговый комментарий ревьюера v4<a class=\"tocSkip\"></a></h2>\n",
    "    \n",
    "Почти то, что нужно, но к сожалению, проект пока я принять не могу, так как обязательно нужно доразобраться с расчетом прибыли после внедрения модели: в реальных задачах часто приходится сталкиваться именно с решением бизнес-задач, так что очень важно потренироваться сделать это сейчас. Я постарался привести пример, как это можно реализовать <a href=\"#profit_example\">выше</a>\n",
    "\n",
    "По поводу долгого тюнинга: обучение моделей и правда может занимать много времени, но как я вижу, дольше всего у тебя обучается логистическая регрессия, а тогда скорее всего, это происходит из-за выбранного тобой solver, попробуй вместо него использовать `liblinear` или `saga`, модель должна обучиться заметно быстрее.\n",
    "    \n",
    "А метод cross_val_score универсальный, его можно применять и для задач классификации. Тогда например, с учетом рекомендации выше, код подбора гиперпараметров без GridSearch в этом проекте будет выглядеть примерно так:\n",
    "    \n",
    "\n",
    "    \n",
    "    for max_iter in [80, 100, 150]:\n",
    "        for penalty in ['l1', 'l2']: # остальные значения penalty не подходят для этого solver\n",
    "            model = LogisticRegression(\n",
    "                random_state=0,\n",
    "                class_weight='balanced',\n",
    "                solver='liblinear',\n",
    "                max_iter=max_iter,\n",
    "                penalty=penalty\n",
    "            )\n",
    "            scores = cross_val_score(model, features, target, cv=5, scoring='f1')\n",
    "            print('max_iter: {}, penalty: {}, F1: {}'.format(max_iter, penalty, scores.mean()))\n",
    "    \n",
    "Если ничего из этого не поможет ускорить обучение модели, то можешь закомментировать код с подбором гиперпараметром и посчитать метрики с помощью cross_val_score на модели с уже подобранными гиперпараметрами на предыдущих итерациях. Также было бы здорово, если бы ты поправил кодирование с помощью OrdinalEncoder, оставлял комментарий <a href=\"#encoder\">выше</a>: скорее всего, этого уже будет достаточно, чтобы модель начала показывать приемлимое качество на тестовой выборке\n",
    "\n",
    "<b>Жду доработанный проект на повторное ревью! Удачи!</b>\n",
    "        \n",
    "</div>"
   ]
  },
  {
   "cell_type": "markdown",
   "metadata": {},
   "source": [
    "<div style=\"padding: 20px 25px; border: 2px #6495ed solid\">\n",
    "    \n",
    "<h2 style=\"color: #87187D\">Итоговый комментарий ревьюера<a class=\"tocSkip\"></a></h2>\n",
    "\n",
    "Видно, что ты приложил много усилий, спасибо за проект!\n",
    "\n",
    "Но тебе обязательно нужно обратить внимание на следующее:\n",
    "* убедись в наличии выводов на каждом этапе: это обязательная часть любого проекта, без этого я не смогу его принять;\n",
    "* доработай исследовательский анализ: стоит внимательнее изучить данные на наличие выбросов, дубликатов и некорректных значений, а также стоит проверить, какие именно признаки из тех, что у нас есть, стоит использовать далее;\n",
    "* поправь расчет прибыли до и после внедрения модели;\n",
    "* выбери метрику и аргументируй свой выбор: подходящих метрик тут может быть несколько, но по сути основная задача с точки зрения ML — это минимизировать количество ложноотрицательных ответов. Но если разобраться, то и бизнес-метрика вполне может быть основной метрикой для оценки моделей, здорово, если у тебя получится это реализовать;\n",
    "\n",
    "Остальные комментарии можно найти в проекте. Готов ответить на любые вопросы :)\n",
    "\n",
    "<b>Жду доработанный проект на повторное ревью! Удачи!</b>\n",
    "        \n",
    "</div>"
   ]
  },
  {
   "cell_type": "markdown",
   "metadata": {},
   "source": [
    "<div style=\"padding: 20px 25px; border: 2px #6495ed solid\">\n",
    "    \n",
    "<h2 style=\"color: #87187D\">Итоговый комментарий ревьюера v2<a class=\"tocSkip\"></a></h2>\n",
    "\n",
    "Уже заметно лучше, молодец!\n",
    "\n",
    "Осталось доразобраться с расчетом прибыли до и после внедрения модели, а также убедиться, что весь код полностью запускается в окружении Практикума, без этого я не смогу принять твой проект.\n",
    "\n",
    "Не стесняйся задавать вопросы, если что-то непонятно\n",
    "\n",
    "<b>Жду доработанный проект на повторное ревью! Удачи!</b>\n",
    "        \n",
    "</div>"
   ]
  },
  {
   "cell_type": "markdown",
   "metadata": {},
   "source": [
    "<div style=\"padding: 20px 25px; border: 2px #6495ed solid\">\n",
    "    \n",
    "<h2 style=\"color: #87187D\">Итоговый комментарий ревьюера v3<a class=\"tocSkip\"></a></h2>\n",
    "\n",
    "Супер, теперь весь проект запускается, а прибыль до внедрения модели рассчитывается верно :)\n",
    "    \n",
    "Но еще нужно поправить расчет прибыли после внедрения модели и качество модели на тестовой выборке\n",
    "\n",
    "<b>Жду доработанный проект на повторное ревью! Удачи!</b>\n",
    "        \n",
    "</div>"
   ]
  },
  {
   "cell_type": "code",
   "execution_count": null,
   "metadata": {},
   "outputs": [],
   "source": []
  }
 ],
 "metadata": {
  "ExecuteTimeLog": [
   {
    "duration": 404,
    "start_time": "2022-07-20T05:23:51.964Z"
   },
   {
    "duration": 1229,
    "start_time": "2022-07-20T05:30:32.035Z"
   },
   {
    "duration": 307,
    "start_time": "2022-07-20T05:33:08.396Z"
   },
   {
    "duration": 321,
    "start_time": "2022-07-20T05:34:04.257Z"
   },
   {
    "duration": 35,
    "start_time": "2022-07-20T05:34:24.442Z"
   },
   {
    "duration": 66,
    "start_time": "2022-07-20T05:34:37.914Z"
   },
   {
    "duration": 29,
    "start_time": "2022-07-20T05:35:42.855Z"
   },
   {
    "duration": 143,
    "start_time": "2022-07-20T05:35:47.766Z"
   },
   {
    "duration": 155,
    "start_time": "2022-07-20T05:36:00.925Z"
   },
   {
    "duration": 161,
    "start_time": "2022-07-20T05:36:39.999Z"
   },
   {
    "duration": 169,
    "start_time": "2022-07-20T05:37:09.462Z"
   },
   {
    "duration": 795,
    "start_time": "2022-07-20T05:43:08.109Z"
   },
   {
    "duration": 202,
    "start_time": "2022-07-20T05:43:22.788Z"
   },
   {
    "duration": 97,
    "start_time": "2022-07-20T05:44:05.178Z"
   },
   {
    "duration": 221,
    "start_time": "2022-07-20T05:46:50.174Z"
   },
   {
    "duration": 371,
    "start_time": "2022-07-20T05:47:02.392Z"
   },
   {
    "duration": 239,
    "start_time": "2022-07-20T05:47:09.282Z"
   },
   {
    "duration": 1441,
    "start_time": "2022-07-20T05:48:17.126Z"
   },
   {
    "duration": 219,
    "start_time": "2022-07-20T05:48:36.510Z"
   },
   {
    "duration": 188,
    "start_time": "2022-07-20T05:48:45.086Z"
   },
   {
    "duration": 245,
    "start_time": "2022-07-20T05:48:59.095Z"
   },
   {
    "duration": 215,
    "start_time": "2022-07-20T05:49:17.998Z"
   },
   {
    "duration": 161,
    "start_time": "2022-07-20T05:49:20.522Z"
   },
   {
    "duration": 165,
    "start_time": "2022-07-20T05:49:31.138Z"
   },
   {
    "duration": 232,
    "start_time": "2022-07-20T05:49:36.502Z"
   },
   {
    "duration": 110,
    "start_time": "2022-07-20T06:14:50.080Z"
   },
   {
    "duration": 101,
    "start_time": "2022-07-20T06:27:40.375Z"
   },
   {
    "duration": 72,
    "start_time": "2022-07-20T06:27:47.567Z"
   },
   {
    "duration": 119,
    "start_time": "2022-07-20T06:27:54.567Z"
   },
   {
    "duration": 20,
    "start_time": "2022-07-20T06:28:00.801Z"
   },
   {
    "duration": 512,
    "start_time": "2022-07-20T06:28:25.185Z"
   },
   {
    "duration": 500,
    "start_time": "2022-07-20T06:33:21.496Z"
   },
   {
    "duration": 1655,
    "start_time": "2022-07-20T06:38:31.716Z"
   },
   {
    "duration": 52,
    "start_time": "2022-07-20T06:38:33.376Z"
   },
   {
    "duration": 48,
    "start_time": "2022-07-20T06:40:36.438Z"
   },
   {
    "duration": 54,
    "start_time": "2022-07-20T07:05:54.158Z"
   },
   {
    "duration": 61,
    "start_time": "2022-07-20T07:10:05.700Z"
   },
   {
    "duration": 615,
    "start_time": "2022-07-20T07:17:23.205Z"
   },
   {
    "duration": 49,
    "start_time": "2022-07-20T07:17:31.882Z"
   },
   {
    "duration": 513,
    "start_time": "2022-07-20T07:17:43.584Z"
   },
   {
    "duration": 71,
    "start_time": "2022-07-20T07:17:44.999Z"
   },
   {
    "duration": 1635,
    "start_time": "2022-07-20T07:21:48.591Z"
   },
   {
    "duration": 58,
    "start_time": "2022-07-20T07:21:50.228Z"
   },
   {
    "duration": 2432,
    "start_time": "2022-07-20T07:22:47.037Z"
   },
   {
    "duration": 46,
    "start_time": "2022-07-20T07:22:49.475Z"
   },
   {
    "duration": 13,
    "start_time": "2022-07-20T07:28:00.155Z"
   },
   {
    "duration": 1641,
    "start_time": "2022-07-20T07:28:36.956Z"
   },
   {
    "duration": 12,
    "start_time": "2022-07-20T07:28:38.599Z"
   },
   {
    "duration": 21,
    "start_time": "2022-07-20T07:28:54.485Z"
   },
   {
    "duration": 1589,
    "start_time": "2022-07-20T07:29:16.169Z"
   },
   {
    "duration": 12,
    "start_time": "2022-07-20T07:29:17.760Z"
   },
   {
    "duration": 1560,
    "start_time": "2022-07-20T07:30:12.670Z"
   },
   {
    "duration": 26,
    "start_time": "2022-07-20T07:30:14.232Z"
   },
   {
    "duration": 10,
    "start_time": "2022-07-20T07:30:51.671Z"
   },
   {
    "duration": 1453,
    "start_time": "2022-07-20T07:32:05.120Z"
   },
   {
    "duration": 12,
    "start_time": "2022-07-20T07:32:06.576Z"
   },
   {
    "duration": 1571,
    "start_time": "2022-07-20T07:32:21.713Z"
   },
   {
    "duration": 20,
    "start_time": "2022-07-20T07:32:23.286Z"
   },
   {
    "duration": 1592,
    "start_time": "2022-07-20T07:33:01.174Z"
   },
   {
    "duration": 16,
    "start_time": "2022-07-20T07:33:08.161Z"
   },
   {
    "duration": 1784,
    "start_time": "2022-07-20T07:33:40.283Z"
   },
   {
    "duration": 14,
    "start_time": "2022-07-20T07:33:42.069Z"
   },
   {
    "duration": 1902,
    "start_time": "2022-07-20T07:34:13.607Z"
   },
   {
    "duration": 12,
    "start_time": "2022-07-20T07:34:15.511Z"
   },
   {
    "duration": 428,
    "start_time": "2022-07-20T07:35:21.058Z"
   },
   {
    "duration": 1688,
    "start_time": "2022-07-20T07:35:33.716Z"
   },
   {
    "duration": 21,
    "start_time": "2022-07-20T07:35:35.406Z"
   },
   {
    "duration": 1646,
    "start_time": "2022-07-20T07:35:57.898Z"
   },
   {
    "duration": 19,
    "start_time": "2022-07-20T07:35:59.546Z"
   },
   {
    "duration": 9,
    "start_time": "2022-07-20T07:39:39.661Z"
   },
   {
    "duration": 21,
    "start_time": "2022-07-20T07:40:24.713Z"
   },
   {
    "duration": 1006,
    "start_time": "2022-07-20T07:40:26.534Z"
   },
   {
    "duration": 13,
    "start_time": "2022-07-20T07:40:27.542Z"
   },
   {
    "duration": 25,
    "start_time": "2022-07-20T07:43:36.425Z"
   },
   {
    "duration": 1563,
    "start_time": "2022-07-20T07:45:39.135Z"
   },
   {
    "duration": 1496,
    "start_time": "2022-07-20T07:45:45.176Z"
   },
   {
    "duration": 948,
    "start_time": "2022-07-20T07:46:06.025Z"
   },
   {
    "duration": 7,
    "start_time": "2022-07-20T07:46:19.657Z"
   },
   {
    "duration": 5,
    "start_time": "2022-07-20T07:46:32.832Z"
   },
   {
    "duration": 1054,
    "start_time": "2022-07-20T08:10:53.314Z"
   },
   {
    "duration": 0,
    "start_time": "2022-07-20T08:10:54.370Z"
   },
   {
    "duration": 1587,
    "start_time": "2022-07-20T08:11:43.466Z"
   },
   {
    "duration": 18,
    "start_time": "2022-07-20T08:11:45.440Z"
   },
   {
    "duration": 16,
    "start_time": "2022-07-20T08:12:08.463Z"
   },
   {
    "duration": 16,
    "start_time": "2022-07-20T08:12:36.597Z"
   },
   {
    "duration": 22,
    "start_time": "2022-07-20T08:12:46.060Z"
   },
   {
    "duration": 1459,
    "start_time": "2022-07-20T08:14:01.816Z"
   },
   {
    "duration": 1645,
    "start_time": "2022-07-20T08:14:27.622Z"
   },
   {
    "duration": 59,
    "start_time": "2022-07-20T08:15:18.242Z"
   },
   {
    "duration": 21,
    "start_time": "2022-07-20T08:15:22.654Z"
   },
   {
    "duration": 20,
    "start_time": "2022-07-20T08:15:33.195Z"
   },
   {
    "duration": 20,
    "start_time": "2022-07-20T08:15:39.959Z"
   },
   {
    "duration": 32,
    "start_time": "2022-07-20T08:16:46.821Z"
   },
   {
    "duration": 21,
    "start_time": "2022-07-20T08:16:53.255Z"
   },
   {
    "duration": 21,
    "start_time": "2022-07-20T08:17:00.707Z"
   },
   {
    "duration": 1658,
    "start_time": "2022-07-20T08:18:27.454Z"
   },
   {
    "duration": 17,
    "start_time": "2022-07-20T08:18:30.578Z"
   },
   {
    "duration": 7,
    "start_time": "2022-07-20T08:19:10.493Z"
   },
   {
    "duration": 6,
    "start_time": "2022-07-20T08:19:24.290Z"
   },
   {
    "duration": 695,
    "start_time": "2022-07-20T08:35:43.275Z"
   },
   {
    "duration": 22,
    "start_time": "2022-07-20T08:35:58.491Z"
   },
   {
    "duration": 19,
    "start_time": "2022-07-20T08:38:57.470Z"
   },
   {
    "duration": 686,
    "start_time": "2022-07-20T08:39:47.985Z"
   },
   {
    "duration": 21,
    "start_time": "2022-07-20T08:39:48.841Z"
   },
   {
    "duration": 1322,
    "start_time": "2022-07-20T08:40:49.394Z"
   },
   {
    "duration": 7,
    "start_time": "2022-07-20T08:40:56.222Z"
   },
   {
    "duration": 1579,
    "start_time": "2022-07-20T08:41:06.329Z"
   },
   {
    "duration": 5,
    "start_time": "2022-07-20T08:41:07.910Z"
   },
   {
    "duration": 671,
    "start_time": "2022-07-20T08:41:16.691Z"
   },
   {
    "duration": 19,
    "start_time": "2022-07-20T08:41:18.813Z"
   },
   {
    "duration": 1766,
    "start_time": "2022-07-20T08:41:51.470Z"
   },
   {
    "duration": 12,
    "start_time": "2022-07-20T08:41:53.241Z"
   },
   {
    "duration": 767,
    "start_time": "2022-07-20T08:41:53.256Z"
   },
   {
    "duration": 40,
    "start_time": "2022-07-20T08:41:54.026Z"
   },
   {
    "duration": 26,
    "start_time": "2022-07-20T08:42:38.005Z"
   },
   {
    "duration": 20,
    "start_time": "2022-07-20T08:43:10.911Z"
   },
   {
    "duration": 5,
    "start_time": "2022-07-20T08:43:31.365Z"
   },
   {
    "duration": 120,
    "start_time": "2022-07-20T08:44:15.340Z"
   },
   {
    "duration": 4,
    "start_time": "2022-07-20T08:44:28.995Z"
   },
   {
    "duration": 6,
    "start_time": "2022-07-20T08:44:45.128Z"
   },
   {
    "duration": 864,
    "start_time": "2022-07-20T08:51:48.700Z"
   },
   {
    "duration": 256,
    "start_time": "2022-07-20T08:56:50.378Z"
   },
   {
    "duration": 5,
    "start_time": "2022-07-20T08:57:30.350Z"
   },
   {
    "duration": 253,
    "start_time": "2022-07-20T08:57:45.423Z"
   },
   {
    "duration": 248,
    "start_time": "2022-07-20T08:58:44.312Z"
   },
   {
    "duration": 254,
    "start_time": "2022-07-20T08:58:46.792Z"
   },
   {
    "duration": 5,
    "start_time": "2022-07-20T09:02:04.910Z"
   },
   {
    "duration": 53,
    "start_time": "2022-07-20T09:22:00.321Z"
   },
   {
    "duration": 4,
    "start_time": "2022-07-20T09:22:16.186Z"
   },
   {
    "duration": 11,
    "start_time": "2022-07-20T09:23:04.796Z"
   },
   {
    "duration": 11,
    "start_time": "2022-07-20T09:24:02.457Z"
   },
   {
    "duration": 12,
    "start_time": "2022-07-20T09:25:34.212Z"
   },
   {
    "duration": 4,
    "start_time": "2022-07-20T09:26:02.564Z"
   },
   {
    "duration": 15,
    "start_time": "2022-07-20T09:26:32.329Z"
   },
   {
    "duration": 35,
    "start_time": "2022-07-20T09:26:34.155Z"
   },
   {
    "duration": 10,
    "start_time": "2022-07-20T09:27:03.171Z"
   },
   {
    "duration": 16,
    "start_time": "2022-07-20T09:27:57.731Z"
   },
   {
    "duration": 39,
    "start_time": "2022-07-20T09:27:58.716Z"
   },
   {
    "duration": 10,
    "start_time": "2022-07-20T09:28:10.076Z"
   },
   {
    "duration": 38,
    "start_time": "2022-07-20T09:28:10.813Z"
   },
   {
    "duration": 47,
    "start_time": "2022-07-20T09:29:29.438Z"
   },
   {
    "duration": 15,
    "start_time": "2022-07-20T09:29:33.018Z"
   },
   {
    "duration": 32,
    "start_time": "2022-07-20T09:29:33.582Z"
   },
   {
    "duration": 19,
    "start_time": "2022-07-20T09:31:24.481Z"
   },
   {
    "duration": 0,
    "start_time": "2022-07-20T09:33:11.136Z"
   },
   {
    "duration": 37814,
    "start_time": "2022-07-20T09:34:25.407Z"
   },
   {
    "duration": 3,
    "start_time": "2022-07-20T09:38:13.107Z"
   },
   {
    "duration": 4,
    "start_time": "2022-07-20T09:40:03.233Z"
   },
   {
    "duration": 303,
    "start_time": "2022-07-20T09:40:12.755Z"
   },
   {
    "duration": 319,
    "start_time": "2022-07-20T09:41:42.194Z"
   },
   {
    "duration": 394,
    "start_time": "2022-07-20T09:42:04.284Z"
   },
   {
    "duration": 9,
    "start_time": "2022-07-20T09:43:56.379Z"
   },
   {
    "duration": 28480,
    "start_time": "2022-07-20T09:43:59.618Z"
   },
   {
    "duration": 31567,
    "start_time": "2022-07-20T09:45:59.309Z"
   },
   {
    "duration": 1290751,
    "start_time": "2022-07-20T09:46:45.772Z"
   },
   {
    "duration": 134,
    "start_time": "2022-07-20T10:12:25.112Z"
   },
   {
    "duration": 0,
    "start_time": "2022-07-20T10:15:01.296Z"
   },
   {
    "duration": 408674,
    "start_time": "2022-07-20T10:15:21.471Z"
   },
   {
    "duration": 8,
    "start_time": "2022-07-20T10:26:21.730Z"
   },
   {
    "duration": 10,
    "start_time": "2022-07-20T10:26:24.619Z"
   },
   {
    "duration": 4317,
    "start_time": "2022-07-20T10:26:31.166Z"
   },
   {
    "duration": 119735,
    "start_time": "2022-07-20T10:26:43.263Z"
   },
   {
    "duration": 35,
    "start_time": "2022-07-20T10:33:59.342Z"
   },
   {
    "duration": 1719,
    "start_time": "2022-07-20T10:36:13.341Z"
   },
   {
    "duration": 3977,
    "start_time": "2022-07-20T10:36:21.256Z"
   },
   {
    "duration": 177,
    "start_time": "2022-07-20T10:36:53.973Z"
   },
   {
    "duration": 4,
    "start_time": "2022-07-20T10:37:27.394Z"
   },
   {
    "duration": 178,
    "start_time": "2022-07-20T10:37:35.905Z"
   },
   {
    "duration": 165,
    "start_time": "2022-07-20T10:39:45.146Z"
   },
   {
    "duration": 162,
    "start_time": "2022-07-20T10:40:08.195Z"
   },
   {
    "duration": 209,
    "start_time": "2022-07-20T10:41:41.540Z"
   },
   {
    "duration": 204,
    "start_time": "2022-07-20T10:42:07.152Z"
   },
   {
    "duration": 7,
    "start_time": "2022-07-20T10:45:25.044Z"
   },
   {
    "duration": 21,
    "start_time": "2022-07-20T10:46:47.231Z"
   },
   {
    "duration": 21,
    "start_time": "2022-07-20T10:46:49.716Z"
   },
   {
    "duration": 7,
    "start_time": "2022-07-20T10:47:17.551Z"
   },
   {
    "duration": 12,
    "start_time": "2022-07-20T10:47:27.696Z"
   },
   {
    "duration": 441618,
    "start_time": "2022-07-20T10:47:43.024Z"
   },
   {
    "duration": 0,
    "start_time": "2022-07-20T10:55:04.646Z"
   },
   {
    "duration": 611,
    "start_time": "2022-07-20T10:57:05.410Z"
   },
   {
    "duration": 23,
    "start_time": "2022-07-20T10:57:34.172Z"
   },
   {
    "duration": 63,
    "start_time": "2022-07-20T10:57:47.281Z"
   },
   {
    "duration": 24,
    "start_time": "2022-07-20T10:57:52.328Z"
   },
   {
    "duration": 42,
    "start_time": "2022-07-20T10:58:11.840Z"
   },
   {
    "duration": 10,
    "start_time": "2022-07-20T10:58:25.430Z"
   },
   {
    "duration": 16899,
    "start_time": "2022-07-20T10:58:26.208Z"
   },
   {
    "duration": 384909,
    "start_time": "2022-07-20T11:00:13.605Z"
   },
   {
    "duration": 568298,
    "start_time": "2022-07-20T11:06:58.244Z"
   },
   {
    "duration": 26,
    "start_time": "2022-07-20T11:16:54.069Z"
   },
   {
    "duration": 43,
    "start_time": "2022-07-20T11:17:25.841Z"
   },
   {
    "duration": 14,
    "start_time": "2022-07-20T11:17:47.456Z"
   },
   {
    "duration": 16,
    "start_time": "2022-07-20T11:18:02.799Z"
   },
   {
    "duration": 6,
    "start_time": "2022-07-20T11:18:03.543Z"
   },
   {
    "duration": 7,
    "start_time": "2022-07-20T11:19:10.102Z"
   },
   {
    "duration": 27,
    "start_time": "2022-07-20T11:25:45.632Z"
   },
   {
    "duration": 1980,
    "start_time": "2022-07-20T11:41:29.543Z"
   },
   {
    "duration": 2012,
    "start_time": "2022-07-20T11:41:53.144Z"
   },
   {
    "duration": 1949,
    "start_time": "2022-07-20T11:42:01.310Z"
   },
   {
    "duration": 1942,
    "start_time": "2022-07-20T11:42:11.193Z"
   },
   {
    "duration": 55,
    "start_time": "2022-07-20T11:42:38.671Z"
   },
   {
    "duration": 2180,
    "start_time": "2022-07-20T11:43:36.884Z"
   },
   {
    "duration": 5,
    "start_time": "2022-07-20T11:46:21.924Z"
   },
   {
    "duration": 424,
    "start_time": "2022-07-20T11:46:23.189Z"
   },
   {
    "duration": 43,
    "start_time": "2022-07-20T11:46:37.486Z"
   },
   {
    "duration": 172,
    "start_time": "2022-07-20T11:46:39.307Z"
   },
   {
    "duration": 162,
    "start_time": "2022-07-20T11:46:40.352Z"
   },
   {
    "duration": 150,
    "start_time": "2022-07-20T11:46:49.874Z"
   },
   {
    "duration": 134,
    "start_time": "2022-07-20T11:46:51.078Z"
   },
   {
    "duration": 24,
    "start_time": "2022-07-20T11:47:00.723Z"
   },
   {
    "duration": 337,
    "start_time": "2022-07-20T11:47:25.481Z"
   },
   {
    "duration": 1459,
    "start_time": "2022-07-20T11:47:58.913Z"
   },
   {
    "duration": 6,
    "start_time": "2022-07-20T11:48:03.193Z"
   },
   {
    "duration": 686,
    "start_time": "2022-07-20T11:48:05.677Z"
   },
   {
    "duration": 28,
    "start_time": "2022-07-20T11:48:09.169Z"
   },
   {
    "duration": 6,
    "start_time": "2022-07-20T11:48:13.516Z"
   },
   {
    "duration": 9,
    "start_time": "2022-07-20T11:48:43.584Z"
   },
   {
    "duration": 18814,
    "start_time": "2022-07-20T11:48:47.211Z"
   },
   {
    "duration": 394534,
    "start_time": "2022-07-20T11:49:13.765Z"
   },
   {
    "duration": 508957,
    "start_time": "2022-07-20T11:56:04.489Z"
   },
   {
    "duration": 43,
    "start_time": "2022-07-20T12:04:38.976Z"
   },
   {
    "duration": 13,
    "start_time": "2022-07-20T12:04:54.842Z"
   },
   {
    "duration": 21,
    "start_time": "2022-07-20T12:05:38.956Z"
   },
   {
    "duration": 90,
    "start_time": "2022-07-20T12:06:04.273Z"
   },
   {
    "duration": 1454,
    "start_time": "2022-07-20T12:06:09.912Z"
   },
   {
    "duration": 60,
    "start_time": "2022-07-20T12:06:14.148Z"
   },
   {
    "duration": 6,
    "start_time": "2022-07-20T12:08:17.154Z"
   },
   {
    "duration": 1456,
    "start_time": "2022-07-20T12:08:17.887Z"
   },
   {
    "duration": 40,
    "start_time": "2022-07-20T12:08:19.346Z"
   },
   {
    "duration": 38,
    "start_time": "2022-07-20T12:10:03.783Z"
   },
   {
    "duration": 1125,
    "start_time": "2022-07-20T12:10:28.115Z"
   },
   {
    "duration": 1050,
    "start_time": "2022-07-20T12:10:52.021Z"
   },
   {
    "duration": 777,
    "start_time": "2022-07-20T12:15:25.496Z"
   },
   {
    "duration": 2454,
    "start_time": "2022-07-20T12:16:35.362Z"
   },
   {
    "duration": 10,
    "start_time": "2022-07-20T12:17:49.894Z"
   },
   {
    "duration": 180,
    "start_time": "2022-07-20T12:17:57.510Z"
   },
   {
    "duration": 301,
    "start_time": "2022-07-20T12:18:07.229Z"
   },
   {
    "duration": 21,
    "start_time": "2022-07-20T12:19:24.645Z"
   },
   {
    "duration": 169,
    "start_time": "2022-07-20T12:20:10.728Z"
   },
   {
    "duration": 171,
    "start_time": "2022-07-20T12:20:31.575Z"
   },
   {
    "duration": 165,
    "start_time": "2022-07-20T12:20:53.703Z"
   },
   {
    "duration": 155,
    "start_time": "2022-07-20T12:20:59.087Z"
   },
   {
    "duration": 141,
    "start_time": "2022-07-20T12:21:18.089Z"
   },
   {
    "duration": 152,
    "start_time": "2022-07-20T12:22:16.552Z"
   },
   {
    "duration": 154,
    "start_time": "2022-07-20T12:22:48.488Z"
   },
   {
    "duration": 149,
    "start_time": "2022-07-20T12:23:02.097Z"
   },
   {
    "duration": 1381,
    "start_time": "2022-07-20T12:23:32.768Z"
   },
   {
    "duration": 133,
    "start_time": "2022-07-20T12:23:38.192Z"
   },
   {
    "duration": 138,
    "start_time": "2022-07-20T12:23:59.446Z"
   },
   {
    "duration": 137,
    "start_time": "2022-07-20T12:24:32.299Z"
   },
   {
    "duration": 128,
    "start_time": "2022-07-20T12:24:35.720Z"
   },
   {
    "duration": 152,
    "start_time": "2022-07-20T12:25:09.111Z"
   },
   {
    "duration": 130,
    "start_time": "2022-07-20T12:26:10.090Z"
   },
   {
    "duration": 125,
    "start_time": "2022-07-20T12:27:12.124Z"
   },
   {
    "duration": 148,
    "start_time": "2022-07-20T12:27:40.819Z"
   },
   {
    "duration": 138,
    "start_time": "2022-07-20T12:28:13.412Z"
   },
   {
    "duration": 133,
    "start_time": "2022-07-20T12:28:44.332Z"
   },
   {
    "duration": 152,
    "start_time": "2022-07-20T12:29:28.747Z"
   },
   {
    "duration": 305,
    "start_time": "2022-07-20T12:29:41.591Z"
   },
   {
    "duration": 152,
    "start_time": "2022-07-20T12:30:20.687Z"
   },
   {
    "duration": 316,
    "start_time": "2022-07-20T12:30:36.636Z"
   },
   {
    "duration": 248,
    "start_time": "2022-07-20T12:30:56.085Z"
   },
   {
    "duration": 252,
    "start_time": "2022-07-20T12:31:32.154Z"
   },
   {
    "duration": 276,
    "start_time": "2022-07-20T12:32:10.562Z"
   },
   {
    "duration": 21,
    "start_time": "2022-07-20T12:32:22.745Z"
   },
   {
    "duration": 307,
    "start_time": "2022-07-20T12:32:57.657Z"
   },
   {
    "duration": 159,
    "start_time": "2022-07-20T12:33:53.892Z"
   },
   {
    "duration": 1216,
    "start_time": "2022-07-21T09:15:19.739Z"
   },
   {
    "duration": 257,
    "start_time": "2022-07-21T09:15:20.957Z"
   },
   {
    "duration": 51,
    "start_time": "2022-07-21T09:15:21.216Z"
   },
   {
    "duration": 155,
    "start_time": "2022-07-21T09:15:21.269Z"
   },
   {
    "duration": 415,
    "start_time": "2022-07-21T09:15:21.426Z"
   },
   {
    "duration": 143,
    "start_time": "2022-07-21T09:15:21.846Z"
   },
   {
    "duration": 124,
    "start_time": "2022-07-21T09:15:21.990Z"
   },
   {
    "duration": 53,
    "start_time": "2022-07-21T09:15:22.115Z"
   },
   {
    "duration": 304,
    "start_time": "2022-07-21T09:15:22.170Z"
   },
   {
    "duration": 1291,
    "start_time": "2022-07-21T09:15:22.477Z"
   },
   {
    "duration": 5,
    "start_time": "2022-07-21T09:15:23.770Z"
   },
   {
    "duration": 624,
    "start_time": "2022-07-21T09:15:23.776Z"
   },
   {
    "duration": 19,
    "start_time": "2022-07-21T09:15:24.402Z"
   },
   {
    "duration": 22,
    "start_time": "2022-07-21T09:15:24.423Z"
   },
   {
    "duration": 9,
    "start_time": "2022-07-21T09:15:24.447Z"
   },
   {
    "duration": 17333,
    "start_time": "2022-07-21T09:15:24.458Z"
   },
   {
    "duration": 364931,
    "start_time": "2022-07-21T09:15:41.794Z"
   },
   {
    "duration": 472335,
    "start_time": "2022-07-21T09:21:46.726Z"
   },
   {
    "duration": 116,
    "start_time": "2022-07-21T09:29:39.147Z"
   },
   {
    "duration": 185,
    "start_time": "2022-07-21T09:29:39.270Z"
   },
   {
    "duration": 171,
    "start_time": "2022-07-21T09:29:39.463Z"
   },
   {
    "duration": 1066,
    "start_time": "2022-07-21T09:29:39.635Z"
   },
   {
    "duration": 8,
    "start_time": "2022-07-21T09:29:40.703Z"
   },
   {
    "duration": 795,
    "start_time": "2022-07-21T09:29:40.713Z"
   },
   {
    "duration": 169,
    "start_time": "2022-07-21T09:29:41.510Z"
   },
   {
    "duration": 212,
    "start_time": "2022-07-21T09:29:41.681Z"
   },
   {
    "duration": 138,
    "start_time": "2022-07-21T09:29:41.895Z"
   },
   {
    "duration": 173,
    "start_time": "2022-07-21T09:29:42.036Z"
   },
   {
    "duration": 159,
    "start_time": "2022-07-21T09:29:42.211Z"
   },
   {
    "duration": 138,
    "start_time": "2022-07-21T09:29:42.373Z"
   },
   {
    "duration": 126,
    "start_time": "2022-07-21T09:29:42.513Z"
   },
   {
    "duration": 200,
    "start_time": "2022-07-21T09:29:42.640Z"
   },
   {
    "duration": 157,
    "start_time": "2022-07-21T09:29:42.842Z"
   },
   {
    "duration": 118,
    "start_time": "2022-07-21T09:29:43.000Z"
   },
   {
    "duration": 145,
    "start_time": "2022-07-21T09:29:43.119Z"
   },
   {
    "duration": 150,
    "start_time": "2022-07-21T09:29:43.266Z"
   },
   {
    "duration": 159,
    "start_time": "2022-07-21T09:29:43.418Z"
   },
   {
    "duration": 205,
    "start_time": "2022-07-21T09:29:43.579Z"
   },
   {
    "duration": 135,
    "start_time": "2022-07-21T09:29:43.787Z"
   },
   {
    "duration": 154,
    "start_time": "2022-07-21T09:29:43.924Z"
   },
   {
    "duration": 219,
    "start_time": "2022-07-21T09:29:44.080Z"
   },
   {
    "duration": 104,
    "start_time": "2022-07-21T09:29:44.301Z"
   },
   {
    "duration": 57,
    "start_time": "2022-07-21T15:13:02.289Z"
   },
   {
    "duration": 1043,
    "start_time": "2022-07-21T15:13:17.722Z"
   },
   {
    "duration": 1726,
    "start_time": "2022-07-21T15:13:19.647Z"
   },
   {
    "duration": 33,
    "start_time": "2022-07-21T15:13:24.657Z"
   },
   {
    "duration": 147,
    "start_time": "2022-07-21T15:13:26.095Z"
   },
   {
    "duration": 639,
    "start_time": "2022-07-21T15:13:27.497Z"
   },
   {
    "duration": 152,
    "start_time": "2022-07-21T15:13:29.367Z"
   },
   {
    "duration": 109,
    "start_time": "2022-07-21T15:13:29.879Z"
   },
   {
    "duration": 150,
    "start_time": "2022-07-21T15:13:30.678Z"
   },
   {
    "duration": 20,
    "start_time": "2022-07-21T15:14:35.439Z"
   },
   {
    "duration": 6,
    "start_time": "2022-07-21T15:15:05.886Z"
   },
   {
    "duration": 7,
    "start_time": "2022-07-21T15:18:20.836Z"
   },
   {
    "duration": 7,
    "start_time": "2022-07-21T15:18:35.635Z"
   },
   {
    "duration": 6,
    "start_time": "2022-07-21T15:21:03.885Z"
   },
   {
    "duration": 6,
    "start_time": "2022-07-21T15:21:18.589Z"
   },
   {
    "duration": 119,
    "start_time": "2022-07-21T15:22:59.575Z"
   },
   {
    "duration": 71,
    "start_time": "2022-07-21T15:23:49.075Z"
   },
   {
    "duration": 44,
    "start_time": "2022-07-21T15:25:19.381Z"
   },
   {
    "duration": 32,
    "start_time": "2022-07-21T15:26:48.848Z"
   },
   {
    "duration": 103,
    "start_time": "2022-07-21T15:27:23.158Z"
   },
   {
    "duration": 6,
    "start_time": "2022-07-21T15:33:33.430Z"
   },
   {
    "duration": 3,
    "start_time": "2022-07-21T15:33:38.128Z"
   },
   {
    "duration": 4,
    "start_time": "2022-07-21T15:33:50.683Z"
   },
   {
    "duration": 3,
    "start_time": "2022-07-21T15:34:11.850Z"
   },
   {
    "duration": 4,
    "start_time": "2022-07-21T15:34:21.081Z"
   },
   {
    "duration": 263,
    "start_time": "2022-07-21T15:37:21.976Z"
   },
   {
    "duration": 36,
    "start_time": "2022-07-21T15:37:22.528Z"
   },
   {
    "duration": 134,
    "start_time": "2022-07-21T15:37:22.725Z"
   },
   {
    "duration": 147,
    "start_time": "2022-07-21T15:37:22.869Z"
   },
   {
    "duration": 189,
    "start_time": "2022-07-21T15:37:23.128Z"
   },
   {
    "duration": 98,
    "start_time": "2022-07-21T15:37:23.627Z"
   },
   {
    "duration": 5,
    "start_time": "2022-07-21T15:37:24.588Z"
   },
   {
    "duration": 6,
    "start_time": "2022-07-21T15:37:24.828Z"
   },
   {
    "duration": 77,
    "start_time": "2022-07-21T15:37:25.818Z"
   },
   {
    "duration": 41,
    "start_time": "2022-07-21T15:37:29.897Z"
   },
   {
    "duration": 282,
    "start_time": "2022-07-21T15:37:31.257Z"
   },
   {
    "duration": 1300,
    "start_time": "2022-07-21T15:37:33.017Z"
   },
   {
    "duration": 75,
    "start_time": "2022-07-21T15:39:01.349Z"
   },
   {
    "duration": 1384,
    "start_time": "2022-07-21T15:41:01.301Z"
   },
   {
    "duration": 5,
    "start_time": "2022-07-21T15:41:12.141Z"
   },
   {
    "duration": 574,
    "start_time": "2022-07-21T15:41:20.597Z"
   },
   {
    "duration": 16,
    "start_time": "2022-07-21T15:41:21.877Z"
   },
   {
    "duration": 4,
    "start_time": "2022-07-21T15:41:22.718Z"
   },
   {
    "duration": 9,
    "start_time": "2022-07-21T16:14:57.006Z"
   },
   {
    "duration": 1223,
    "start_time": "2022-07-21T16:15:11.918Z"
   },
   {
    "duration": 1316,
    "start_time": "2022-07-21T18:21:32.054Z"
   },
   {
    "duration": 920,
    "start_time": "2022-07-21T18:21:33.373Z"
   },
   {
    "duration": 53,
    "start_time": "2022-07-21T18:21:34.683Z"
   },
   {
    "duration": 151,
    "start_time": "2022-07-21T18:21:35.443Z"
   },
   {
    "duration": 627,
    "start_time": "2022-07-21T18:21:36.790Z"
   },
   {
    "duration": 150,
    "start_time": "2022-07-21T18:21:37.420Z"
   },
   {
    "duration": 164,
    "start_time": "2022-07-21T18:21:37.653Z"
   },
   {
    "duration": 10,
    "start_time": "2022-07-21T18:21:38.301Z"
   },
   {
    "duration": 8,
    "start_time": "2022-07-21T18:21:39.615Z"
   },
   {
    "duration": 120,
    "start_time": "2022-07-21T18:21:40.533Z"
   },
   {
    "duration": 47,
    "start_time": "2022-07-21T18:21:45.093Z"
   },
   {
    "duration": 324,
    "start_time": "2022-07-21T18:21:45.973Z"
   },
   {
    "duration": 1421,
    "start_time": "2022-07-21T18:21:47.834Z"
   },
   {
    "duration": 6,
    "start_time": "2022-07-21T18:21:50.353Z"
   },
   {
    "duration": 614,
    "start_time": "2022-07-21T18:21:52.854Z"
   },
   {
    "duration": 19,
    "start_time": "2022-07-21T18:21:59.214Z"
   },
   {
    "duration": 7,
    "start_time": "2022-07-21T18:22:02.933Z"
   },
   {
    "duration": 10,
    "start_time": "2022-07-21T18:22:29.094Z"
   },
   {
    "duration": 17949,
    "start_time": "2022-07-21T18:57:37.327Z"
   },
   {
    "duration": 370605,
    "start_time": "2022-07-21T18:59:08.347Z"
   },
   {
    "duration": 399507,
    "start_time": "2022-07-21T19:09:00.306Z"
   },
   {
    "duration": 298,
    "start_time": "2022-07-21T19:38:14.106Z"
   },
   {
    "duration": 4,
    "start_time": "2022-07-21T19:38:27.882Z"
   },
   {
    "duration": 221,
    "start_time": "2022-07-21T19:38:41.385Z"
   },
   {
    "duration": 211,
    "start_time": "2022-07-21T19:39:03.694Z"
   },
   {
    "duration": 111,
    "start_time": "2022-07-21T19:39:11.895Z"
   },
   {
    "duration": 37,
    "start_time": "2022-07-21T19:40:34.567Z"
   },
   {
    "duration": 99,
    "start_time": "2022-07-21T19:40:35.330Z"
   },
   {
    "duration": 1066,
    "start_time": "2022-07-21T19:41:25.490Z"
   },
   {
    "duration": 9,
    "start_time": "2022-07-21T19:41:40.058Z"
   },
   {
    "duration": 1767,
    "start_time": "2022-07-21T19:41:47.661Z"
   },
   {
    "duration": 10,
    "start_time": "2022-07-21T19:41:58.382Z"
   },
   {
    "duration": 807,
    "start_time": "2022-07-21T19:42:00.041Z"
   },
   {
    "duration": 100,
    "start_time": "2022-07-21T20:06:23.604Z"
   },
   {
    "duration": 1193,
    "start_time": "2022-07-21T20:06:24.094Z"
   },
   {
    "duration": 13,
    "start_time": "2022-07-21T20:06:36.574Z"
   },
   {
    "duration": 78,
    "start_time": "2022-07-21T20:06:39.334Z"
   },
   {
    "duration": 1102,
    "start_time": "2022-07-21T20:06:42.113Z"
   },
   {
    "duration": 9,
    "start_time": "2022-07-21T20:06:44.494Z"
   },
   {
    "duration": 856,
    "start_time": "2022-07-21T20:06:46.034Z"
   },
   {
    "duration": 1142,
    "start_time": "2022-07-21T20:10:27.154Z"
   },
   {
    "duration": 13,
    "start_time": "2022-07-21T20:15:41.037Z"
   },
   {
    "duration": 1330,
    "start_time": "2022-07-22T14:54:50.106Z"
   },
   {
    "duration": 1441,
    "start_time": "2022-07-22T14:54:51.438Z"
   },
   {
    "duration": 56,
    "start_time": "2022-07-22T14:54:52.881Z"
   },
   {
    "duration": 189,
    "start_time": "2022-07-22T14:54:52.940Z"
   },
   {
    "duration": 846,
    "start_time": "2022-07-22T14:54:53.131Z"
   },
   {
    "duration": 185,
    "start_time": "2022-07-22T14:54:53.979Z"
   },
   {
    "duration": 135,
    "start_time": "2022-07-22T14:54:54.166Z"
   },
   {
    "duration": 21,
    "start_time": "2022-07-22T14:54:54.310Z"
   },
   {
    "duration": 24,
    "start_time": "2022-07-22T14:54:54.334Z"
   },
   {
    "duration": 174,
    "start_time": "2022-07-22T14:54:54.362Z"
   },
   {
    "duration": 46,
    "start_time": "2022-07-22T14:54:54.538Z"
   },
   {
    "duration": 385,
    "start_time": "2022-07-22T14:54:54.586Z"
   },
   {
    "duration": 0,
    "start_time": "2022-07-22T14:54:54.975Z"
   },
   {
    "duration": 0,
    "start_time": "2022-07-22T14:54:54.976Z"
   },
   {
    "duration": 0,
    "start_time": "2022-07-22T14:54:54.979Z"
   },
   {
    "duration": 0,
    "start_time": "2022-07-22T14:54:54.981Z"
   },
   {
    "duration": 0,
    "start_time": "2022-07-22T14:54:54.982Z"
   },
   {
    "duration": 1,
    "start_time": "2022-07-22T14:54:54.983Z"
   },
   {
    "duration": 0,
    "start_time": "2022-07-22T14:54:54.986Z"
   },
   {
    "duration": 0,
    "start_time": "2022-07-22T14:54:54.987Z"
   },
   {
    "duration": 0,
    "start_time": "2022-07-22T14:54:54.989Z"
   },
   {
    "duration": 0,
    "start_time": "2022-07-22T14:54:55.014Z"
   },
   {
    "duration": 0,
    "start_time": "2022-07-22T14:54:55.015Z"
   },
   {
    "duration": 0,
    "start_time": "2022-07-22T14:54:55.017Z"
   },
   {
    "duration": 0,
    "start_time": "2022-07-22T14:54:55.020Z"
   },
   {
    "duration": 0,
    "start_time": "2022-07-22T14:54:55.021Z"
   },
   {
    "duration": 0,
    "start_time": "2022-07-22T14:54:55.022Z"
   },
   {
    "duration": 0,
    "start_time": "2022-07-22T14:54:55.023Z"
   },
   {
    "duration": 0,
    "start_time": "2022-07-22T14:54:55.024Z"
   },
   {
    "duration": 0,
    "start_time": "2022-07-22T14:54:55.025Z"
   },
   {
    "duration": 0,
    "start_time": "2022-07-22T14:54:55.026Z"
   },
   {
    "duration": 0,
    "start_time": "2022-07-22T14:54:55.027Z"
   },
   {
    "duration": 0,
    "start_time": "2022-07-22T14:54:55.030Z"
   },
   {
    "duration": 1,
    "start_time": "2022-07-22T14:54:55.031Z"
   },
   {
    "duration": 0,
    "start_time": "2022-07-22T14:54:55.033Z"
   },
   {
    "duration": 0,
    "start_time": "2022-07-22T14:54:55.034Z"
   },
   {
    "duration": 0,
    "start_time": "2022-07-22T14:54:55.035Z"
   },
   {
    "duration": 0,
    "start_time": "2022-07-22T14:54:55.037Z"
   },
   {
    "duration": 0,
    "start_time": "2022-07-22T14:54:55.039Z"
   },
   {
    "duration": 0,
    "start_time": "2022-07-22T14:54:55.040Z"
   },
   {
    "duration": 0,
    "start_time": "2022-07-22T14:54:55.042Z"
   },
   {
    "duration": 0,
    "start_time": "2022-07-22T14:54:55.043Z"
   },
   {
    "duration": 0,
    "start_time": "2022-07-22T14:54:55.045Z"
   },
   {
    "duration": 0,
    "start_time": "2022-07-22T14:54:55.046Z"
   },
   {
    "duration": 0,
    "start_time": "2022-07-22T14:54:55.048Z"
   },
   {
    "duration": 1264,
    "start_time": "2022-07-23T11:03:29.833Z"
   },
   {
    "duration": 603,
    "start_time": "2022-07-23T11:03:31.100Z"
   },
   {
    "duration": 78,
    "start_time": "2022-07-23T11:03:31.705Z"
   },
   {
    "duration": 165,
    "start_time": "2022-07-23T11:03:31.786Z"
   },
   {
    "duration": 675,
    "start_time": "2022-07-23T11:03:31.953Z"
   },
   {
    "duration": 156,
    "start_time": "2022-07-23T11:03:32.636Z"
   },
   {
    "duration": 216,
    "start_time": "2022-07-23T11:03:32.794Z"
   },
   {
    "duration": 24,
    "start_time": "2022-07-23T11:03:33.013Z"
   },
   {
    "duration": 48,
    "start_time": "2022-07-23T11:03:33.040Z"
   },
   {
    "duration": 158,
    "start_time": "2022-07-23T11:03:33.091Z"
   },
   {
    "duration": 53,
    "start_time": "2022-07-23T11:03:33.252Z"
   },
   {
    "duration": 363,
    "start_time": "2022-07-23T11:03:33.307Z"
   },
   {
    "duration": 0,
    "start_time": "2022-07-23T11:03:33.672Z"
   },
   {
    "duration": 0,
    "start_time": "2022-07-23T11:03:33.673Z"
   },
   {
    "duration": 0,
    "start_time": "2022-07-23T11:03:33.675Z"
   },
   {
    "duration": 0,
    "start_time": "2022-07-23T11:03:33.677Z"
   },
   {
    "duration": 0,
    "start_time": "2022-07-23T11:03:33.678Z"
   },
   {
    "duration": 0,
    "start_time": "2022-07-23T11:03:33.680Z"
   },
   {
    "duration": 0,
    "start_time": "2022-07-23T11:03:33.682Z"
   },
   {
    "duration": 0,
    "start_time": "2022-07-23T11:03:33.684Z"
   },
   {
    "duration": 0,
    "start_time": "2022-07-23T11:03:33.685Z"
   },
   {
    "duration": 0,
    "start_time": "2022-07-23T11:03:33.686Z"
   },
   {
    "duration": 0,
    "start_time": "2022-07-23T11:03:33.688Z"
   },
   {
    "duration": 0,
    "start_time": "2022-07-23T11:03:33.689Z"
   },
   {
    "duration": 0,
    "start_time": "2022-07-23T11:03:33.690Z"
   },
   {
    "duration": 0,
    "start_time": "2022-07-23T11:03:33.691Z"
   },
   {
    "duration": 0,
    "start_time": "2022-07-23T11:03:33.692Z"
   },
   {
    "duration": 0,
    "start_time": "2022-07-23T11:03:33.693Z"
   },
   {
    "duration": 0,
    "start_time": "2022-07-23T11:03:33.727Z"
   },
   {
    "duration": 0,
    "start_time": "2022-07-23T11:03:33.729Z"
   },
   {
    "duration": 0,
    "start_time": "2022-07-23T11:03:33.730Z"
   },
   {
    "duration": 0,
    "start_time": "2022-07-23T11:03:33.732Z"
   },
   {
    "duration": 0,
    "start_time": "2022-07-23T11:03:33.733Z"
   },
   {
    "duration": 0,
    "start_time": "2022-07-23T11:03:33.734Z"
   },
   {
    "duration": 0,
    "start_time": "2022-07-23T11:03:33.735Z"
   },
   {
    "duration": 0,
    "start_time": "2022-07-23T11:03:33.737Z"
   },
   {
    "duration": 0,
    "start_time": "2022-07-23T11:03:33.739Z"
   },
   {
    "duration": 0,
    "start_time": "2022-07-23T11:03:33.741Z"
   },
   {
    "duration": 0,
    "start_time": "2022-07-23T11:03:33.742Z"
   },
   {
    "duration": 0,
    "start_time": "2022-07-23T11:03:33.743Z"
   },
   {
    "duration": 0,
    "start_time": "2022-07-23T11:03:33.745Z"
   },
   {
    "duration": 0,
    "start_time": "2022-07-23T11:03:33.746Z"
   },
   {
    "duration": 0,
    "start_time": "2022-07-23T11:03:33.747Z"
   },
   {
    "duration": 0,
    "start_time": "2022-07-23T11:03:33.749Z"
   },
   {
    "duration": 0,
    "start_time": "2022-07-23T11:03:33.750Z"
   },
   {
    "duration": 1191,
    "start_time": "2022-07-23T11:04:33.189Z"
   },
   {
    "duration": 488,
    "start_time": "2022-07-23T11:04:34.382Z"
   },
   {
    "duration": 70,
    "start_time": "2022-07-23T11:04:34.872Z"
   },
   {
    "duration": 185,
    "start_time": "2022-07-23T11:04:34.945Z"
   },
   {
    "duration": 468,
    "start_time": "2022-07-23T11:04:35.136Z"
   },
   {
    "duration": 172,
    "start_time": "2022-07-23T11:04:35.606Z"
   },
   {
    "duration": 168,
    "start_time": "2022-07-23T11:04:35.780Z"
   },
   {
    "duration": 9,
    "start_time": "2022-07-23T11:04:35.952Z"
   },
   {
    "duration": 30,
    "start_time": "2022-07-23T11:04:35.964Z"
   },
   {
    "duration": 132,
    "start_time": "2022-07-23T11:04:35.996Z"
   },
   {
    "duration": 50,
    "start_time": "2022-07-23T11:04:36.129Z"
   },
   {
    "duration": 337,
    "start_time": "2022-07-23T11:04:36.181Z"
   },
   {
    "duration": 0,
    "start_time": "2022-07-23T11:04:36.522Z"
   },
   {
    "duration": 0,
    "start_time": "2022-07-23T11:04:36.523Z"
   },
   {
    "duration": 0,
    "start_time": "2022-07-23T11:04:36.523Z"
   },
   {
    "duration": 0,
    "start_time": "2022-07-23T11:04:36.525Z"
   },
   {
    "duration": 0,
    "start_time": "2022-07-23T11:04:36.525Z"
   },
   {
    "duration": 0,
    "start_time": "2022-07-23T11:04:36.526Z"
   },
   {
    "duration": 0,
    "start_time": "2022-07-23T11:04:36.526Z"
   },
   {
    "duration": 0,
    "start_time": "2022-07-23T11:04:36.527Z"
   },
   {
    "duration": 0,
    "start_time": "2022-07-23T11:04:36.527Z"
   },
   {
    "duration": 0,
    "start_time": "2022-07-23T11:04:36.528Z"
   },
   {
    "duration": 0,
    "start_time": "2022-07-23T11:04:36.530Z"
   },
   {
    "duration": 0,
    "start_time": "2022-07-23T11:04:36.531Z"
   },
   {
    "duration": 0,
    "start_time": "2022-07-23T11:04:36.532Z"
   },
   {
    "duration": 0,
    "start_time": "2022-07-23T11:04:36.533Z"
   },
   {
    "duration": 0,
    "start_time": "2022-07-23T11:04:36.534Z"
   },
   {
    "duration": 0,
    "start_time": "2022-07-23T11:04:36.535Z"
   },
   {
    "duration": 0,
    "start_time": "2022-07-23T11:04:36.536Z"
   },
   {
    "duration": 0,
    "start_time": "2022-07-23T11:04:36.537Z"
   },
   {
    "duration": 0,
    "start_time": "2022-07-23T11:04:36.538Z"
   },
   {
    "duration": 0,
    "start_time": "2022-07-23T11:04:36.539Z"
   },
   {
    "duration": 0,
    "start_time": "2022-07-23T11:04:36.540Z"
   },
   {
    "duration": 0,
    "start_time": "2022-07-23T11:04:36.541Z"
   },
   {
    "duration": 0,
    "start_time": "2022-07-23T11:04:36.542Z"
   },
   {
    "duration": 0,
    "start_time": "2022-07-23T11:04:36.543Z"
   },
   {
    "duration": 0,
    "start_time": "2022-07-23T11:04:36.544Z"
   },
   {
    "duration": 0,
    "start_time": "2022-07-23T11:04:36.545Z"
   },
   {
    "duration": 0,
    "start_time": "2022-07-23T11:04:36.546Z"
   },
   {
    "duration": 0,
    "start_time": "2022-07-23T11:04:36.547Z"
   },
   {
    "duration": 0,
    "start_time": "2022-07-23T11:04:36.549Z"
   },
   {
    "duration": 0,
    "start_time": "2022-07-23T11:04:36.550Z"
   },
   {
    "duration": 0,
    "start_time": "2022-07-23T11:04:36.551Z"
   },
   {
    "duration": 0,
    "start_time": "2022-07-23T11:04:36.553Z"
   },
   {
    "duration": 0,
    "start_time": "2022-07-23T11:04:36.554Z"
   },
   {
    "duration": 5,
    "start_time": "2022-07-23T11:05:24.468Z"
   },
   {
    "duration": 296,
    "start_time": "2022-07-23T11:05:25.468Z"
   },
   {
    "duration": 56,
    "start_time": "2022-07-23T11:05:28.387Z"
   },
   {
    "duration": 228,
    "start_time": "2022-07-23T11:05:29.013Z"
   },
   {
    "duration": 176,
    "start_time": "2022-07-23T11:05:29.973Z"
   },
   {
    "duration": 263,
    "start_time": "2022-07-23T11:05:30.187Z"
   },
   {
    "duration": 138,
    "start_time": "2022-07-23T11:05:30.868Z"
   },
   {
    "duration": 6,
    "start_time": "2022-07-23T11:05:31.068Z"
   },
   {
    "duration": 16,
    "start_time": "2022-07-23T11:05:31.839Z"
   },
   {
    "duration": 108,
    "start_time": "2022-07-23T11:05:32.292Z"
   },
   {
    "duration": 50,
    "start_time": "2022-07-23T11:05:36.790Z"
   },
   {
    "duration": 222,
    "start_time": "2022-07-23T11:05:37.833Z"
   },
   {
    "duration": 236,
    "start_time": "2022-07-23T11:06:31.547Z"
   },
   {
    "duration": 57,
    "start_time": "2022-07-23T11:07:00.387Z"
   },
   {
    "duration": 40,
    "start_time": "2022-07-23T11:07:08.640Z"
   },
   {
    "duration": 38,
    "start_time": "2022-07-23T11:07:23.267Z"
   },
   {
    "duration": 36,
    "start_time": "2022-07-23T11:07:31.870Z"
   },
   {
    "duration": 107,
    "start_time": "2022-07-23T11:07:48.612Z"
   },
   {
    "duration": 52,
    "start_time": "2022-07-23T11:08:02.467Z"
   },
   {
    "duration": 54,
    "start_time": "2022-07-23T11:08:12.154Z"
   },
   {
    "duration": 1241,
    "start_time": "2022-07-23T11:11:24.713Z"
   },
   {
    "duration": 430,
    "start_time": "2022-07-23T11:11:25.956Z"
   },
   {
    "duration": 69,
    "start_time": "2022-07-23T11:11:26.389Z"
   },
   {
    "duration": 192,
    "start_time": "2022-07-23T11:11:26.460Z"
   },
   {
    "duration": 507,
    "start_time": "2022-07-23T11:11:26.655Z"
   },
   {
    "duration": 185,
    "start_time": "2022-07-23T11:11:27.164Z"
   },
   {
    "duration": 166,
    "start_time": "2022-07-23T11:11:27.352Z"
   },
   {
    "duration": 23,
    "start_time": "2022-07-23T11:11:27.520Z"
   },
   {
    "duration": 29,
    "start_time": "2022-07-23T11:11:27.546Z"
   },
   {
    "duration": 130,
    "start_time": "2022-07-23T11:11:27.578Z"
   },
   {
    "duration": 63,
    "start_time": "2022-07-23T11:11:27.710Z"
   },
   {
    "duration": 451,
    "start_time": "2022-07-23T11:11:27.775Z"
   },
   {
    "duration": 67,
    "start_time": "2022-07-23T11:11:28.230Z"
   },
   {
    "duration": 1606,
    "start_time": "2022-07-23T11:11:28.301Z"
   },
   {
    "duration": 6,
    "start_time": "2022-07-23T11:11:29.909Z"
   },
   {
    "duration": 716,
    "start_time": "2022-07-23T11:11:29.917Z"
   },
   {
    "duration": 23,
    "start_time": "2022-07-23T11:11:30.638Z"
   },
   {
    "duration": 14,
    "start_time": "2022-07-23T11:11:30.663Z"
   },
   {
    "duration": 35,
    "start_time": "2022-07-23T11:11:30.679Z"
   },
   {
    "duration": 21323,
    "start_time": "2022-07-23T11:11:30.717Z"
   },
   {
    "duration": 443516,
    "start_time": "2022-07-23T11:11:52.042Z"
   },
   {
    "duration": 669594,
    "start_time": "2022-07-23T11:19:15.560Z"
   },
   {
    "duration": 299,
    "start_time": "2022-07-23T11:30:25.169Z"
   },
   {
    "duration": 199,
    "start_time": "2022-07-23T11:30:25.471Z"
   },
   {
    "duration": 173,
    "start_time": "2022-07-23T11:30:25.672Z"
   },
   {
    "duration": 1558,
    "start_time": "2022-07-23T11:30:25.847Z"
   },
   {
    "duration": 0,
    "start_time": "2022-07-23T11:30:27.408Z"
   },
   {
    "duration": 0,
    "start_time": "2022-07-23T11:30:27.409Z"
   },
   {
    "duration": 0,
    "start_time": "2022-07-23T11:30:27.411Z"
   },
   {
    "duration": 0,
    "start_time": "2022-07-23T11:30:27.413Z"
   },
   {
    "duration": 0,
    "start_time": "2022-07-23T11:30:27.429Z"
   },
   {
    "duration": 1,
    "start_time": "2022-07-23T11:30:27.431Z"
   },
   {
    "duration": 0,
    "start_time": "2022-07-23T11:30:27.433Z"
   },
   {
    "duration": 0,
    "start_time": "2022-07-23T11:30:27.434Z"
   },
   {
    "duration": 0,
    "start_time": "2022-07-23T11:30:27.435Z"
   },
   {
    "duration": 0,
    "start_time": "2022-07-23T11:30:27.436Z"
   },
   {
    "duration": 0,
    "start_time": "2022-07-23T11:30:27.437Z"
   },
   {
    "duration": 0,
    "start_time": "2022-07-23T11:30:27.438Z"
   },
   {
    "duration": 0,
    "start_time": "2022-07-23T11:30:27.438Z"
   },
   {
    "duration": 0,
    "start_time": "2022-07-23T11:30:27.439Z"
   },
   {
    "duration": 0,
    "start_time": "2022-07-23T11:30:27.440Z"
   },
   {
    "duration": 0,
    "start_time": "2022-07-23T11:30:27.441Z"
   },
   {
    "duration": 0,
    "start_time": "2022-07-23T11:30:27.442Z"
   },
   {
    "duration": 0,
    "start_time": "2022-07-23T11:30:27.444Z"
   },
   {
    "duration": 0,
    "start_time": "2022-07-23T11:30:27.445Z"
   },
   {
    "duration": 0,
    "start_time": "2022-07-23T11:30:27.446Z"
   },
   {
    "duration": 1502,
    "start_time": "2022-07-23T11:31:47.059Z"
   },
   {
    "duration": 10,
    "start_time": "2022-07-23T11:34:55.672Z"
   },
   {
    "duration": 1322,
    "start_time": "2022-07-23T11:34:57.443Z"
   },
   {
    "duration": 168,
    "start_time": "2022-07-23T11:37:16.776Z"
   },
   {
    "duration": 266,
    "start_time": "2022-07-23T11:37:17.166Z"
   },
   {
    "duration": 155,
    "start_time": "2022-07-23T11:37:17.550Z"
   },
   {
    "duration": 160,
    "start_time": "2022-07-23T11:37:17.751Z"
   },
   {
    "duration": 196,
    "start_time": "2022-07-23T11:37:17.996Z"
   },
   {
    "duration": 211,
    "start_time": "2022-07-23T11:37:18.194Z"
   },
   {
    "duration": 230,
    "start_time": "2022-07-23T11:37:18.407Z"
   },
   {
    "duration": 185,
    "start_time": "2022-07-23T11:37:19.083Z"
   },
   {
    "duration": 194,
    "start_time": "2022-07-23T11:37:19.271Z"
   },
   {
    "duration": 195,
    "start_time": "2022-07-23T11:37:19.467Z"
   },
   {
    "duration": 185,
    "start_time": "2022-07-23T11:37:19.666Z"
   },
   {
    "duration": 197,
    "start_time": "2022-07-23T11:37:19.853Z"
   },
   {
    "duration": 210,
    "start_time": "2022-07-23T11:37:20.327Z"
   },
   {
    "duration": 318,
    "start_time": "2022-07-23T11:37:20.555Z"
   },
   {
    "duration": 178,
    "start_time": "2022-07-23T11:37:21.065Z"
   },
   {
    "duration": 205,
    "start_time": "2022-07-23T11:37:21.257Z"
   },
   {
    "duration": 384,
    "start_time": "2022-07-23T11:37:21.466Z"
   },
   {
    "duration": 177,
    "start_time": "2022-07-23T11:37:22.451Z"
   },
   {
    "duration": 933,
    "start_time": "2022-07-24T02:26:36.107Z"
   },
   {
    "duration": 278,
    "start_time": "2022-07-24T02:26:37.043Z"
   },
   {
    "duration": 64,
    "start_time": "2022-07-24T02:26:37.326Z"
   },
   {
    "duration": 178,
    "start_time": "2022-07-24T02:26:37.409Z"
   },
   {
    "duration": 443,
    "start_time": "2022-07-24T02:26:37.589Z"
   },
   {
    "duration": 152,
    "start_time": "2022-07-24T02:26:38.034Z"
   },
   {
    "duration": 130,
    "start_time": "2022-07-24T02:26:38.187Z"
   },
   {
    "duration": 9,
    "start_time": "2022-07-24T02:26:38.319Z"
   },
   {
    "duration": 17,
    "start_time": "2022-07-24T02:26:38.331Z"
   },
   {
    "duration": 121,
    "start_time": "2022-07-24T02:26:38.350Z"
   },
   {
    "duration": 66,
    "start_time": "2022-07-24T02:26:38.473Z"
   },
   {
    "duration": 372,
    "start_time": "2022-07-24T02:26:38.541Z"
   },
   {
    "duration": 1357,
    "start_time": "2022-07-24T02:26:38.915Z"
   },
   {
    "duration": 6,
    "start_time": "2022-07-24T02:26:40.274Z"
   },
   {
    "duration": 570,
    "start_time": "2022-07-24T02:26:40.282Z"
   },
   {
    "duration": 17,
    "start_time": "2022-07-24T02:26:40.854Z"
   },
   {
    "duration": 5,
    "start_time": "2022-07-24T02:26:40.873Z"
   },
   {
    "duration": 31,
    "start_time": "2022-07-24T02:26:40.880Z"
   },
   {
    "duration": 18190,
    "start_time": "2022-07-24T02:26:40.914Z"
   },
   {
    "duration": 414710,
    "start_time": "2022-07-24T02:26:59.109Z"
   },
   {
    "duration": 400497,
    "start_time": "2022-07-24T02:33:53.821Z"
   },
   {
    "duration": 201,
    "start_time": "2022-07-24T02:40:34.320Z"
   },
   {
    "duration": 295,
    "start_time": "2022-07-24T02:40:34.523Z"
   },
   {
    "duration": 12,
    "start_time": "2022-07-24T02:40:34.820Z"
   },
   {
    "duration": 1030,
    "start_time": "2022-07-24T02:40:34.835Z"
   },
   {
    "duration": 9,
    "start_time": "2022-07-24T02:40:35.867Z"
   },
   {
    "duration": 754,
    "start_time": "2022-07-24T02:40:35.881Z"
   },
   {
    "duration": 150,
    "start_time": "2022-07-24T02:40:36.636Z"
   },
   {
    "duration": 149,
    "start_time": "2022-07-24T02:40:36.788Z"
   },
   {
    "duration": 220,
    "start_time": "2022-07-24T02:40:36.939Z"
   },
   {
    "duration": 170,
    "start_time": "2022-07-24T02:40:37.161Z"
   },
   {
    "duration": 139,
    "start_time": "2022-07-24T02:40:37.333Z"
   },
   {
    "duration": 127,
    "start_time": "2022-07-24T02:40:37.474Z"
   },
   {
    "duration": 137,
    "start_time": "2022-07-24T02:40:37.608Z"
   },
   {
    "duration": 133,
    "start_time": "2022-07-24T02:40:37.747Z"
   },
   {
    "duration": 150,
    "start_time": "2022-07-24T02:40:37.882Z"
   },
   {
    "duration": 148,
    "start_time": "2022-07-24T02:40:38.034Z"
   },
   {
    "duration": 197,
    "start_time": "2022-07-24T02:40:38.184Z"
   },
   {
    "duration": 155,
    "start_time": "2022-07-24T02:40:38.382Z"
   },
   {
    "duration": 140,
    "start_time": "2022-07-24T02:40:38.539Z"
   },
   {
    "duration": 147,
    "start_time": "2022-07-24T02:40:38.681Z"
   },
   {
    "duration": 258,
    "start_time": "2022-07-24T02:40:38.831Z"
   },
   {
    "duration": 179,
    "start_time": "2022-07-24T02:40:39.091Z"
   },
   {
    "duration": 257,
    "start_time": "2022-07-24T02:40:39.272Z"
   },
   {
    "duration": 118,
    "start_time": "2022-07-24T02:40:39.531Z"
   },
   {
    "duration": 42,
    "start_time": "2022-07-24T04:35:34.563Z"
   },
   {
    "duration": 1270,
    "start_time": "2022-07-24T18:14:05.235Z"
   },
   {
    "duration": 623,
    "start_time": "2022-07-24T18:14:06.507Z"
   },
   {
    "duration": 51,
    "start_time": "2022-07-24T18:14:07.634Z"
   },
   {
    "duration": 164,
    "start_time": "2022-07-24T18:14:08.715Z"
   },
   {
    "duration": 642,
    "start_time": "2022-07-24T18:14:09.674Z"
   },
   {
    "duration": 146,
    "start_time": "2022-07-24T18:14:10.954Z"
   },
   {
    "duration": 131,
    "start_time": "2022-07-24T18:14:11.762Z"
   },
   {
    "duration": 9,
    "start_time": "2022-07-24T18:14:12.794Z"
   },
   {
    "duration": 20,
    "start_time": "2022-07-24T18:14:25.514Z"
   },
   {
    "duration": 19,
    "start_time": "2022-07-24T18:15:18.394Z"
   },
   {
    "duration": 141,
    "start_time": "2022-07-24T18:15:19.594Z"
   },
   {
    "duration": 73,
    "start_time": "2022-07-24T18:17:05.035Z"
   },
   {
    "duration": 62,
    "start_time": "2022-07-24T18:17:19.116Z"
   },
   {
    "duration": 62,
    "start_time": "2022-07-24T18:17:38.642Z"
   },
   {
    "duration": 31,
    "start_time": "2022-07-24T18:22:23.076Z"
   },
   {
    "duration": 211,
    "start_time": "2022-07-24T18:22:25.430Z"
   },
   {
    "duration": 976,
    "start_time": "2022-07-24T18:22:33.127Z"
   },
   {
    "duration": 4,
    "start_time": "2022-07-24T18:22:40.137Z"
   },
   {
    "duration": 442,
    "start_time": "2022-07-24T18:22:44.287Z"
   },
   {
    "duration": 19,
    "start_time": "2022-07-24T18:22:55.107Z"
   },
   {
    "duration": 6,
    "start_time": "2022-07-24T18:22:56.226Z"
   },
   {
    "duration": 7,
    "start_time": "2022-07-24T18:23:04.452Z"
   },
   {
    "duration": 19890,
    "start_time": "2022-07-24T18:23:05.811Z"
   },
   {
    "duration": 644614,
    "start_time": "2022-07-24T18:33:48.031Z"
   },
   {
    "duration": 224484,
    "start_time": "2022-07-24T18:55:51.442Z"
   },
   {
    "duration": 157,
    "start_time": "2022-07-24T19:03:12.566Z"
   },
   {
    "duration": 3,
    "start_time": "2022-07-24T19:20:01.800Z"
   },
   {
    "duration": 33,
    "start_time": "2022-07-24T19:20:04.929Z"
   },
   {
    "duration": 288,
    "start_time": "2022-07-24T19:21:49.089Z"
   },
   {
    "duration": 5,
    "start_time": "2022-07-24T19:22:24.950Z"
   },
   {
    "duration": 279,
    "start_time": "2022-07-24T19:22:25.149Z"
   },
   {
    "duration": 43,
    "start_time": "2022-07-24T19:22:26.335Z"
   },
   {
    "duration": 153,
    "start_time": "2022-07-24T19:22:26.941Z"
   },
   {
    "duration": 155,
    "start_time": "2022-07-24T19:22:27.649Z"
   },
   {
    "duration": 268,
    "start_time": "2022-07-24T19:22:27.980Z"
   },
   {
    "duration": 116,
    "start_time": "2022-07-24T19:22:28.469Z"
   },
   {
    "duration": 7,
    "start_time": "2022-07-24T19:22:29.400Z"
   },
   {
    "duration": 15,
    "start_time": "2022-07-24T19:22:30.690Z"
   },
   {
    "duration": 3,
    "start_time": "2022-07-24T19:22:31.689Z"
   },
   {
    "duration": 99,
    "start_time": "2022-07-24T19:22:32.470Z"
   },
   {
    "duration": 3,
    "start_time": "2022-07-24T19:22:32.571Z"
   },
   {
    "duration": 42,
    "start_time": "2022-07-24T19:22:36.133Z"
   },
   {
    "duration": 389,
    "start_time": "2022-07-24T19:22:37.351Z"
   },
   {
    "duration": 1449,
    "start_time": "2022-07-24T19:22:49.739Z"
   },
   {
    "duration": 6,
    "start_time": "2022-07-24T19:22:53.780Z"
   },
   {
    "duration": 597,
    "start_time": "2022-07-24T19:22:54.970Z"
   },
   {
    "duration": 20,
    "start_time": "2022-07-24T19:22:55.660Z"
   },
   {
    "duration": 6,
    "start_time": "2022-07-24T19:22:57.036Z"
   },
   {
    "duration": 10,
    "start_time": "2022-07-24T19:23:05.995Z"
   },
   {
    "duration": 19232,
    "start_time": "2022-07-24T19:23:06.435Z"
   },
   {
    "duration": 395960,
    "start_time": "2022-07-24T19:23:48.550Z"
   },
   {
    "duration": 652222,
    "start_time": "2022-07-24T19:31:03.620Z"
   },
   {
    "duration": 172,
    "start_time": "2022-07-24T19:42:03.051Z"
   },
   {
    "duration": 4,
    "start_time": "2022-07-24T20:49:50.627Z"
   },
   {
    "duration": 234,
    "start_time": "2022-07-24T20:49:50.814Z"
   },
   {
    "duration": 44,
    "start_time": "2022-07-24T20:49:52.375Z"
   },
   {
    "duration": 151,
    "start_time": "2022-07-24T20:49:53.080Z"
   },
   {
    "duration": 140,
    "start_time": "2022-07-24T20:49:54.039Z"
   },
   {
    "duration": 135,
    "start_time": "2022-07-24T20:49:54.595Z"
   },
   {
    "duration": 115,
    "start_time": "2022-07-24T20:49:54.971Z"
   },
   {
    "duration": 7,
    "start_time": "2022-07-24T20:49:56.147Z"
   },
   {
    "duration": 14,
    "start_time": "2022-07-24T20:49:57.946Z"
   },
   {
    "duration": 3,
    "start_time": "2022-07-24T20:49:58.671Z"
   },
   {
    "duration": 94,
    "start_time": "2022-07-24T20:49:59.659Z"
   },
   {
    "duration": 3,
    "start_time": "2022-07-24T20:50:00.759Z"
   },
   {
    "duration": 39,
    "start_time": "2022-07-24T20:50:04.179Z"
   },
   {
    "duration": 351,
    "start_time": "2022-07-24T20:50:04.949Z"
   },
   {
    "duration": 1314,
    "start_time": "2022-07-24T20:50:07.240Z"
   },
   {
    "duration": 5,
    "start_time": "2022-07-24T20:50:10.851Z"
   },
   {
    "duration": 614,
    "start_time": "2022-07-24T20:50:11.841Z"
   },
   {
    "duration": 19,
    "start_time": "2022-07-24T20:50:12.795Z"
   },
   {
    "duration": 6,
    "start_time": "2022-07-24T20:50:13.729Z"
   },
   {
    "duration": 7,
    "start_time": "2022-07-24T20:50:18.787Z"
   },
   {
    "duration": 19052,
    "start_time": "2022-07-24T20:50:20.127Z"
   },
   {
    "duration": 422556,
    "start_time": "2022-07-24T20:50:53.639Z"
   },
   {
    "duration": 626875,
    "start_time": "2022-07-24T21:06:03.856Z"
   },
   {
    "duration": 132,
    "start_time": "2022-07-24T21:18:07.795Z"
   },
   {
    "duration": 25,
    "start_time": "2022-07-24T21:18:34.146Z"
   },
   {
    "duration": 143,
    "start_time": "2022-07-24T21:18:45.247Z"
   },
   {
    "duration": 155,
    "start_time": "2022-07-24T21:28:41.448Z"
   },
   {
    "duration": 67,
    "start_time": "2022-07-24T21:28:42.129Z"
   },
   {
    "duration": 119,
    "start_time": "2022-07-24T21:30:08.709Z"
   },
   {
    "duration": 84,
    "start_time": "2022-07-24T21:30:16.440Z"
   },
   {
    "duration": 1075,
    "start_time": "2022-07-24T21:30:17.240Z"
   },
   {
    "duration": 103,
    "start_time": "2022-07-24T21:30:43.921Z"
   },
   {
    "duration": 69,
    "start_time": "2022-07-24T21:30:51.507Z"
   },
   {
    "duration": 159,
    "start_time": "2022-07-24T21:31:13.807Z"
   },
   {
    "duration": 140,
    "start_time": "2022-07-24T21:31:17.767Z"
   },
   {
    "duration": 1084,
    "start_time": "2022-07-24T21:31:18.667Z"
   },
   {
    "duration": 1017,
    "start_time": "2022-07-24T21:31:22.841Z"
   },
   {
    "duration": 1036,
    "start_time": "2022-07-24T21:31:31.311Z"
   },
   {
    "duration": 147,
    "start_time": "2022-07-24T21:31:44.207Z"
   },
   {
    "duration": 71,
    "start_time": "2022-07-24T21:31:48.809Z"
   },
   {
    "duration": 2212,
    "start_time": "2022-07-24T21:35:12.029Z"
   },
   {
    "duration": 2161,
    "start_time": "2022-07-24T21:35:52.417Z"
   },
   {
    "duration": 1526,
    "start_time": "2022-07-24T21:37:15.916Z"
   },
   {
    "duration": 1598,
    "start_time": "2022-07-24T21:50:46.413Z"
   },
   {
    "duration": 1562,
    "start_time": "2022-07-24T21:50:58.649Z"
   },
   {
    "duration": 1524,
    "start_time": "2022-07-24T21:52:39.175Z"
   },
   {
    "duration": 1497,
    "start_time": "2022-07-24T21:54:56.015Z"
   },
   {
    "duration": 152,
    "start_time": "2022-07-24T21:55:28.215Z"
   },
   {
    "duration": 165,
    "start_time": "2022-07-24T21:55:33.250Z"
   },
   {
    "duration": 2115,
    "start_time": "2022-07-24T21:55:35.038Z"
   },
   {
    "duration": 5,
    "start_time": "2022-07-24T21:55:50.721Z"
   },
   {
    "duration": 2023,
    "start_time": "2022-07-24T21:55:52.591Z"
   },
   {
    "duration": 2176,
    "start_time": "2022-07-24T21:55:58.020Z"
   },
   {
    "duration": 151,
    "start_time": "2022-07-24T21:56:31.730Z"
   },
   {
    "duration": 2517,
    "start_time": "2022-07-24T21:56:33.051Z"
   },
   {
    "duration": 6,
    "start_time": "2022-07-24T21:56:42.231Z"
   },
   {
    "duration": 1961,
    "start_time": "2022-07-24T21:56:44.571Z"
   },
   {
    "duration": 198,
    "start_time": "2022-07-24T21:56:58.631Z"
   },
   {
    "duration": 167,
    "start_time": "2022-07-24T21:57:11.371Z"
   },
   {
    "duration": 2552,
    "start_time": "2022-07-24T21:57:12.291Z"
   },
   {
    "duration": 220,
    "start_time": "2022-07-24T21:57:19.316Z"
   },
   {
    "duration": 2453,
    "start_time": "2022-07-24T21:57:20.791Z"
   },
   {
    "duration": 5,
    "start_time": "2022-07-24T21:57:29.852Z"
   },
   {
    "duration": 1800,
    "start_time": "2022-07-24T21:57:31.323Z"
   },
   {
    "duration": 25,
    "start_time": "2022-07-24T21:58:08.092Z"
   },
   {
    "duration": 40,
    "start_time": "2022-07-24T21:58:12.471Z"
   },
   {
    "duration": 2584,
    "start_time": "2022-07-24T21:58:13.517Z"
   },
   {
    "duration": 2521,
    "start_time": "2022-07-24T21:58:20.459Z"
   },
   {
    "duration": 36,
    "start_time": "2022-07-24T21:58:26.031Z"
   },
   {
    "duration": 2676,
    "start_time": "2022-07-24T21:58:26.991Z"
   },
   {
    "duration": 6,
    "start_time": "2022-07-24T21:58:33.451Z"
   },
   {
    "duration": 1901,
    "start_time": "2022-07-24T21:58:35.211Z"
   },
   {
    "duration": 40,
    "start_time": "2022-07-24T22:00:09.532Z"
   },
   {
    "duration": 4,
    "start_time": "2022-07-24T22:07:29.573Z"
   },
   {
    "duration": 271,
    "start_time": "2022-07-24T22:07:30.153Z"
   },
   {
    "duration": 65,
    "start_time": "2022-07-24T22:07:31.453Z"
   },
   {
    "duration": 162,
    "start_time": "2022-07-24T22:07:31.693Z"
   },
   {
    "duration": 145,
    "start_time": "2022-07-24T22:07:32.060Z"
   },
   {
    "duration": 132,
    "start_time": "2022-07-24T22:07:32.295Z"
   },
   {
    "duration": 113,
    "start_time": "2022-07-24T22:07:32.541Z"
   },
   {
    "duration": 6,
    "start_time": "2022-07-24T22:07:32.732Z"
   },
   {
    "duration": 15,
    "start_time": "2022-07-24T22:07:32.973Z"
   },
   {
    "duration": 12,
    "start_time": "2022-07-24T22:07:33.233Z"
   },
   {
    "duration": 130,
    "start_time": "2022-07-24T22:07:33.853Z"
   },
   {
    "duration": 69,
    "start_time": "2022-07-24T22:07:34.288Z"
   },
   {
    "duration": 28,
    "start_time": "2022-07-24T22:07:37.533Z"
   },
   {
    "duration": 224,
    "start_time": "2022-07-24T22:07:38.293Z"
   },
   {
    "duration": 941,
    "start_time": "2022-07-24T22:07:42.093Z"
   },
   {
    "duration": 5,
    "start_time": "2022-07-24T22:07:44.893Z"
   },
   {
    "duration": 354,
    "start_time": "2022-07-24T22:07:46.133Z"
   },
   {
    "duration": 19,
    "start_time": "2022-07-24T22:07:47.332Z"
   },
   {
    "duration": 5,
    "start_time": "2022-07-24T22:07:48.373Z"
   },
   {
    "duration": 6,
    "start_time": "2022-07-24T22:07:54.253Z"
   },
   {
    "duration": 23314,
    "start_time": "2022-07-24T22:07:55.217Z"
   },
   {
    "duration": 824561,
    "start_time": "2022-07-24T22:08:28.973Z"
   },
   {
    "duration": 247896,
    "start_time": "2022-07-24T22:23:11.894Z"
   },
   {
    "duration": 86,
    "start_time": "2022-07-24T22:27:32.137Z"
   },
   {
    "duration": 18,
    "start_time": "2022-07-24T22:27:40.253Z"
   },
   {
    "duration": 17,
    "start_time": "2022-07-24T22:27:57.814Z"
   },
   {
    "duration": 267,
    "start_time": "2022-07-24T22:27:59.153Z"
   },
   {
    "duration": 6,
    "start_time": "2022-07-24T22:28:09.920Z"
   },
   {
    "duration": 205,
    "start_time": "2022-07-24T22:28:11.293Z"
   },
   {
    "duration": 36,
    "start_time": "2022-07-24T22:28:27.773Z"
   },
   {
    "duration": 4,
    "start_time": "2022-07-24T22:29:31.818Z"
   },
   {
    "duration": 244,
    "start_time": "2022-07-24T22:29:31.989Z"
   },
   {
    "duration": 42,
    "start_time": "2022-07-24T22:29:33.124Z"
   },
   {
    "duration": 136,
    "start_time": "2022-07-24T22:29:33.333Z"
   },
   {
    "duration": 134,
    "start_time": "2022-07-24T22:29:33.673Z"
   },
   {
    "duration": 127,
    "start_time": "2022-07-24T22:29:34.101Z"
   },
   {
    "duration": 224,
    "start_time": "2022-07-24T22:29:34.289Z"
   },
   {
    "duration": 6,
    "start_time": "2022-07-24T22:29:35.493Z"
   },
   {
    "duration": 12,
    "start_time": "2022-07-24T22:29:37.493Z"
   },
   {
    "duration": 3,
    "start_time": "2022-07-24T22:29:39.526Z"
   },
   {
    "duration": 92,
    "start_time": "2022-07-24T22:29:40.472Z"
   },
   {
    "duration": 8,
    "start_time": "2022-07-24T22:31:00.892Z"
   },
   {
    "duration": 8,
    "start_time": "2022-07-24T22:31:47.373Z"
   },
   {
    "duration": 4,
    "start_time": "2022-07-24T22:34:00.821Z"
   },
   {
    "duration": 250,
    "start_time": "2022-07-24T22:34:01.015Z"
   },
   {
    "duration": 45,
    "start_time": "2022-07-24T22:34:01.996Z"
   },
   {
    "duration": 145,
    "start_time": "2022-07-24T22:34:02.208Z"
   },
   {
    "duration": 143,
    "start_time": "2022-07-24T22:34:02.441Z"
   },
   {
    "duration": 142,
    "start_time": "2022-07-24T22:34:02.885Z"
   },
   {
    "duration": 118,
    "start_time": "2022-07-24T22:34:03.104Z"
   },
   {
    "duration": 6,
    "start_time": "2022-07-24T22:34:03.693Z"
   },
   {
    "duration": 13,
    "start_time": "2022-07-24T22:34:04.573Z"
   },
   {
    "duration": 2,
    "start_time": "2022-07-24T22:34:06.133Z"
   },
   {
    "duration": 93,
    "start_time": "2022-07-24T22:34:10.181Z"
   },
   {
    "duration": 2,
    "start_time": "2022-07-24T22:34:10.973Z"
   },
   {
    "duration": 7,
    "start_time": "2022-07-24T22:34:11.833Z"
   },
   {
    "duration": 15,
    "start_time": "2022-07-24T22:34:12.853Z"
   },
   {
    "duration": 7,
    "start_time": "2022-07-24T22:34:16.813Z"
   },
   {
    "duration": 14,
    "start_time": "2022-07-24T22:34:17.613Z"
   },
   {
    "duration": 7,
    "start_time": "2022-07-24T22:34:42.825Z"
   },
   {
    "duration": 6,
    "start_time": "2022-07-24T22:36:17.133Z"
   },
   {
    "duration": 4,
    "start_time": "2022-07-24T22:36:27.853Z"
   },
   {
    "duration": 228,
    "start_time": "2022-07-24T22:36:28.053Z"
   },
   {
    "duration": 42,
    "start_time": "2022-07-24T22:36:28.633Z"
   },
   {
    "duration": 146,
    "start_time": "2022-07-24T22:36:28.793Z"
   },
   {
    "duration": 147,
    "start_time": "2022-07-24T22:36:29.033Z"
   },
   {
    "duration": 136,
    "start_time": "2022-07-24T22:36:29.253Z"
   },
   {
    "duration": 116,
    "start_time": "2022-07-24T22:36:30.273Z"
   },
   {
    "duration": 6,
    "start_time": "2022-07-24T22:36:31.145Z"
   },
   {
    "duration": 12,
    "start_time": "2022-07-24T22:36:34.733Z"
   },
   {
    "duration": 2,
    "start_time": "2022-07-24T22:36:35.873Z"
   },
   {
    "duration": 85,
    "start_time": "2022-07-24T22:36:36.753Z"
   },
   {
    "duration": 3,
    "start_time": "2022-07-24T22:36:37.452Z"
   },
   {
    "duration": 7,
    "start_time": "2022-07-24T22:36:40.525Z"
   },
   {
    "duration": 12,
    "start_time": "2022-07-24T22:36:41.933Z"
   },
   {
    "duration": 6,
    "start_time": "2022-07-24T22:36:44.733Z"
   },
   {
    "duration": 8,
    "start_time": "2022-07-24T22:36:49.904Z"
   },
   {
    "duration": 14,
    "start_time": "2022-07-24T22:36:51.125Z"
   },
   {
    "duration": 8,
    "start_time": "2022-07-24T22:36:54.971Z"
   },
   {
    "duration": 11,
    "start_time": "2022-07-24T22:36:59.792Z"
   },
   {
    "duration": 40,
    "start_time": "2022-07-24T22:37:11.213Z"
   },
   {
    "duration": 360,
    "start_time": "2022-07-24T22:37:12.252Z"
   },
   {
    "duration": 1275,
    "start_time": "2022-07-24T22:37:16.254Z"
   },
   {
    "duration": 5,
    "start_time": "2022-07-24T22:37:20.513Z"
   },
   {
    "duration": 558,
    "start_time": "2022-07-24T22:37:22.253Z"
   },
   {
    "duration": 19,
    "start_time": "2022-07-24T22:37:23.033Z"
   },
   {
    "duration": 6,
    "start_time": "2022-07-24T22:37:24.140Z"
   },
   {
    "duration": 13,
    "start_time": "2022-07-24T22:37:31.293Z"
   },
   {
    "duration": 18418,
    "start_time": "2022-07-24T22:37:32.653Z"
   },
   {
    "duration": 660798,
    "start_time": "2022-07-24T22:38:12.833Z"
   },
   {
    "duration": 207,
    "start_time": "2022-07-24T22:49:43.619Z"
   },
   {
    "duration": 23,
    "start_time": "2022-07-24T22:49:53.853Z"
   },
   {
    "duration": 33,
    "start_time": "2022-07-24T22:50:18.173Z"
   },
   {
    "duration": 965,
    "start_time": "2022-07-24T22:50:23.756Z"
   },
   {
    "duration": 5,
    "start_time": "2022-07-24T22:50:27.673Z"
   },
   {
    "duration": 816,
    "start_time": "2022-07-24T22:50:30.737Z"
   },
   {
    "duration": 846,
    "start_time": "2022-07-24T22:50:42.872Z"
   },
   {
    "duration": 36,
    "start_time": "2022-07-24T22:50:43.720Z"
   },
   {
    "duration": 114,
    "start_time": "2022-07-24T22:51:11.613Z"
   },
   {
    "duration": 179,
    "start_time": "2022-07-24T22:51:21.653Z"
   },
   {
    "duration": 1828,
    "start_time": "2022-07-24T22:51:22.573Z"
   },
   {
    "duration": 216,
    "start_time": "2022-07-24T22:51:29.209Z"
   },
   {
    "duration": 1108,
    "start_time": "2022-07-24T22:51:29.845Z"
   },
   {
    "duration": 5,
    "start_time": "2022-07-24T22:51:37.413Z"
   },
   {
    "duration": 757,
    "start_time": "2022-07-24T22:51:39.012Z"
   },
   {
    "duration": 37,
    "start_time": "2022-07-24T22:51:45.245Z"
   },
   {
    "duration": 4,
    "start_time": "2022-07-24T22:52:37.853Z"
   },
   {
    "duration": 211,
    "start_time": "2022-07-24T22:52:38.013Z"
   },
   {
    "duration": 41,
    "start_time": "2022-07-24T22:52:38.613Z"
   },
   {
    "duration": 137,
    "start_time": "2022-07-24T22:52:38.795Z"
   },
   {
    "duration": 133,
    "start_time": "2022-07-24T22:52:38.973Z"
   },
   {
    "duration": 122,
    "start_time": "2022-07-24T22:52:39.693Z"
   },
   {
    "duration": 109,
    "start_time": "2022-07-24T22:52:40.833Z"
   },
   {
    "duration": 7,
    "start_time": "2022-07-24T22:52:41.666Z"
   },
   {
    "duration": 13,
    "start_time": "2022-07-24T22:52:43.745Z"
   },
   {
    "duration": 12,
    "start_time": "2022-07-24T22:52:45.705Z"
   },
   {
    "duration": 158,
    "start_time": "2022-07-24T22:52:54.333Z"
   },
   {
    "duration": 66,
    "start_time": "2022-07-24T22:52:55.220Z"
   },
   {
    "duration": 6,
    "start_time": "2022-07-24T22:52:55.713Z"
   },
   {
    "duration": 11,
    "start_time": "2022-07-24T22:52:56.452Z"
   },
   {
    "duration": 6,
    "start_time": "2022-07-24T22:52:57.153Z"
   },
   {
    "duration": 8,
    "start_time": "2022-07-24T22:52:58.085Z"
   },
   {
    "duration": 12,
    "start_time": "2022-07-24T22:52:58.813Z"
   },
   {
    "duration": 8,
    "start_time": "2022-07-24T22:52:59.931Z"
   },
   {
    "duration": 9,
    "start_time": "2022-07-24T22:53:00.693Z"
   },
   {
    "duration": 27,
    "start_time": "2022-07-24T22:53:19.472Z"
   },
   {
    "duration": 223,
    "start_time": "2022-07-24T22:53:20.439Z"
   },
   {
    "duration": 913,
    "start_time": "2022-07-24T22:53:24.833Z"
   },
   {
    "duration": 5,
    "start_time": "2022-07-24T22:53:28.553Z"
   },
   {
    "duration": 346,
    "start_time": "2022-07-24T22:53:31.133Z"
   },
   {
    "duration": 21,
    "start_time": "2022-07-24T22:53:31.945Z"
   },
   {
    "duration": 5,
    "start_time": "2022-07-24T22:53:32.993Z"
   },
   {
    "duration": 6,
    "start_time": "2022-07-24T22:53:36.893Z"
   },
   {
    "duration": 21518,
    "start_time": "2022-07-24T22:53:38.682Z"
   },
   {
    "duration": 194,
    "start_time": "2022-07-24T22:54:26.453Z"
   },
   {
    "duration": 3,
    "start_time": "2022-07-24T22:55:06.368Z"
   },
   {
    "duration": 211,
    "start_time": "2022-07-24T22:55:06.733Z"
   },
   {
    "duration": 41,
    "start_time": "2022-07-24T22:55:08.299Z"
   },
   {
    "duration": 151,
    "start_time": "2022-07-24T22:55:09.224Z"
   },
   {
    "duration": 152,
    "start_time": "2022-07-24T22:55:09.806Z"
   },
   {
    "duration": 143,
    "start_time": "2022-07-24T22:55:10.733Z"
   },
   {
    "duration": 113,
    "start_time": "2022-07-24T22:55:11.533Z"
   },
   {
    "duration": 6,
    "start_time": "2022-07-24T22:55:12.413Z"
   },
   {
    "duration": 13,
    "start_time": "2022-07-24T22:55:14.873Z"
   },
   {
    "duration": 12,
    "start_time": "2022-07-24T22:55:15.353Z"
   },
   {
    "duration": 3,
    "start_time": "2022-07-24T22:55:37.613Z"
   },
   {
    "duration": 227,
    "start_time": "2022-07-24T22:55:37.815Z"
   },
   {
    "duration": 41,
    "start_time": "2022-07-24T22:55:38.405Z"
   },
   {
    "duration": 140,
    "start_time": "2022-07-24T22:55:38.601Z"
   },
   {
    "duration": 138,
    "start_time": "2022-07-24T22:55:38.804Z"
   },
   {
    "duration": 252,
    "start_time": "2022-07-24T22:55:38.964Z"
   },
   {
    "duration": 113,
    "start_time": "2022-07-24T22:55:39.222Z"
   },
   {
    "duration": 6,
    "start_time": "2022-07-24T22:55:39.372Z"
   },
   {
    "duration": 14,
    "start_time": "2022-07-24T22:55:39.573Z"
   },
   {
    "duration": 88,
    "start_time": "2022-07-24T22:55:39.765Z"
   },
   {
    "duration": 7,
    "start_time": "2022-07-24T22:55:39.993Z"
   },
   {
    "duration": 14,
    "start_time": "2022-07-24T22:55:40.593Z"
   },
   {
    "duration": 6,
    "start_time": "2022-07-24T22:55:40.813Z"
   },
   {
    "duration": 7,
    "start_time": "2022-07-24T22:55:40.993Z"
   },
   {
    "duration": 16,
    "start_time": "2022-07-24T22:55:41.173Z"
   },
   {
    "duration": 7,
    "start_time": "2022-07-24T22:55:42.013Z"
   },
   {
    "duration": 11,
    "start_time": "2022-07-24T22:55:43.073Z"
   },
   {
    "duration": 38,
    "start_time": "2022-07-24T22:56:45.574Z"
   },
   {
    "duration": 317,
    "start_time": "2022-07-24T22:56:46.173Z"
   },
   {
    "duration": 1292,
    "start_time": "2022-07-24T22:56:52.253Z"
   },
   {
    "duration": 6,
    "start_time": "2022-07-24T22:56:59.392Z"
   },
   {
    "duration": 575,
    "start_time": "2022-07-24T22:57:03.933Z"
   },
   {
    "duration": 19,
    "start_time": "2022-07-24T22:57:07.493Z"
   },
   {
    "duration": 5,
    "start_time": "2022-07-24T22:57:08.333Z"
   },
   {
    "duration": 9,
    "start_time": "2022-07-24T23:00:16.651Z"
   },
   {
    "duration": 49,
    "start_time": "2022-07-24T23:00:17.852Z"
   },
   {
    "duration": 7,
    "start_time": "2022-07-24T23:01:11.392Z"
   },
   {
    "duration": 13363,
    "start_time": "2022-07-24T23:01:12.092Z"
   },
   {
    "duration": 7,
    "start_time": "2022-07-24T23:01:50.839Z"
   },
   {
    "duration": 13149,
    "start_time": "2022-07-24T23:01:51.172Z"
   },
   {
    "duration": 8,
    "start_time": "2022-07-24T23:02:19.331Z"
   },
   {
    "duration": 13094,
    "start_time": "2022-07-24T23:02:19.712Z"
   },
   {
    "duration": 8,
    "start_time": "2022-07-24T23:02:46.252Z"
   },
   {
    "duration": 12909,
    "start_time": "2022-07-24T23:02:46.433Z"
   },
   {
    "duration": 8,
    "start_time": "2022-07-24T23:03:15.573Z"
   },
   {
    "duration": 12884,
    "start_time": "2022-07-24T23:03:15.911Z"
   },
   {
    "duration": 200181,
    "start_time": "2022-07-24T23:03:36.372Z"
   },
   {
    "duration": 1109,
    "start_time": "2022-07-24T23:14:19.047Z"
   },
   {
    "duration": 270,
    "start_time": "2022-07-24T23:14:21.359Z"
   },
   {
    "duration": 42,
    "start_time": "2022-07-24T23:14:23.087Z"
   },
   {
    "duration": 145,
    "start_time": "2022-07-24T23:14:23.299Z"
   },
   {
    "duration": 428,
    "start_time": "2022-07-24T23:14:23.466Z"
   },
   {
    "duration": 149,
    "start_time": "2022-07-24T23:14:23.896Z"
   },
   {
    "duration": 122,
    "start_time": "2022-07-24T23:14:24.047Z"
   },
   {
    "duration": 7,
    "start_time": "2022-07-24T23:14:24.170Z"
   },
   {
    "duration": 19,
    "start_time": "2022-07-24T23:14:24.214Z"
   },
   {
    "duration": 119,
    "start_time": "2022-07-24T23:14:24.387Z"
   },
   {
    "duration": 8,
    "start_time": "2022-07-24T23:14:24.599Z"
   },
   {
    "duration": 18,
    "start_time": "2022-07-24T23:14:24.807Z"
   },
   {
    "duration": 7,
    "start_time": "2022-07-24T23:14:24.987Z"
   },
   {
    "duration": 7,
    "start_time": "2022-07-24T23:14:25.203Z"
   },
   {
    "duration": 17,
    "start_time": "2022-07-24T23:14:25.398Z"
   },
   {
    "duration": 8,
    "start_time": "2022-07-24T23:14:25.606Z"
   },
   {
    "duration": 15,
    "start_time": "2022-07-24T23:14:25.818Z"
   },
   {
    "duration": 40,
    "start_time": "2022-07-24T23:14:26.938Z"
   },
   {
    "duration": 343,
    "start_time": "2022-07-24T23:14:27.147Z"
   },
   {
    "duration": 1467,
    "start_time": "2022-07-24T23:14:29.347Z"
   },
   {
    "duration": 5,
    "start_time": "2022-07-24T23:14:31.207Z"
   },
   {
    "duration": 596,
    "start_time": "2022-07-24T23:14:31.407Z"
   },
   {
    "duration": 18,
    "start_time": "2022-07-24T23:14:32.399Z"
   },
   {
    "duration": 5,
    "start_time": "2022-07-24T23:14:32.658Z"
   },
   {
    "duration": 11,
    "start_time": "2022-07-24T23:14:35.919Z"
   },
   {
    "duration": 13175,
    "start_time": "2022-07-24T23:14:36.466Z"
   },
   {
    "duration": 1604898,
    "start_time": "2022-07-24T23:15:00.327Z"
   },
   {
    "duration": 204,
    "start_time": "2022-07-24T23:42:01.123Z"
   },
   {
    "duration": 30,
    "start_time": "2022-07-24T23:42:10.363Z"
   },
   {
    "duration": 87,
    "start_time": "2022-07-24T23:42:31.044Z"
   },
   {
    "duration": 126,
    "start_time": "2022-07-24T23:42:38.803Z"
   },
   {
    "duration": 1188,
    "start_time": "2022-07-24T23:42:40.605Z"
   },
   {
    "duration": 5,
    "start_time": "2022-07-24T23:42:48.403Z"
   },
   {
    "duration": 793,
    "start_time": "2022-07-24T23:42:50.643Z"
   },
   {
    "duration": 38,
    "start_time": "2022-07-24T23:42:56.303Z"
   },
   {
    "duration": 121,
    "start_time": "2022-07-24T23:44:49.782Z"
   },
   {
    "duration": 140,
    "start_time": "2022-07-24T23:44:49.934Z"
   },
   {
    "duration": 193,
    "start_time": "2022-07-24T23:44:50.102Z"
   },
   {
    "duration": 130,
    "start_time": "2022-07-24T23:44:50.301Z"
   },
   {
    "duration": 132,
    "start_time": "2022-07-24T23:44:50.483Z"
   },
   {
    "duration": 138,
    "start_time": "2022-07-24T23:44:50.663Z"
   },
   {
    "duration": 123,
    "start_time": "2022-07-24T23:44:50.843Z"
   },
   {
    "duration": 144,
    "start_time": "2022-07-24T23:44:51.042Z"
   },
   {
    "duration": 116,
    "start_time": "2022-07-24T23:44:51.193Z"
   },
   {
    "duration": 128,
    "start_time": "2022-07-24T23:44:51.395Z"
   },
   {
    "duration": 132,
    "start_time": "2022-07-24T23:44:51.595Z"
   },
   {
    "duration": 135,
    "start_time": "2022-07-24T23:44:51.783Z"
   },
   {
    "duration": 119,
    "start_time": "2022-07-24T23:44:51.942Z"
   },
   {
    "duration": 109,
    "start_time": "2022-07-24T23:44:52.145Z"
   },
   {
    "duration": 239,
    "start_time": "2022-07-24T23:44:52.323Z"
   },
   {
    "duration": 134,
    "start_time": "2022-07-24T23:44:52.564Z"
   },
   {
    "duration": 749,
    "start_time": "2022-07-24T23:44:52.700Z"
   },
   {
    "duration": 124,
    "start_time": "2022-07-24T23:44:53.451Z"
   },
   {
    "duration": 201404,
    "start_time": "2022-07-24T23:46:09.062Z"
   },
   {
    "duration": 319,
    "start_time": "2022-07-24T23:50:22.963Z"
   },
   {
    "duration": 109,
    "start_time": "2022-07-24T23:51:04.162Z"
   },
   {
    "duration": 118,
    "start_time": "2022-07-24T23:51:27.201Z"
   },
   {
    "duration": 110,
    "start_time": "2022-07-24T23:51:42.382Z"
   },
   {
    "duration": 1287,
    "start_time": "2022-07-25T11:11:50.494Z"
   },
   {
    "duration": 295,
    "start_time": "2022-07-25T11:11:51.783Z"
   },
   {
    "duration": 52,
    "start_time": "2022-07-25T11:11:52.079Z"
   },
   {
    "duration": 166,
    "start_time": "2022-07-25T11:11:52.134Z"
   },
   {
    "duration": 429,
    "start_time": "2022-07-25T11:11:52.301Z"
   },
   {
    "duration": 159,
    "start_time": "2022-07-25T11:11:52.732Z"
   },
   {
    "duration": 147,
    "start_time": "2022-07-25T11:11:52.892Z"
   },
   {
    "duration": 7,
    "start_time": "2022-07-25T11:11:53.041Z"
   },
   {
    "duration": 26,
    "start_time": "2022-07-25T11:11:53.050Z"
   },
   {
    "duration": 128,
    "start_time": "2022-07-25T11:11:53.079Z"
   },
   {
    "duration": 15,
    "start_time": "2022-07-25T11:11:53.209Z"
   },
   {
    "duration": 21,
    "start_time": "2022-07-25T11:11:53.226Z"
   },
   {
    "duration": 7,
    "start_time": "2022-07-25T11:11:53.249Z"
   },
   {
    "duration": 21,
    "start_time": "2022-07-25T11:11:53.258Z"
   },
   {
    "duration": 40,
    "start_time": "2022-07-25T11:11:53.281Z"
   },
   {
    "duration": 8,
    "start_time": "2022-07-25T11:11:53.323Z"
   },
   {
    "duration": 36,
    "start_time": "2022-07-25T11:11:53.333Z"
   },
   {
    "duration": 46,
    "start_time": "2022-07-25T11:11:53.371Z"
   },
   {
    "duration": 376,
    "start_time": "2022-07-25T11:11:53.419Z"
   },
   {
    "duration": 1485,
    "start_time": "2022-07-25T11:11:53.796Z"
   },
   {
    "duration": 4,
    "start_time": "2022-07-25T11:11:55.283Z"
   },
   {
    "duration": 618,
    "start_time": "2022-07-25T11:11:55.289Z"
   },
   {
    "duration": 24,
    "start_time": "2022-07-25T11:11:55.909Z"
   },
   {
    "duration": 5,
    "start_time": "2022-07-25T11:11:55.935Z"
   },
   {
    "duration": 146,
    "start_time": "2022-07-25T11:11:55.941Z"
   },
   {
    "duration": 11,
    "start_time": "2022-07-25T11:11:56.088Z"
   },
   {
    "duration": 14122,
    "start_time": "2022-07-25T11:11:56.101Z"
   },
   {
    "duration": 221591,
    "start_time": "2022-07-25T11:12:10.228Z"
   },
   {
    "duration": 1844302,
    "start_time": "2022-07-25T11:15:51.820Z"
   },
   {
    "duration": 304,
    "start_time": "2022-07-25T11:46:36.124Z"
   },
   {
    "duration": 206,
    "start_time": "2022-07-25T11:46:36.430Z"
   },
   {
    "duration": 1048,
    "start_time": "2022-07-25T11:46:36.638Z"
   },
   {
    "duration": 6,
    "start_time": "2022-07-25T11:46:37.688Z"
   },
   {
    "duration": 838,
    "start_time": "2022-07-25T11:46:37.695Z"
   },
   {
    "duration": 39,
    "start_time": "2022-07-25T11:46:38.535Z"
   },
   {
    "duration": 166,
    "start_time": "2022-07-25T11:46:38.576Z"
   },
   {
    "duration": 181,
    "start_time": "2022-07-25T11:46:38.744Z"
   },
   {
    "duration": 152,
    "start_time": "2022-07-25T11:46:38.927Z"
   },
   {
    "duration": 148,
    "start_time": "2022-07-25T11:46:39.081Z"
   },
   {
    "duration": 158,
    "start_time": "2022-07-25T11:46:39.231Z"
   },
   {
    "duration": 155,
    "start_time": "2022-07-25T11:46:39.391Z"
   },
   {
    "duration": 152,
    "start_time": "2022-07-25T11:46:39.547Z"
   },
   {
    "duration": 145,
    "start_time": "2022-07-25T11:46:39.701Z"
   },
   {
    "duration": 142,
    "start_time": "2022-07-25T11:46:39.848Z"
   },
   {
    "duration": 144,
    "start_time": "2022-07-25T11:46:39.992Z"
   },
   {
    "duration": 154,
    "start_time": "2022-07-25T11:46:40.138Z"
   },
   {
    "duration": 257,
    "start_time": "2022-07-25T11:46:40.295Z"
   },
   {
    "duration": 140,
    "start_time": "2022-07-25T11:46:40.555Z"
   },
   {
    "duration": 134,
    "start_time": "2022-07-25T11:46:40.697Z"
   },
   {
    "duration": 154,
    "start_time": "2022-07-25T11:46:40.833Z"
   },
   {
    "duration": 153,
    "start_time": "2022-07-25T11:46:40.989Z"
   },
   {
    "duration": 826,
    "start_time": "2022-07-25T11:46:41.144Z"
   },
   {
    "duration": 150,
    "start_time": "2022-07-25T11:46:41.972Z"
   },
   {
    "duration": 6,
    "start_time": "2022-07-25T12:08:37.561Z"
   },
   {
    "duration": 4,
    "start_time": "2022-07-25T12:08:47.266Z"
   },
   {
    "duration": 4,
    "start_time": "2022-07-25T12:08:50.680Z"
   },
   {
    "duration": 1315,
    "start_time": "2022-07-25T13:01:16.588Z"
   },
   {
    "duration": 834,
    "start_time": "2022-07-25T13:01:17.906Z"
   },
   {
    "duration": 65,
    "start_time": "2022-07-25T13:01:18.742Z"
   },
   {
    "duration": 231,
    "start_time": "2022-07-25T13:01:18.809Z"
   },
   {
    "duration": 839,
    "start_time": "2022-07-25T13:01:19.047Z"
   },
   {
    "duration": 178,
    "start_time": "2022-07-25T13:01:19.889Z"
   },
   {
    "duration": 188,
    "start_time": "2022-07-25T13:01:20.070Z"
   },
   {
    "duration": 12,
    "start_time": "2022-07-25T13:01:20.260Z"
   },
   {
    "duration": 26,
    "start_time": "2022-07-25T13:01:20.274Z"
   },
   {
    "duration": 148,
    "start_time": "2022-07-25T13:01:20.304Z"
   },
   {
    "duration": 9,
    "start_time": "2022-07-25T13:01:20.454Z"
   },
   {
    "duration": 50,
    "start_time": "2022-07-25T13:01:20.465Z"
   },
   {
    "duration": 34,
    "start_time": "2022-07-25T13:01:20.518Z"
   },
   {
    "duration": 18,
    "start_time": "2022-07-25T13:01:20.557Z"
   },
   {
    "duration": 42,
    "start_time": "2022-07-25T13:01:20.578Z"
   },
   {
    "duration": 33,
    "start_time": "2022-07-25T13:01:20.622Z"
   },
   {
    "duration": 26,
    "start_time": "2022-07-25T13:01:20.657Z"
   },
   {
    "duration": 88,
    "start_time": "2022-07-25T13:01:20.685Z"
   },
   {
    "duration": 560,
    "start_time": "2022-07-25T13:01:20.775Z"
   },
   {
    "duration": 0,
    "start_time": "2022-07-25T13:01:21.353Z"
   },
   {
    "duration": 0,
    "start_time": "2022-07-25T13:01:21.354Z"
   },
   {
    "duration": 0,
    "start_time": "2022-07-25T13:01:21.355Z"
   },
   {
    "duration": 0,
    "start_time": "2022-07-25T13:01:21.358Z"
   },
   {
    "duration": 0,
    "start_time": "2022-07-25T13:01:21.360Z"
   },
   {
    "duration": 0,
    "start_time": "2022-07-25T13:01:21.362Z"
   },
   {
    "duration": 0,
    "start_time": "2022-07-25T13:01:21.365Z"
   },
   {
    "duration": 0,
    "start_time": "2022-07-25T13:01:21.367Z"
   },
   {
    "duration": 0,
    "start_time": "2022-07-25T13:01:21.369Z"
   },
   {
    "duration": 0,
    "start_time": "2022-07-25T13:01:21.371Z"
   },
   {
    "duration": 0,
    "start_time": "2022-07-25T13:01:21.373Z"
   },
   {
    "duration": 0,
    "start_time": "2022-07-25T13:01:21.375Z"
   },
   {
    "duration": 0,
    "start_time": "2022-07-25T13:01:21.376Z"
   },
   {
    "duration": 0,
    "start_time": "2022-07-25T13:01:21.378Z"
   },
   {
    "duration": 0,
    "start_time": "2022-07-25T13:01:21.379Z"
   },
   {
    "duration": 0,
    "start_time": "2022-07-25T13:01:21.382Z"
   },
   {
    "duration": 0,
    "start_time": "2022-07-25T13:01:21.383Z"
   },
   {
    "duration": 0,
    "start_time": "2022-07-25T13:01:21.385Z"
   },
   {
    "duration": 0,
    "start_time": "2022-07-25T13:01:21.426Z"
   },
   {
    "duration": 0,
    "start_time": "2022-07-25T13:01:21.428Z"
   },
   {
    "duration": 0,
    "start_time": "2022-07-25T13:01:21.431Z"
   },
   {
    "duration": 0,
    "start_time": "2022-07-25T13:01:21.433Z"
   },
   {
    "duration": 0,
    "start_time": "2022-07-25T13:01:21.435Z"
   },
   {
    "duration": 0,
    "start_time": "2022-07-25T13:01:21.436Z"
   },
   {
    "duration": 0,
    "start_time": "2022-07-25T13:01:21.438Z"
   },
   {
    "duration": 0,
    "start_time": "2022-07-25T13:01:21.439Z"
   },
   {
    "duration": 0,
    "start_time": "2022-07-25T13:01:21.440Z"
   },
   {
    "duration": 0,
    "start_time": "2022-07-25T13:01:21.442Z"
   },
   {
    "duration": 0,
    "start_time": "2022-07-25T13:01:21.443Z"
   },
   {
    "duration": 0,
    "start_time": "2022-07-25T13:01:21.445Z"
   },
   {
    "duration": 0,
    "start_time": "2022-07-25T13:01:21.447Z"
   },
   {
    "duration": 0,
    "start_time": "2022-07-25T13:01:21.449Z"
   },
   {
    "duration": 0,
    "start_time": "2022-07-25T13:01:21.450Z"
   },
   {
    "duration": 0,
    "start_time": "2022-07-25T13:01:21.452Z"
   },
   {
    "duration": 355,
    "start_time": "2022-07-25T13:02:41.155Z"
   },
   {
    "duration": 1030,
    "start_time": "2022-07-25T19:49:32.570Z"
   },
   {
    "duration": 778,
    "start_time": "2022-07-25T19:49:33.852Z"
   },
   {
    "duration": 47,
    "start_time": "2022-07-25T19:49:37.348Z"
   },
   {
    "duration": 133,
    "start_time": "2022-07-25T19:49:38.256Z"
   },
   {
    "duration": 532,
    "start_time": "2022-07-25T19:49:39.088Z"
   },
   {
    "duration": 116,
    "start_time": "2022-07-25T19:49:39.732Z"
   },
   {
    "duration": 93,
    "start_time": "2022-07-25T19:49:40.584Z"
   },
   {
    "duration": 7,
    "start_time": "2022-07-25T19:49:41.678Z"
   },
   {
    "duration": 16,
    "start_time": "2022-07-25T19:49:43.156Z"
   },
   {
    "duration": 88,
    "start_time": "2022-07-25T19:49:44.375Z"
   },
   {
    "duration": 6,
    "start_time": "2022-07-25T19:49:46.620Z"
   },
   {
    "duration": 20,
    "start_time": "2022-07-25T19:49:47.567Z"
   },
   {
    "duration": 5,
    "start_time": "2022-07-25T19:49:47.867Z"
   },
   {
    "duration": 7,
    "start_time": "2022-07-25T19:49:48.055Z"
   },
   {
    "duration": 13,
    "start_time": "2022-07-25T19:49:48.976Z"
   },
   {
    "duration": 6,
    "start_time": "2022-07-25T19:49:50.188Z"
   },
   {
    "duration": 9,
    "start_time": "2022-07-25T19:49:51.077Z"
   },
   {
    "duration": 35,
    "start_time": "2022-07-25T19:49:57.595Z"
   },
   {
    "duration": 246,
    "start_time": "2022-07-25T19:49:59.257Z"
   },
   {
    "duration": 189,
    "start_time": "2022-07-25T19:50:14.003Z"
   },
   {
    "duration": 4,
    "start_time": "2022-07-25T19:50:44.356Z"
   },
   {
    "duration": 214,
    "start_time": "2022-07-25T19:50:44.528Z"
   },
   {
    "duration": 43,
    "start_time": "2022-07-25T19:50:45.108Z"
   },
   {
    "duration": 138,
    "start_time": "2022-07-25T19:50:45.336Z"
   },
   {
    "duration": 129,
    "start_time": "2022-07-25T19:50:45.548Z"
   },
   {
    "duration": 176,
    "start_time": "2022-07-25T19:50:46.168Z"
   },
   {
    "duration": 95,
    "start_time": "2022-07-25T19:50:47.168Z"
   },
   {
    "duration": 5,
    "start_time": "2022-07-25T19:50:48.595Z"
   },
   {
    "duration": 11,
    "start_time": "2022-07-25T19:50:50.496Z"
   },
   {
    "duration": 12,
    "start_time": "2022-07-25T19:51:55.668Z"
   },
   {
    "duration": 113,
    "start_time": "2022-07-25T19:51:56.848Z"
   },
   {
    "duration": 3,
    "start_time": "2022-07-25T19:54:44.958Z"
   },
   {
    "duration": 229,
    "start_time": "2022-07-25T19:54:45.176Z"
   },
   {
    "duration": 32,
    "start_time": "2022-07-25T19:54:48.628Z"
   },
   {
    "duration": 126,
    "start_time": "2022-07-25T19:54:48.916Z"
   },
   {
    "duration": 119,
    "start_time": "2022-07-25T19:54:49.749Z"
   },
   {
    "duration": 116,
    "start_time": "2022-07-25T19:54:50.955Z"
   },
   {
    "duration": 89,
    "start_time": "2022-07-25T19:54:52.151Z"
   },
   {
    "duration": 5,
    "start_time": "2022-07-25T19:54:53.245Z"
   },
   {
    "duration": 13,
    "start_time": "2022-07-25T19:54:55.195Z"
   },
   {
    "duration": 6,
    "start_time": "2022-07-25T19:55:05.243Z"
   },
   {
    "duration": 12,
    "start_time": "2022-07-25T19:55:06.256Z"
   },
   {
    "duration": 5,
    "start_time": "2022-07-25T19:55:07.137Z"
   },
   {
    "duration": 7,
    "start_time": "2022-07-25T19:55:07.768Z"
   },
   {
    "duration": 14,
    "start_time": "2022-07-25T19:55:08.878Z"
   },
   {
    "duration": 7,
    "start_time": "2022-07-25T19:55:09.707Z"
   },
   {
    "duration": 10,
    "start_time": "2022-07-25T19:55:10.915Z"
   },
   {
    "duration": 11,
    "start_time": "2022-07-25T19:55:12.187Z"
   },
   {
    "duration": 127,
    "start_time": "2022-07-25T19:55:14.196Z"
   },
   {
    "duration": 73,
    "start_time": "2022-07-25T19:55:15.428Z"
   },
   {
    "duration": 23,
    "start_time": "2022-07-25T19:55:26.316Z"
   },
   {
    "duration": 127,
    "start_time": "2022-07-25T19:55:30.393Z"
   },
   {
    "duration": 34,
    "start_time": "2022-07-25T19:56:36.278Z"
   },
   {
    "duration": 8,
    "start_time": "2022-07-25T19:57:28.997Z"
   },
   {
    "duration": 8,
    "start_time": "2022-07-25T19:58:03.103Z"
   },
   {
    "duration": 7,
    "start_time": "2022-07-25T19:58:34.055Z"
   },
   {
    "duration": 18,
    "start_time": "2022-07-25T20:00:47.415Z"
   },
   {
    "duration": 177,
    "start_time": "2022-07-25T20:01:55.153Z"
   },
   {
    "duration": 871,
    "start_time": "2022-07-25T20:02:09.278Z"
   },
   {
    "duration": 4,
    "start_time": "2022-07-25T20:02:12.816Z"
   },
   {
    "duration": 337,
    "start_time": "2022-07-25T20:02:13.916Z"
   },
   {
    "duration": 17,
    "start_time": "2022-07-25T20:02:14.675Z"
   },
   {
    "duration": 5,
    "start_time": "2022-07-25T20:02:15.576Z"
   },
   {
    "duration": 109,
    "start_time": "2022-07-25T20:02:22.395Z"
   },
   {
    "duration": 5,
    "start_time": "2022-07-25T20:02:26.348Z"
   },
   {
    "duration": 9065,
    "start_time": "2022-07-25T20:02:32.275Z"
   },
   {
    "duration": 130771,
    "start_time": "2022-07-25T20:02:58.417Z"
   },
   {
    "duration": 72281,
    "start_time": "2022-07-25T20:05:41.556Z"
   },
   {
    "duration": 44,
    "start_time": "2022-07-25T20:07:09.258Z"
   },
   {
    "duration": 58,
    "start_time": "2022-07-25T20:08:57.844Z"
   },
   {
    "duration": 255,
    "start_time": "2022-07-25T20:09:01.037Z"
   },
   {
    "duration": 187,
    "start_time": "2022-07-25T20:10:10.415Z"
   },
   {
    "duration": 128,
    "start_time": "2022-07-25T20:12:57.743Z"
   },
   {
    "duration": 129,
    "start_time": "2022-07-25T20:12:58.642Z"
   },
   {
    "duration": 116,
    "start_time": "2022-07-25T20:12:58.773Z"
   },
   {
    "duration": 110,
    "start_time": "2022-07-25T20:12:58.955Z"
   },
   {
    "duration": 136,
    "start_time": "2022-07-25T20:12:59.103Z"
   },
   {
    "duration": 129,
    "start_time": "2022-07-25T20:12:59.275Z"
   },
   {
    "duration": 192,
    "start_time": "2022-07-25T20:12:59.428Z"
   },
   {
    "duration": 118,
    "start_time": "2022-07-25T20:12:59.622Z"
   },
   {
    "duration": 125,
    "start_time": "2022-07-25T20:12:59.742Z"
   },
   {
    "duration": 116,
    "start_time": "2022-07-25T20:12:59.917Z"
   },
   {
    "duration": 120,
    "start_time": "2022-07-25T20:13:00.095Z"
   },
   {
    "duration": 124,
    "start_time": "2022-07-25T20:13:00.251Z"
   },
   {
    "duration": 147,
    "start_time": "2022-07-25T20:13:00.427Z"
   },
   {
    "duration": 110,
    "start_time": "2022-07-25T20:13:00.649Z"
   },
   {
    "duration": 124,
    "start_time": "2022-07-25T20:13:01.187Z"
   },
   {
    "duration": 121,
    "start_time": "2022-07-25T20:13:01.795Z"
   },
   {
    "duration": 922,
    "start_time": "2022-07-25T20:13:02.255Z"
   },
   {
    "duration": 106,
    "start_time": "2022-07-25T20:13:03.179Z"
   },
   {
    "duration": 1183,
    "start_time": "2022-07-26T04:24:26.781Z"
   },
   {
    "duration": 639,
    "start_time": "2022-07-26T04:24:27.967Z"
   },
   {
    "duration": 43,
    "start_time": "2022-07-26T04:24:28.607Z"
   },
   {
    "duration": 152,
    "start_time": "2022-07-26T04:24:28.652Z"
   },
   {
    "duration": 448,
    "start_time": "2022-07-26T04:24:28.806Z"
   },
   {
    "duration": 142,
    "start_time": "2022-07-26T04:24:29.256Z"
   },
   {
    "duration": 120,
    "start_time": "2022-07-26T04:24:29.400Z"
   },
   {
    "duration": 18,
    "start_time": "2022-07-26T04:24:29.521Z"
   },
   {
    "duration": 19,
    "start_time": "2022-07-26T04:24:29.541Z"
   },
   {
    "duration": 7,
    "start_time": "2022-07-26T04:24:29.562Z"
   },
   {
    "duration": 29,
    "start_time": "2022-07-26T04:24:29.571Z"
   },
   {
    "duration": 7,
    "start_time": "2022-07-26T04:24:29.601Z"
   },
   {
    "duration": 35,
    "start_time": "2022-07-26T04:24:29.609Z"
   },
   {
    "duration": 23,
    "start_time": "2022-07-26T04:24:29.645Z"
   },
   {
    "duration": 8,
    "start_time": "2022-07-26T04:24:29.670Z"
   },
   {
    "duration": 15,
    "start_time": "2022-07-26T04:24:29.679Z"
   },
   {
    "duration": 12,
    "start_time": "2022-07-26T04:24:29.696Z"
   },
   {
    "duration": 147,
    "start_time": "2022-07-26T04:24:29.709Z"
   },
   {
    "duration": 81,
    "start_time": "2022-07-26T04:24:29.858Z"
   },
   {
    "duration": 29,
    "start_time": "2022-07-26T04:24:29.940Z"
   },
   {
    "duration": 218,
    "start_time": "2022-07-26T04:24:29.971Z"
   },
   {
    "duration": 989,
    "start_time": "2022-07-26T04:24:30.191Z"
   },
   {
    "duration": 5,
    "start_time": "2022-07-26T04:24:31.181Z"
   },
   {
    "duration": 381,
    "start_time": "2022-07-26T04:24:31.188Z"
   },
   {
    "duration": 18,
    "start_time": "2022-07-26T04:24:31.571Z"
   },
   {
    "duration": 5,
    "start_time": "2022-07-26T04:24:31.591Z"
   },
   {
    "duration": 141,
    "start_time": "2022-07-26T04:24:31.598Z"
   },
   {
    "duration": 7,
    "start_time": "2022-07-26T04:24:31.744Z"
   },
   {
    "duration": 10217,
    "start_time": "2022-07-26T04:24:31.753Z"
   },
   {
    "duration": 149879,
    "start_time": "2022-07-26T04:24:41.972Z"
   },
   {
    "duration": 79513,
    "start_time": "2022-07-26T04:27:11.853Z"
   },
   {
    "duration": 75,
    "start_time": "2022-07-26T04:28:31.368Z"
   },
   {
    "duration": 106,
    "start_time": "2022-07-26T04:28:31.445Z"
   },
   {
    "duration": 376,
    "start_time": "2022-07-26T04:28:31.637Z"
   },
   {
    "duration": 208,
    "start_time": "2022-07-26T04:28:32.017Z"
   },
   {
    "duration": 144,
    "start_time": "2022-07-26T04:28:32.226Z"
   },
   {
    "duration": 145,
    "start_time": "2022-07-26T04:28:32.372Z"
   },
   {
    "duration": 139,
    "start_time": "2022-07-26T04:28:32.530Z"
   },
   {
    "duration": 136,
    "start_time": "2022-07-26T04:28:32.670Z"
   },
   {
    "duration": 162,
    "start_time": "2022-07-26T04:28:32.807Z"
   },
   {
    "duration": 141,
    "start_time": "2022-07-26T04:28:32.971Z"
   },
   {
    "duration": 132,
    "start_time": "2022-07-26T04:28:33.113Z"
   },
   {
    "duration": 125,
    "start_time": "2022-07-26T04:28:33.247Z"
   },
   {
    "duration": 129,
    "start_time": "2022-07-26T04:28:33.373Z"
   },
   {
    "duration": 138,
    "start_time": "2022-07-26T04:28:33.504Z"
   },
   {
    "duration": 129,
    "start_time": "2022-07-26T04:28:33.644Z"
   },
   {
    "duration": 145,
    "start_time": "2022-07-26T04:28:33.775Z"
   },
   {
    "duration": 237,
    "start_time": "2022-07-26T04:28:33.922Z"
   },
   {
    "duration": 134,
    "start_time": "2022-07-26T04:28:34.161Z"
   },
   {
    "duration": 148,
    "start_time": "2022-07-26T04:28:34.297Z"
   },
   {
    "duration": 134,
    "start_time": "2022-07-26T04:28:34.447Z"
   },
   {
    "duration": 917,
    "start_time": "2022-07-26T04:28:34.583Z"
   },
   {
    "duration": 117,
    "start_time": "2022-07-26T04:28:35.502Z"
   },
   {
    "duration": 7,
    "start_time": "2022-07-26T04:37:14.288Z"
   },
   {
    "duration": 4,
    "start_time": "2022-07-26T04:37:21.896Z"
   },
   {
    "duration": 6,
    "start_time": "2022-07-26T04:37:43.204Z"
   },
   {
    "duration": 109,
    "start_time": "2022-07-26T04:39:41.890Z"
   },
   {
    "duration": 6,
    "start_time": "2022-07-26T04:39:47.718Z"
   },
   {
    "duration": 5,
    "start_time": "2022-07-26T04:40:41.040Z"
   },
   {
    "duration": 4,
    "start_time": "2022-07-26T04:50:55.206Z"
   },
   {
    "duration": 4,
    "start_time": "2022-07-26T04:51:06.163Z"
   },
   {
    "duration": 4,
    "start_time": "2022-07-26T04:51:33.723Z"
   },
   {
    "duration": 1194,
    "start_time": "2022-07-26T04:53:56.445Z"
   },
   {
    "duration": 271,
    "start_time": "2022-07-26T04:53:57.641Z"
   },
   {
    "duration": 54,
    "start_time": "2022-07-26T04:53:57.914Z"
   },
   {
    "duration": 169,
    "start_time": "2022-07-26T04:53:57.971Z"
   },
   {
    "duration": 441,
    "start_time": "2022-07-26T04:53:58.142Z"
   },
   {
    "duration": 146,
    "start_time": "2022-07-26T04:53:58.584Z"
   },
   {
    "duration": 129,
    "start_time": "2022-07-26T04:53:58.737Z"
   },
   {
    "duration": 12,
    "start_time": "2022-07-26T04:53:58.868Z"
   },
   {
    "duration": 30,
    "start_time": "2022-07-26T04:53:58.882Z"
   },
   {
    "duration": 25,
    "start_time": "2022-07-26T04:53:58.917Z"
   },
   {
    "duration": 23,
    "start_time": "2022-07-26T04:53:58.944Z"
   },
   {
    "duration": 28,
    "start_time": "2022-07-26T04:53:58.969Z"
   },
   {
    "duration": 23,
    "start_time": "2022-07-26T04:53:58.999Z"
   },
   {
    "duration": 23,
    "start_time": "2022-07-26T04:53:59.025Z"
   },
   {
    "duration": 14,
    "start_time": "2022-07-26T04:53:59.049Z"
   },
   {
    "duration": 21,
    "start_time": "2022-07-26T04:53:59.066Z"
   },
   {
    "duration": 15,
    "start_time": "2022-07-26T04:53:59.090Z"
   },
   {
    "duration": 176,
    "start_time": "2022-07-26T04:53:59.108Z"
   },
   {
    "duration": 85,
    "start_time": "2022-07-26T04:53:59.286Z"
   },
   {
    "duration": 28,
    "start_time": "2022-07-26T04:53:59.372Z"
   },
   {
    "duration": 221,
    "start_time": "2022-07-26T04:53:59.402Z"
   },
   {
    "duration": 988,
    "start_time": "2022-07-26T04:53:59.625Z"
   },
   {
    "duration": 5,
    "start_time": "2022-07-26T04:54:00.615Z"
   },
   {
    "duration": 380,
    "start_time": "2022-07-26T04:54:00.622Z"
   },
   {
    "duration": 19,
    "start_time": "2022-07-26T04:54:01.004Z"
   },
   {
    "duration": 6,
    "start_time": "2022-07-26T04:54:01.036Z"
   },
   {
    "duration": 135,
    "start_time": "2022-07-26T04:54:01.044Z"
   },
   {
    "duration": 10,
    "start_time": "2022-07-26T04:54:01.180Z"
   },
   {
    "duration": 10313,
    "start_time": "2022-07-26T04:54:01.191Z"
   },
   {
    "duration": 148095,
    "start_time": "2022-07-26T04:54:11.505Z"
   },
   {
    "duration": 79854,
    "start_time": "2022-07-26T04:56:39.602Z"
   },
   {
    "duration": 81,
    "start_time": "2022-07-26T04:57:59.458Z"
   },
   {
    "duration": 106,
    "start_time": "2022-07-26T04:57:59.541Z"
   },
   {
    "duration": 374,
    "start_time": "2022-07-26T04:57:59.650Z"
   },
   {
    "duration": 206,
    "start_time": "2022-07-26T04:58:00.025Z"
   },
   {
    "duration": 155,
    "start_time": "2022-07-26T04:58:00.233Z"
   },
   {
    "duration": 150,
    "start_time": "2022-07-26T04:58:00.389Z"
   },
   {
    "duration": 143,
    "start_time": "2022-07-26T04:58:00.541Z"
   },
   {
    "duration": 136,
    "start_time": "2022-07-26T04:58:00.686Z"
   },
   {
    "duration": 148,
    "start_time": "2022-07-26T04:58:00.824Z"
   },
   {
    "duration": 149,
    "start_time": "2022-07-26T04:58:00.976Z"
   },
   {
    "duration": 134,
    "start_time": "2022-07-26T04:58:01.127Z"
   },
   {
    "duration": 145,
    "start_time": "2022-07-26T04:58:01.263Z"
   },
   {
    "duration": 144,
    "start_time": "2022-07-26T04:58:01.411Z"
   },
   {
    "duration": 135,
    "start_time": "2022-07-26T04:58:01.557Z"
   },
   {
    "duration": 127,
    "start_time": "2022-07-26T04:58:01.693Z"
   },
   {
    "duration": 224,
    "start_time": "2022-07-26T04:58:01.822Z"
   },
   {
    "duration": 161,
    "start_time": "2022-07-26T04:58:02.047Z"
   },
   {
    "duration": 132,
    "start_time": "2022-07-26T04:58:02.209Z"
   },
   {
    "duration": 158,
    "start_time": "2022-07-26T04:58:02.342Z"
   },
   {
    "duration": 193,
    "start_time": "2022-07-26T04:58:02.502Z"
   },
   {
    "duration": 925,
    "start_time": "2022-07-26T04:58:02.697Z"
   },
   {
    "duration": 122,
    "start_time": "2022-07-26T04:58:03.623Z"
   },
   {
    "duration": 7,
    "start_time": "2022-07-26T05:03:18.934Z"
   }
  ],
  "kernelspec": {
   "display_name": "Python 3 (ipykernel)",
   "language": "python",
   "name": "python3"
  },
  "language_info": {
   "codemirror_mode": {
    "name": "ipython",
    "version": 3
   },
   "file_extension": ".py",
   "mimetype": "text/x-python",
   "name": "python",
   "nbconvert_exporter": "python",
   "pygments_lexer": "ipython3",
   "version": "3.9.5"
  },
  "toc": {
   "base_numbering": 1,
   "nav_menu": {},
   "number_sections": true,
   "sideBar": true,
   "skip_h1_title": true,
   "title_cell": "Table of Contents",
   "title_sidebar": "Contents",
   "toc_cell": false,
   "toc_position": {},
   "toc_section_display": true,
   "toc_window_display": false
  }
 },
 "nbformat": 4,
 "nbformat_minor": 2
}
